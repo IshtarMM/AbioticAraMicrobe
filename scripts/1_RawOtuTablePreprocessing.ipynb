{
 "cells": [
  {
   "cell_type": "markdown",
   "metadata": {},
   "source": [
    "### Open otu tables and merge them with metadata file and remove 0 read samples, remove some of the Otus which taxonomicaly are not fine.\n",
    "\n",
    "---"
   ]
  },
  {
   "cell_type": "code",
   "execution_count": 2,
   "metadata": {},
   "outputs": [],
   "source": [
    "\n",
    "#setworking directory to AbioticAraMicrobe/\n",
    "setwd('../')"
   ]
  },
  {
   "cell_type": "code",
   "execution_count": 3,
   "metadata": {},
   "outputs": [
    {
     "name": "stderr",
     "output_type": "stream",
     "text": [
      "\n",
      "Attaching package: ‘dplyr’\n",
      "\n",
      "\n",
      "The following objects are masked from ‘package:stats’:\n",
      "\n",
      "    filter, lag\n",
      "\n",
      "\n",
      "The following objects are masked from ‘package:base’:\n",
      "\n",
      "    intersect, setdiff, setequal, union\n",
      "\n",
      "\n"
     ]
    }
   ],
   "source": [
    "#load packages\n",
    "library(dplyr)\n",
    "library(tidyr)"
   ]
  },
  {
   "cell_type": "code",
   "execution_count": 12,
   "metadata": {},
   "outputs": [],
   "source": [
    "dir.create(\"data/DataClean\")"
   ]
  },
  {
   "cell_type": "markdown",
   "metadata": {},
   "source": [
    "#### Bacterial table preprocessing\n"
   ]
  },
  {
   "cell_type": "code",
   "execution_count": 17,
   "metadata": {},
   "outputs": [
    {
     "name": "stderr",
     "output_type": "stream",
     "text": [
      "Warning message:\n",
      "“Expected 8 pieces. Missing pieces filled with `NA` in 5621 rows [1, 2, 3, 4, 5, 6, 7, 8, 9, 10, 11, 12, 13, 14, 15, 16, 17, 18, 19, 20, ...].”\n"
     ]
    },
    {
     "name": "stdout",
     "output_type": "stream",
     "text": [
      "[1] \"done!\"\n"
     ]
    }
   ],
   "source": [
    "#---------------------------------------------------------------------------------------------\n",
    "#Bacteria\n",
    "Otu = read.table(\"data/MothurOutput/BV5Otu.txt\", header = T , check.names = F , stringsAsFactors = F)\n",
    "taxa = read.table(\"data/MothurOutput/BV5Taxa.txt\", header = T , check.names = F , stringsAsFactors = F)\n",
    "taxa$Taxonomy = gsub(\"\\\\s*\\\\([^\\\\)]+\\\\)\",\"\",as.character(taxa$Taxonomy))\n",
    "otu_taxa <- taxa %>% separate(\"Taxonomy\" , c(\"Kingdom\" , \"Phylum\" , \"Class\" , \"Order\" , \"Family\" , \"Genus\" ,\"Species\" , \"Strain\" ) , \";\" , remove = FALSE)\n",
    "Unclassifiedotus = subset(otu_taxa,otu_taxa$Kingdom==\"Eukaryota\" | otu_taxa$Phylum==\"Bacteria_unclassified\" | otu_taxa$Family==\"Mitochondria\") #remove all the otus tat are not classified in phylum level from taxonomy table\n",
    "Otu1 = Otu[,!(colnames(Otu) %in% Unclassifiedotus$OTU)] #remove remove all the otus tat are not classified in phylum level from otu table\n",
    "sampleinfo <- read.table(\"data/metadata.txt\" , header = T , check.names = F , stringsAsFactors = F) # mapping file containes informatio about data, lab part\n",
    "#---------------------------------------------------------------------------------------------\n",
    "Otu2 <- Otu1%>%separate(\"Group\" , c(\"Loci\" , \"LibM\") , remove = FALSE)\n",
    "Otu2 = merge(Otu2,sampleinfo[c(\"Lib\",\"Samplenumber\")] , by.x = \"LibM\" , by.y = \"Lib\")\n",
    "sam_otu <- Otu2[,-c(1:5)]\n",
    "sam_otu1 = aggregate(. ~  Samplenumber, data = sam_otu, sum)  #some samples are repeted in the lab because of low concentration of DNA so we merged them\n",
    "#sample\n",
    "sample = sampleinfo[!duplicated(sampleinfo$Samplenumber) , ]  # now remoe duplate sample names\n",
    "rownames(sample) <- sample$Samplenumber\n",
    "rownames(sam_otu1) <- sam_otu1$Samplenumber\n",
    "sam_otu2 = sam_otu1[-1]\n",
    "#select and save 0 read samples\n",
    "sam_lessReads = sam_otu2[rowSums(sam_otu2)==0,]\n",
    "sam_lessReads1 = merge(x =sam_lessReads[,c(1,ncol(sam_lessReads))] , y=sample , by.x=\"row.names\",by.y=\"row.names\")\n",
    "sam_lessReads1  = sam_lessReads1[,-c(2,2)]\n",
    "#remove 0 read samples\n",
    "sam_otu2 = sam_otu2[!rowSums(sam_otu2)==0,] # use this table for Ra log10 and raw reads saving info\n",
    "#save abundance tabke with samples using sam_otu2\n",
    "sample1 = sample[(sample$Samplenumber %in% rownames(sam_otu2)),]\n",
    "rownames(sample1) <- sample1$Samplenumber\n",
    "####\n",
    "sam_otu3 = cbind(TotalReads=rowSums(sam_otu2),numOTUs=ncol(sam_otu2),sam_otu2)\n",
    "cleansam_otu = merge(x = sample1,y = sam_otu3 , by= \"row.names\")\n",
    "cleansam_otu = cleansam_otu[-1] ##after removing unclassified otu st phylum level and samples with less than 100 reads\n",
    "cleansam_otu = cleansam_otu[order(cleansam_otu$TotalReads,decreasing = TRUE),]\n",
    "taxonomy = otu_taxa[(otu_taxa$OTU %in% colnames(sam_otu3)),]\n",
    "taxonomy = taxonomy[-ncol(taxonomy)]\n",
    "taxonomy$Species = \"unknown\"\n",
    "write.table(cleansam_otu,file = \"Data/DataClean/BV5Otu.txt\",quote = FALSE,sep = \"\\t\",row.names = FALSE)\n",
    "write.table(taxonomy,file = \"Data/DataClean/BV5Taxa.txt\",quote = FALSE , sep = \"\\t\" , row.names = FALSE)\n",
    "#write.table(sam_lessReads1,file = \"Data/DataClean/BV5readsamples.txt\",quote = FALSE , sep = \"\\t\" , row.names = FALSE)\n",
    "#write.table(Unclassifiedotus,file = \"Data/DataClean/BV5Unclaasified.txt\",quote = FALSE , sep = \"\\t\" , row.names = FALSE)\n",
    "print('done!')"
   ]
  },
  {
   "cell_type": "markdown",
   "metadata": {},
   "source": [
    "#### Eucaryotes table preprocessing"
   ]
  },
  {
   "cell_type": "code",
   "execution_count": 16,
   "metadata": {},
   "outputs": [
    {
     "name": "stdout",
     "output_type": "stream",
     "text": [
      "[1] \"done!\"\n"
     ]
    }
   ],
   "source": [
    "#------------------------------------------------------------------------------------------------\n",
    "#PrV9\n",
    "Otu = read.table(\"data/MothurOutput/PrV9Otu.txt\", header = T , check.names = F , stringsAsFactors = F)\n",
    "taxa = read.table(\"data/MothurOutput/PrV9Taxa.txt\", header = T , check.names = F , stringsAsFactors = F)\n",
    "taxa$Taxonomy = gsub(\"\\\\s*\\\\([^\\\\)]+\\\\)\",\"\",as.character(taxa$Taxonomy))\n",
    "otu_taxa <- taxa %>% separate(\"Taxonomy\" , c(\"Domain\",\"Kingdom\" , \"Phylum\" , \"Class\" , \"Order\" , \"Family\" , \"Genus\" ,\"Species\" , \"Strain\" ) , \";\" , remove = FALSE)\n",
    "Unclassifiedotus = subset(otu_taxa, Phylum==\"Metazoa\"  | Phylum==\"Fungi\" | Kingdom==\"Eukaryota_unclassified\") #remove all the otus tat are not classified in phylum level from taxonomy table\n",
    "Otu1 = Otu[,!(colnames(Otu) %in% Unclassifiedotus$OTU)] #remove remove all the otus tat are not classified in phylum level from otu table\n",
    "sampleinfo <- read.table(\"data/metadata.txt\" , header = T , check.names = F , stringsAsFactors = F) # mapping file containes informatio about data, lab part\n",
    "#---------------------------------------------------------------------------------------------\n",
    "\n",
    "Otu2 <- Otu1%>%separate(\"Group\" , c(\"Loci\" , \"LibM\") , remove = FALSE)\n",
    "Otu2 = merge(Otu2,sampleinfo[c(\"Lib\",\"Samplenumber\")] , by.x = \"LibM\" , by.y = \"Lib\")\n",
    "\n",
    "sam_otu <- Otu2[,-c(1:5)]\n",
    "sam_otu1 = aggregate(. ~  Samplenumber, data = sam_otu, sum)  #some samples are repeted in the lab because of low concentration of DNA so we merged them\n",
    "#sample\n",
    "sample = sampleinfo[!duplicated(sampleinfo$Samplenumber) , ]  # now remoe duplate sample names\n",
    "rownames(sample) <- sample$Samplenumber\n",
    "rownames(sam_otu1) <- sam_otu1$Samplenumber\n",
    "sam_otu2 = sam_otu1[-1]\n",
    "#select and save 0 read samples\n",
    "sam_lessReads = sam_otu2[rowSums(sam_otu2)==0,]\n",
    "sam_lessReads1 = merge(x =sam_lessReads[,c(1,ncol(sam_lessReads))] , y=sample , by.x=\"row.names\",by.y=\"row.names\")\n",
    "sam_lessReads1  = sam_lessReads1[,-c(2,2)]\n",
    "#remove 0 read samples\n",
    "sam_otu2 = sam_otu2[!rowSums(sam_otu2)==0,] # use this table for Ra log10 and raw reads saving info\n",
    "#save abundance tabke with samples using sam_otu2\n",
    "sample1 = sample[(sample$Samplenumber %in% rownames(sam_otu2)),]\n",
    "rownames(sample1) <- sample1$Samplenumber\n",
    "####\n",
    "sam_otu3 = cbind(TotalReads=rowSums(sam_otu2),numOTUs=ncol(sam_otu2),sam_otu2)\n",
    "cleansam_otu = merge(x = sample1,y = sam_otu3 , by= \"row.names\")\n",
    "cleansam_otu = cleansam_otu[-1] ##after removing unclassified otu st phylum level and samples with less than 100 reads\n",
    "cleansam_otu = cleansam_otu[order(cleansam_otu$TotalReads,decreasing = TRUE),]\n",
    "taxonomy = otu_taxa[(otu_taxa$OTU %in% colnames(sam_otu3)),]\n",
    "taxonomy = taxonomy[-ncol(taxonomy)]\n",
    "write.table(cleansam_otu,file = \"Data/DataClean/PV9Otu.txt\",quote = FALSE,sep = \"\\t\",row.names = FALSE)\n",
    "write.table(taxonomy,file = \"Data/DataClean/PV9Taxa.txt\",quote = FALSE , sep = \"\\t\" , row.names = FALSE)\n",
    "#write.table(sam_lessReads1,file = \"Data/DataClean/PV9_0readsamples.txt\",quote = FALSE , sep = \"\\t\" , row.names = FALSE)\n",
    "#write.table(Unclassifiedotus,file = \"Data/DataClean/PV9Unclaasified.txt\",quote = FALSE , sep = \"\\t\" , row.names = FALSE)\n",
    "print('done!')"
   ]
  },
  {
   "cell_type": "markdown",
   "metadata": {},
   "source": [
    "\n",
    "#### Fungal table preprocessing\n"
   ]
  },
  {
   "cell_type": "code",
   "execution_count": 19,
   "metadata": {},
   "outputs": [
    {
     "name": "stdout",
     "output_type": "stream",
     "text": [
      "[1] \"done!\"\n"
     ]
    }
   ],
   "source": [
    "Otu = read.table(\"data/MothurOutput/FITS2Otu.txt\", header = T , check.names = F , stringsAsFactors = F)\n",
    "taxa = read.table(\"data/MothurOutput/FITS2Taxa.txt\", header = T , check.names = F , stringsAsFactors = F)\n",
    "taxa$Taxonomy = gsub(\"\\\\s*\\\\([^\\\\)]+\\\\)\",\"\",as.character(taxa$Taxonomy))\n",
    "otu_taxa <- taxa %>% separate(\"Taxonomy\" , c(\"Kingdom\" , \"Phylum\" , \"Class\" , \"Order\" , \"Family\" , \"Genus\" ,\"Species\" , \"Strain\" ) , \";\" , remove = FALSE)\n",
    "Unclassifiedotus = subset(otu_taxa,otu_taxa$Phylum==\"k__Fungi_unclassified\" | otu_taxa$Phylum==\"p__unclassified_Fungi\") #remove all the otus tat are not classified in phylum level from taxonomy table\n",
    "Otu1 = Otu[,!(colnames(Otu) %in% Unclassifiedotus$OTU)] #remove remove all the otus tat are not classified in phylum level from otu table\n",
    "#Otu1 = Otu\n",
    "sampleinfo <- read.table(\"data/metadata.txt\" , header = T , check.names = F , stringsAsFactors = F) # mapping file containes informatio about data, lab part\n",
    "#---------------------------------------------------------------------------------------------\n",
    "Otu2 <- Otu1%>%separate(\"Group\" , c(\"Loci\" , \"LibM\") , remove = FALSE)\n",
    "Otu2 = merge(Otu2,sampleinfo[c(\"Lib\",\"Samplenumber\")] , by.x = \"LibM\" , by.y = \"Lib\")\n",
    "sam_otu <- Otu2[,-c(1:5)]\n",
    "sam_otu1 = aggregate(. ~  Samplenumber, data = sam_otu, sum)  #some samples are repeted in the lab because of low concentration of DNA so we merged them\n",
    "#sample\n",
    "sample = sampleinfo[!duplicated(sampleinfo$Samplenumber) , ]  # now remoe duplate sample names\n",
    "rownames(sample) <- sample$Samplenumber\n",
    "rownames(sam_otu1) <- sam_otu1$Samplenumber\n",
    "sam_otu2 = sam_otu1[-1]\n",
    "#select and save 0 read samples\n",
    "sam_lessReads = sam_otu2[rowSums(sam_otu2)==0,]\n",
    "sam_lessReads1 = merge(x =sam_lessReads[,c(1,ncol(sam_lessReads))] , y=sample , by.x=\"row.names\",by.y=\"row.names\")\n",
    "sam_lessReads1  = sam_lessReads1[,-c(2,2)]\n",
    "#remove 0 read samples\n",
    "sam_otu2 = sam_otu2[!rowSums(sam_otu2)==0,] # use this table for Ra log10 and raw reads saving info\n",
    "#save abundance tabke with samples using sam_otu2\n",
    "sample1 = sample[(sample$Samplenumber %in% rownames(sam_otu2)),]\n",
    "rownames(sample1) <- sample1$Samplenumber\n",
    "####\n",
    "sam_otu3 = cbind(TotalReads=rowSums(sam_otu2),numOTUs=ncol(sam_otu2),sam_otu2)\n",
    "cleansam_otu = merge(x = sample1,y = sam_otu3 , by= \"row.names\")\n",
    "cleansam_otu = cleansam_otu[-1] ##after removing unclassified otu st phylum level and samples with less than 100 reads\n",
    "cleansam_otu = cleansam_otu[order(cleansam_otu$TotalReads,decreasing = TRUE),]\n",
    "taxonomy = otu_taxa[(otu_taxa$OTU %in% colnames(sam_otu3)),]\n",
    "taxonomy = taxonomy[-ncol(taxonomy)]\n",
    "write.table(cleansam_otu,file = \"Data/DataClean/FITS2Otu.txt\",quote = FALSE,sep = \"\\t\",row.names = FALSE)\n",
    "write.table(taxonomy,file = \"Data/DataClean/FITS2Taxa.txt\",quote = FALSE , sep = \"\\t\" , row.names = FALSE)\n",
    "#write.table(sam_lessReads1,file = \"Data/DataClean/FITS2_0readsamples.txt\",quote = FALSE , sep = \"\\t\" , row.names = FALSE)\n",
    "#write.table(Unclassifiedotus,file = \"Data/DataClean/FITS2Unclaasified.txt\",quote = FALSE , sep = \"\\t\" , row.names = FALSE)\n",
    "\n",
    "print('done!')"
   ]
  }
 ],
 "metadata": {
  "kernelspec": {
   "display_name": "R",
   "language": "R",
   "name": "ir"
  },
  "language_info": {
   "codemirror_mode": "r",
   "file_extension": ".r",
   "mimetype": "text/x-r-source",
   "name": "R",
   "pygments_lexer": "r",
   "version": "4.1.2"
  }
 },
 "nbformat": 4,
 "nbformat_minor": 4
}
