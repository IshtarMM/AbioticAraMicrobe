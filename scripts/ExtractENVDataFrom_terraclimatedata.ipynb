{
 "cells": [
  {
   "cell_type": "markdown",
   "id": "ac6b9c5a-8920-43d8-9ea3-5e74f0e3d097",
   "metadata": {},
   "source": [
    "### environmental data used in this research (data/environmental_data) are downloaded from TerraClimete \n",
    "https://www.climatologylab.org/terraclimate.html\n",
    "#download data from TerraClimete \n",
    "https://www.climatologylab.org/terraclimate.html\n",
    "\n",
    "---\n",
    "### there are different ways how to it, I first made a bash file in the website (https://www.climatologylab.org/wget-terraclimate.html) for  years of interest. then i run the bash in my laptop (see bash file in data/terraclimatedata/  terraclimate_wget-2.sh). \n",
    "then following R script used to extracted the \"sampling locations\" that i needs Latitude and longitude of locations are needed)\n",
    "\n",
    "### name and scales of environmental factors: https://www.climatologylab.org/terraclimate-variables.html\n",
    "aet (Actual Evapotranspiration, monthly total), units = mm\n",
    "\n",
    "def (Climate Water Deficit, monthly total), units = mm\n",
    "\n",
    "pet (Potential evapotranspiration, monthly total), units = mm\n",
    "ppt (Precipitation, monthly total), units = mm\n",
    "q (Runoff, monthly total), units = mm\n",
    "soil (Soil Moisture, total column - at end of month), units = mm\n",
    "srad (Downward surface shortwave radiation), units = W/m2\n",
    "swe (Snow water equivalent - at end of month), units = mm\n",
    "tmax (Max Temperature, average for month), units = C\n",
    "tmin (Min Temperature, average for month), units = C\n",
    "vap (Vapor pressure, average for month), units  = kPa\n",
    "ws (Wind speed, average for month), units = m/s\n",
    "vpd (Vapor Pressure Deficit, average for month), units = kpa\n",
    "PDSI (Palmer Drought Severity Index, at end of month), units = unitless"
   ]
  },
  {
   "cell_type": "markdown",
   "id": "c5c2cc4a-8212-4f73-96a3-c6df0c9c43a0",
   "metadata": {},
   "source": [
    "---\n",
    "### extract data for all the moth of the years from 2014 to 2022 of the sampling sites(6 sites , by latitude and longitude , then subset for the month of the sampling)"
   ]
  },
  {
   "cell_type": "markdown",
   "id": "c835ab29-699c-44dc-8096-8c2af4e9f16c",
   "metadata": {},
   "source": [
    "## map of sampling sites\n",
    "\n",
    "Here are the sites with map links, \n",
    "JUG \n",
    "https://goo.gl/maps/NjyxPrgdRwKtzqL96\n",
    "48°33'22.5\"N 9°08'07.0\"E\n",
    "Hofgut Einsiedel 11, 72138 Kirchentellinsfurt\n",
    "\n",
    "K6911\n",
    "https://goo.gl/maps/gPJsXQ6m52aurHEq7\n",
    "\n",
    "PFN\n",
    "48°33'39.3\"N 9°06'32.4\"E\n",
    "48.560928, 9.108996\n",
    "https://goo.gl/maps/ECAAK3XK95ewzQJU9\n",
    "\n",
    "ERG\n",
    "https://goo.gl/maps/apwT4SyMawnWN3cK9\n",
    "\n",
    "EYACH\n",
    "https://goo.gl/maps/zdvBCtkxx4JkaDWx7\n",
    "\n",
    "Wendelsheim\n",
    "https://goo.gl/maps/wgfvWpAsDaTFkzcP7\n"
   ]
  },
  {
   "cell_type": "code",
   "execution_count": 14,
   "id": "893bbbb3-e30e-41ca-b2d0-39def9e4fcbd",
   "metadata": {},
   "outputs": [],
   "source": [
    "#setworking directory to AbioticAraMicrobe/data/terraclimatedata\n",
    "setwd('../data/terraclimatedata')"
   ]
  },
  {
   "cell_type": "code",
   "execution_count": 14,
   "id": "65c85942-fd5f-4817-95da-538eab3760c6",
   "metadata": {},
   "outputs": [],
   "source": [
    "library(raster)\n",
    "# read all the environmental files in .nc format for years 2014-2021(8 years * 14 environmentalfactors = 112)\n",
    "# (later we only used until 2019)\n",
    "files <- list.files(path = \".\" , pattern = \"*.nc\" , full.names = TRUE) #nc files\n",
    "site <- c(\"JUG\", \"K69\", \"PFN\", \"ERG\" ,\"EY\" , \"WH\" ) #locations\n",
    "lon <- c(9.135278,  9.1008673, 9.108996, 8.809256 ,8.7834256 , 8.9350829 ) # longitudes of locations\n",
    "lat <- c(48.556250,  48.5453195, 48.560928, 48.495249 , 48.4462842, 48.5063677) # Latitudes of locations\n",
    "\n",
    "###next lines take around 30 min to read 112 .nc files do it once and save the file and read it every time that you need\n",
    "\n",
    "all_data <- data.frame()\n",
    "for (i in files){\n",
    "    file <- stack(i)  \n",
    "    points <- data.frame(site, lon, lat , row.names=\"site\")\n",
    "    ##Extract data from RasterLayer\n",
    "    extract_points <- data.frame(extract(file, points))\n",
    "    colnames(extract_points) = c(1:12) #months of year\n",
    "    extract_points$site <- site\n",
    "    extract_points$file_info <- i \n",
    "    all_data <- rbind(all_data , extract_points)\n",
    "}\n",
    "write.table(all_data , \"all_data.txt\" , sep = \"\\t\" , quote = FALSE , row.names = FALSE)"
   ]
  },
  {
   "cell_type": "code",
   "execution_count": 159,
   "id": "95c8ad93-63cf-4534-93e9-fd936099c467",
   "metadata": {},
   "outputs": [
    {
     "data": {
      "text/html": [
       "<table class=\"dataframe\">\n",
       "<caption>A data.frame: 6 × 14</caption>\n",
       "<thead>\n",
       "\t<tr><th></th><th scope=col>1</th><th scope=col>2</th><th scope=col>3</th><th scope=col>4</th><th scope=col>5</th><th scope=col>6</th><th scope=col>7</th><th scope=col>8</th><th scope=col>9</th><th scope=col>10</th><th scope=col>11</th><th scope=col>12</th><th scope=col>site</th><th scope=col>file_info</th></tr>\n",
       "\t<tr><th></th><th scope=col>&lt;dbl&gt;</th><th scope=col>&lt;dbl&gt;</th><th scope=col>&lt;dbl&gt;</th><th scope=col>&lt;dbl&gt;</th><th scope=col>&lt;dbl&gt;</th><th scope=col>&lt;dbl&gt;</th><th scope=col>&lt;dbl&gt;</th><th scope=col>&lt;dbl&gt;</th><th scope=col>&lt;dbl&gt;</th><th scope=col>&lt;dbl&gt;</th><th scope=col>&lt;dbl&gt;</th><th scope=col>&lt;dbl&gt;</th><th scope=col>&lt;chr&gt;</th><th scope=col>&lt;chr&gt;</th></tr>\n",
       "</thead>\n",
       "<tbody>\n",
       "\t<tr><th scope=row>1</th><td>12.9</td><td>23.8</td><td>38.1</td><td>54.1</td><td>68.3</td><td>50.7</td><td>104.3</td><td>89.3</td><td>52.9</td><td>34.5</td><td>17.3</td><td>18.5</td><td>JUG</td><td>./TerraClimate_aet_2014.nc</td></tr>\n",
       "\t<tr><th scope=row>2</th><td>13.1</td><td>23.8</td><td>38.2</td><td>55.3</td><td>69.6</td><td>51.5</td><td>103.9</td><td>88.6</td><td>52.9</td><td>34.8</td><td>17.5</td><td>18.3</td><td>K69</td><td>./TerraClimate_aet_2014.nc</td></tr>\n",
       "\t<tr><th scope=row>3</th><td>13.1</td><td>23.8</td><td>38.2</td><td>55.3</td><td>69.6</td><td>51.5</td><td>103.9</td><td>88.6</td><td>52.9</td><td>34.8</td><td>17.5</td><td>18.3</td><td>PFN</td><td>./TerraClimate_aet_2014.nc</td></tr>\n",
       "\t<tr><th scope=row>4</th><td>11.8</td><td>22.3</td><td>38.8</td><td>58.3</td><td>72.5</td><td>52.0</td><td>103.9</td><td>90.8</td><td>54.0</td><td>35.8</td><td>16.9</td><td>17.2</td><td>ERG</td><td>./TerraClimate_aet_2014.nc</td></tr>\n",
       "\t<tr><th scope=row>5</th><td>12.0</td><td>21.9</td><td>37.9</td><td>57.1</td><td>70.7</td><td>50.9</td><td>103.7</td><td>89.1</td><td>52.9</td><td>35.4</td><td>17.0</td><td>17.3</td><td>EY </td><td>./TerraClimate_aet_2014.nc</td></tr>\n",
       "\t<tr><th scope=row>6</th><td>12.3</td><td>23.6</td><td>38.7</td><td>56.1</td><td>68.9</td><td>50.9</td><td>104.4</td><td>91.1</td><td>53.5</td><td>35.6</td><td>16.8</td><td>18.6</td><td>WH </td><td>./TerraClimate_aet_2014.nc</td></tr>\n",
       "</tbody>\n",
       "</table>\n"
      ],
      "text/latex": [
       "A data.frame: 6 × 14\n",
       "\\begin{tabular}{r|llllllllllllll}\n",
       "  & 1 & 2 & 3 & 4 & 5 & 6 & 7 & 8 & 9 & 10 & 11 & 12 & site & file\\_info\\\\\n",
       "  & <dbl> & <dbl> & <dbl> & <dbl> & <dbl> & <dbl> & <dbl> & <dbl> & <dbl> & <dbl> & <dbl> & <dbl> & <chr> & <chr>\\\\\n",
       "\\hline\n",
       "\t1 & 12.9 & 23.8 & 38.1 & 54.1 & 68.3 & 50.7 & 104.3 & 89.3 & 52.9 & 34.5 & 17.3 & 18.5 & JUG & ./TerraClimate\\_aet\\_2014.nc\\\\\n",
       "\t2 & 13.1 & 23.8 & 38.2 & 55.3 & 69.6 & 51.5 & 103.9 & 88.6 & 52.9 & 34.8 & 17.5 & 18.3 & K69 & ./TerraClimate\\_aet\\_2014.nc\\\\\n",
       "\t3 & 13.1 & 23.8 & 38.2 & 55.3 & 69.6 & 51.5 & 103.9 & 88.6 & 52.9 & 34.8 & 17.5 & 18.3 & PFN & ./TerraClimate\\_aet\\_2014.nc\\\\\n",
       "\t4 & 11.8 & 22.3 & 38.8 & 58.3 & 72.5 & 52.0 & 103.9 & 90.8 & 54.0 & 35.8 & 16.9 & 17.2 & ERG & ./TerraClimate\\_aet\\_2014.nc\\\\\n",
       "\t5 & 12.0 & 21.9 & 37.9 & 57.1 & 70.7 & 50.9 & 103.7 & 89.1 & 52.9 & 35.4 & 17.0 & 17.3 & EY  & ./TerraClimate\\_aet\\_2014.nc\\\\\n",
       "\t6 & 12.3 & 23.6 & 38.7 & 56.1 & 68.9 & 50.9 & 104.4 & 91.1 & 53.5 & 35.6 & 16.8 & 18.6 & WH  & ./TerraClimate\\_aet\\_2014.nc\\\\\n",
       "\\end{tabular}\n"
      ],
      "text/markdown": [
       "\n",
       "A data.frame: 6 × 14\n",
       "\n",
       "| <!--/--> | 1 &lt;dbl&gt; | 2 &lt;dbl&gt; | 3 &lt;dbl&gt; | 4 &lt;dbl&gt; | 5 &lt;dbl&gt; | 6 &lt;dbl&gt; | 7 &lt;dbl&gt; | 8 &lt;dbl&gt; | 9 &lt;dbl&gt; | 10 &lt;dbl&gt; | 11 &lt;dbl&gt; | 12 &lt;dbl&gt; | site &lt;chr&gt; | file_info &lt;chr&gt; |\n",
       "|---|---|---|---|---|---|---|---|---|---|---|---|---|---|---|\n",
       "| 1 | 12.9 | 23.8 | 38.1 | 54.1 | 68.3 | 50.7 | 104.3 | 89.3 | 52.9 | 34.5 | 17.3 | 18.5 | JUG | ./TerraClimate_aet_2014.nc |\n",
       "| 2 | 13.1 | 23.8 | 38.2 | 55.3 | 69.6 | 51.5 | 103.9 | 88.6 | 52.9 | 34.8 | 17.5 | 18.3 | K69 | ./TerraClimate_aet_2014.nc |\n",
       "| 3 | 13.1 | 23.8 | 38.2 | 55.3 | 69.6 | 51.5 | 103.9 | 88.6 | 52.9 | 34.8 | 17.5 | 18.3 | PFN | ./TerraClimate_aet_2014.nc |\n",
       "| 4 | 11.8 | 22.3 | 38.8 | 58.3 | 72.5 | 52.0 | 103.9 | 90.8 | 54.0 | 35.8 | 16.9 | 17.2 | ERG | ./TerraClimate_aet_2014.nc |\n",
       "| 5 | 12.0 | 21.9 | 37.9 | 57.1 | 70.7 | 50.9 | 103.7 | 89.1 | 52.9 | 35.4 | 17.0 | 17.3 | EY  | ./TerraClimate_aet_2014.nc |\n",
       "| 6 | 12.3 | 23.6 | 38.7 | 56.1 | 68.9 | 50.9 | 104.4 | 91.1 | 53.5 | 35.6 | 16.8 | 18.6 | WH  | ./TerraClimate_aet_2014.nc |\n",
       "\n"
      ],
      "text/plain": [
       "  1    2    3    4    5    6    7     8    9    10   11   12   site\n",
       "1 12.9 23.8 38.1 54.1 68.3 50.7 104.3 89.3 52.9 34.5 17.3 18.5 JUG \n",
       "2 13.1 23.8 38.2 55.3 69.6 51.5 103.9 88.6 52.9 34.8 17.5 18.3 K69 \n",
       "3 13.1 23.8 38.2 55.3 69.6 51.5 103.9 88.6 52.9 34.8 17.5 18.3 PFN \n",
       "4 11.8 22.3 38.8 58.3 72.5 52.0 103.9 90.8 54.0 35.8 16.9 17.2 ERG \n",
       "5 12.0 21.9 37.9 57.1 70.7 50.9 103.7 89.1 52.9 35.4 17.0 17.3 EY  \n",
       "6 12.3 23.6 38.7 56.1 68.9 50.9 104.4 91.1 53.5 35.6 16.8 18.6 WH  \n",
       "  file_info                 \n",
       "1 ./TerraClimate_aet_2014.nc\n",
       "2 ./TerraClimate_aet_2014.nc\n",
       "3 ./TerraClimate_aet_2014.nc\n",
       "4 ./TerraClimate_aet_2014.nc\n",
       "5 ./TerraClimate_aet_2014.nc\n",
       "6 ./TerraClimate_aet_2014.nc"
      ]
     },
     "metadata": {},
     "output_type": "display_data"
    }
   ],
   "source": [
    "head(all_data) # file contains 12 columns of months of years (numbers shows values of environmental factors) , site column and file info shows each environmental factor per year"
   ]
  },
  {
   "cell_type": "code",
   "execution_count": 50,
   "id": "d11d7610-35fe-4ad6-b4a4-66b4ed3b2a32",
   "metadata": {},
   "outputs": [
    {
     "data": {
      "text/html": [
       "<table class=\"dataframe\">\n",
       "<caption>A data.frame: 6 × 14</caption>\n",
       "<thead>\n",
       "\t<tr><th></th><th scope=col>X1</th><th scope=col>X2</th><th scope=col>X3</th><th scope=col>X4</th><th scope=col>X5</th><th scope=col>X6</th><th scope=col>X7</th><th scope=col>X8</th><th scope=col>X9</th><th scope=col>X10</th><th scope=col>X11</th><th scope=col>X12</th><th scope=col>site</th><th scope=col>file_info</th></tr>\n",
       "\t<tr><th></th><th scope=col>&lt;dbl&gt;</th><th scope=col>&lt;dbl&gt;</th><th scope=col>&lt;dbl&gt;</th><th scope=col>&lt;dbl&gt;</th><th scope=col>&lt;dbl&gt;</th><th scope=col>&lt;dbl&gt;</th><th scope=col>&lt;dbl&gt;</th><th scope=col>&lt;dbl&gt;</th><th scope=col>&lt;dbl&gt;</th><th scope=col>&lt;dbl&gt;</th><th scope=col>&lt;dbl&gt;</th><th scope=col>&lt;dbl&gt;</th><th scope=col>&lt;chr&gt;</th><th scope=col>&lt;chr&gt;</th></tr>\n",
       "</thead>\n",
       "<tbody>\n",
       "\t<tr><th scope=row>1</th><td>12.9</td><td>23.8</td><td>38.1</td><td>54.1</td><td>68.3</td><td>50.7</td><td>104.3</td><td>89.3</td><td>52.9</td><td>34.5</td><td>17.3</td><td>18.5</td><td>JUG</td><td>./TerraClimate_aet_2014.nc</td></tr>\n",
       "\t<tr><th scope=row>2</th><td>13.1</td><td>23.8</td><td>38.2</td><td>55.3</td><td>69.6</td><td>51.5</td><td>103.9</td><td>88.6</td><td>52.9</td><td>34.8</td><td>17.5</td><td>18.3</td><td>K69</td><td>./TerraClimate_aet_2014.nc</td></tr>\n",
       "\t<tr><th scope=row>3</th><td>13.1</td><td>23.8</td><td>38.2</td><td>55.3</td><td>69.6</td><td>51.5</td><td>103.9</td><td>88.6</td><td>52.9</td><td>34.8</td><td>17.5</td><td>18.3</td><td>PFN</td><td>./TerraClimate_aet_2014.nc</td></tr>\n",
       "\t<tr><th scope=row>4</th><td>11.8</td><td>22.3</td><td>38.8</td><td>58.3</td><td>72.5</td><td>52.0</td><td>103.9</td><td>90.8</td><td>54.0</td><td>35.8</td><td>16.9</td><td>17.2</td><td>ERG</td><td>./TerraClimate_aet_2014.nc</td></tr>\n",
       "\t<tr><th scope=row>5</th><td>12.0</td><td>21.9</td><td>37.9</td><td>57.1</td><td>70.7</td><td>50.9</td><td>103.7</td><td>89.1</td><td>52.9</td><td>35.4</td><td>17.0</td><td>17.3</td><td>EY </td><td>./TerraClimate_aet_2014.nc</td></tr>\n",
       "\t<tr><th scope=row>6</th><td>12.3</td><td>23.6</td><td>38.7</td><td>56.1</td><td>68.9</td><td>50.9</td><td>104.4</td><td>91.1</td><td>53.5</td><td>35.6</td><td>16.8</td><td>18.6</td><td>WH </td><td>./TerraClimate_aet_2014.nc</td></tr>\n",
       "</tbody>\n",
       "</table>\n"
      ],
      "text/latex": [
       "A data.frame: 6 × 14\n",
       "\\begin{tabular}{r|llllllllllllll}\n",
       "  & X1 & X2 & X3 & X4 & X5 & X6 & X7 & X8 & X9 & X10 & X11 & X12 & site & file\\_info\\\\\n",
       "  & <dbl> & <dbl> & <dbl> & <dbl> & <dbl> & <dbl> & <dbl> & <dbl> & <dbl> & <dbl> & <dbl> & <dbl> & <chr> & <chr>\\\\\n",
       "\\hline\n",
       "\t1 & 12.9 & 23.8 & 38.1 & 54.1 & 68.3 & 50.7 & 104.3 & 89.3 & 52.9 & 34.5 & 17.3 & 18.5 & JUG & ./TerraClimate\\_aet\\_2014.nc\\\\\n",
       "\t2 & 13.1 & 23.8 & 38.2 & 55.3 & 69.6 & 51.5 & 103.9 & 88.6 & 52.9 & 34.8 & 17.5 & 18.3 & K69 & ./TerraClimate\\_aet\\_2014.nc\\\\\n",
       "\t3 & 13.1 & 23.8 & 38.2 & 55.3 & 69.6 & 51.5 & 103.9 & 88.6 & 52.9 & 34.8 & 17.5 & 18.3 & PFN & ./TerraClimate\\_aet\\_2014.nc\\\\\n",
       "\t4 & 11.8 & 22.3 & 38.8 & 58.3 & 72.5 & 52.0 & 103.9 & 90.8 & 54.0 & 35.8 & 16.9 & 17.2 & ERG & ./TerraClimate\\_aet\\_2014.nc\\\\\n",
       "\t5 & 12.0 & 21.9 & 37.9 & 57.1 & 70.7 & 50.9 & 103.7 & 89.1 & 52.9 & 35.4 & 17.0 & 17.3 & EY  & ./TerraClimate\\_aet\\_2014.nc\\\\\n",
       "\t6 & 12.3 & 23.6 & 38.7 & 56.1 & 68.9 & 50.9 & 104.4 & 91.1 & 53.5 & 35.6 & 16.8 & 18.6 & WH  & ./TerraClimate\\_aet\\_2014.nc\\\\\n",
       "\\end{tabular}\n"
      ],
      "text/markdown": [
       "\n",
       "A data.frame: 6 × 14\n",
       "\n",
       "| <!--/--> | X1 &lt;dbl&gt; | X2 &lt;dbl&gt; | X3 &lt;dbl&gt; | X4 &lt;dbl&gt; | X5 &lt;dbl&gt; | X6 &lt;dbl&gt; | X7 &lt;dbl&gt; | X8 &lt;dbl&gt; | X9 &lt;dbl&gt; | X10 &lt;dbl&gt; | X11 &lt;dbl&gt; | X12 &lt;dbl&gt; | site &lt;chr&gt; | file_info &lt;chr&gt; |\n",
       "|---|---|---|---|---|---|---|---|---|---|---|---|---|---|---|\n",
       "| 1 | 12.9 | 23.8 | 38.1 | 54.1 | 68.3 | 50.7 | 104.3 | 89.3 | 52.9 | 34.5 | 17.3 | 18.5 | JUG | ./TerraClimate_aet_2014.nc |\n",
       "| 2 | 13.1 | 23.8 | 38.2 | 55.3 | 69.6 | 51.5 | 103.9 | 88.6 | 52.9 | 34.8 | 17.5 | 18.3 | K69 | ./TerraClimate_aet_2014.nc |\n",
       "| 3 | 13.1 | 23.8 | 38.2 | 55.3 | 69.6 | 51.5 | 103.9 | 88.6 | 52.9 | 34.8 | 17.5 | 18.3 | PFN | ./TerraClimate_aet_2014.nc |\n",
       "| 4 | 11.8 | 22.3 | 38.8 | 58.3 | 72.5 | 52.0 | 103.9 | 90.8 | 54.0 | 35.8 | 16.9 | 17.2 | ERG | ./TerraClimate_aet_2014.nc |\n",
       "| 5 | 12.0 | 21.9 | 37.9 | 57.1 | 70.7 | 50.9 | 103.7 | 89.1 | 52.9 | 35.4 | 17.0 | 17.3 | EY  | ./TerraClimate_aet_2014.nc |\n",
       "| 6 | 12.3 | 23.6 | 38.7 | 56.1 | 68.9 | 50.9 | 104.4 | 91.1 | 53.5 | 35.6 | 16.8 | 18.6 | WH  | ./TerraClimate_aet_2014.nc |\n",
       "\n"
      ],
      "text/plain": [
       "  X1   X2   X3   X4   X5   X6   X7    X8   X9   X10  X11  X12  site\n",
       "1 12.9 23.8 38.1 54.1 68.3 50.7 104.3 89.3 52.9 34.5 17.3 18.5 JUG \n",
       "2 13.1 23.8 38.2 55.3 69.6 51.5 103.9 88.6 52.9 34.8 17.5 18.3 K69 \n",
       "3 13.1 23.8 38.2 55.3 69.6 51.5 103.9 88.6 52.9 34.8 17.5 18.3 PFN \n",
       "4 11.8 22.3 38.8 58.3 72.5 52.0 103.9 90.8 54.0 35.8 16.9 17.2 ERG \n",
       "5 12.0 21.9 37.9 57.1 70.7 50.9 103.7 89.1 52.9 35.4 17.0 17.3 EY  \n",
       "6 12.3 23.6 38.7 56.1 68.9 50.9 104.4 91.1 53.5 35.6 16.8 18.6 WH  \n",
       "  file_info                 \n",
       "1 ./TerraClimate_aet_2014.nc\n",
       "2 ./TerraClimate_aet_2014.nc\n",
       "3 ./TerraClimate_aet_2014.nc\n",
       "4 ./TerraClimate_aet_2014.nc\n",
       "5 ./TerraClimate_aet_2014.nc\n",
       "6 ./TerraClimate_aet_2014.nc"
      ]
     },
     "metadata": {},
     "output_type": "display_data"
    },
    {
     "data": {
      "text/html": [
       "<style>\n",
       ".list-inline {list-style: none; margin:0; padding: 0}\n",
       ".list-inline>li {display: inline-block}\n",
       ".list-inline>li:not(:last-child)::after {content: \"\\00b7\"; padding: 0 .5ex}\n",
       "</style>\n",
       "<ol class=list-inline><li>'X1'</li><li>'X2'</li><li>'X3'</li><li>'X4'</li><li>'X5'</li><li>'X6'</li><li>'X7'</li><li>'X8'</li><li>'X9'</li><li>'X10'</li><li>'X11'</li><li>'X12'</li><li>'site'</li><li>'file_info'</li></ol>\n"
      ],
      "text/latex": [
       "\\begin{enumerate*}\n",
       "\\item 'X1'\n",
       "\\item 'X2'\n",
       "\\item 'X3'\n",
       "\\item 'X4'\n",
       "\\item 'X5'\n",
       "\\item 'X6'\n",
       "\\item 'X7'\n",
       "\\item 'X8'\n",
       "\\item 'X9'\n",
       "\\item 'X10'\n",
       "\\item 'X11'\n",
       "\\item 'X12'\n",
       "\\item 'site'\n",
       "\\item 'file\\_info'\n",
       "\\end{enumerate*}\n"
      ],
      "text/markdown": [
       "1. 'X1'\n",
       "2. 'X2'\n",
       "3. 'X3'\n",
       "4. 'X4'\n",
       "5. 'X5'\n",
       "6. 'X6'\n",
       "7. 'X7'\n",
       "8. 'X8'\n",
       "9. 'X9'\n",
       "10. 'X10'\n",
       "11. 'X11'\n",
       "12. 'X12'\n",
       "13. 'site'\n",
       "14. 'file_info'\n",
       "\n",
       "\n"
      ],
      "text/plain": [
       " [1] \"X1\"        \"X2\"        \"X3\"        \"X4\"        \"X5\"        \"X6\"       \n",
       " [7] \"X7\"        \"X8\"        \"X9\"        \"X10\"       \"X11\"       \"X12\"      \n",
       "[13] \"site\"      \"file_info\""
      ]
     },
     "metadata": {},
     "output_type": "display_data"
    }
   ],
   "source": [
    "#open the  saved file , and take dates that are needed (a month befor sampling)\n",
    "all_data <- read.table(\"all_data.txt\" , header = TRUE)\n",
    "head(all_data)\n",
    "colnames(all_data)"
   ]
  },
  {
   "cell_type": "code",
   "execution_count": 51,
   "id": "688cba54-48ea-4cf2-a1c6-77431c39a784",
   "metadata": {},
   "outputs": [],
   "source": [
    "#change column names\n",
    "colnames(all_data) = c(\"Jan_Spring\" , \"Feb_Spring\" , \"Mar_Spring\" , \"Apr_Spring\" , \"May_Spring\" , \"Jun_Spring\" ,\"July_Spring\" , \"Agu_Spring\" ,\"Sep_Fall\" , \"Oct_Fall\" , \"Nov_Fall\" , \"Dec_Fall\" , \"Site\" , \"File_info\")"
   ]
  },
  {
   "cell_type": "code",
   "execution_count": 67,
   "id": "083c823e-9d40-4497-aa84-dbfb0e76caf6",
   "metadata": {},
   "outputs": [
    {
     "data": {
      "text/html": [
       "<table class=\"dataframe\">\n",
       "<caption>A data.frame: 6 × 4</caption>\n",
       "<thead>\n",
       "\t<tr><th></th><th scope=col>Site</th><th scope=col>File_info</th><th scope=col>variable</th><th scope=col>value</th></tr>\n",
       "\t<tr><th></th><th scope=col>&lt;chr&gt;</th><th scope=col>&lt;chr&gt;</th><th scope=col>&lt;fct&gt;</th><th scope=col>&lt;dbl&gt;</th></tr>\n",
       "</thead>\n",
       "<tbody>\n",
       "\t<tr><th scope=row>1</th><td>JUG</td><td>./TerraClimate_aet_2014.nc</td><td>Jan_Spring</td><td>12.9</td></tr>\n",
       "\t<tr><th scope=row>2</th><td>K69</td><td>./TerraClimate_aet_2014.nc</td><td>Jan_Spring</td><td>13.1</td></tr>\n",
       "\t<tr><th scope=row>3</th><td>PFN</td><td>./TerraClimate_aet_2014.nc</td><td>Jan_Spring</td><td>13.1</td></tr>\n",
       "\t<tr><th scope=row>4</th><td>ERG</td><td>./TerraClimate_aet_2014.nc</td><td>Jan_Spring</td><td>11.8</td></tr>\n",
       "\t<tr><th scope=row>5</th><td>EY </td><td>./TerraClimate_aet_2014.nc</td><td>Jan_Spring</td><td>12.0</td></tr>\n",
       "\t<tr><th scope=row>6</th><td>WH </td><td>./TerraClimate_aet_2014.nc</td><td>Jan_Spring</td><td>12.3</td></tr>\n",
       "</tbody>\n",
       "</table>\n"
      ],
      "text/latex": [
       "A data.frame: 6 × 4\n",
       "\\begin{tabular}{r|llll}\n",
       "  & Site & File\\_info & variable & value\\\\\n",
       "  & <chr> & <chr> & <fct> & <dbl>\\\\\n",
       "\\hline\n",
       "\t1 & JUG & ./TerraClimate\\_aet\\_2014.nc & Jan\\_Spring & 12.9\\\\\n",
       "\t2 & K69 & ./TerraClimate\\_aet\\_2014.nc & Jan\\_Spring & 13.1\\\\\n",
       "\t3 & PFN & ./TerraClimate\\_aet\\_2014.nc & Jan\\_Spring & 13.1\\\\\n",
       "\t4 & ERG & ./TerraClimate\\_aet\\_2014.nc & Jan\\_Spring & 11.8\\\\\n",
       "\t5 & EY  & ./TerraClimate\\_aet\\_2014.nc & Jan\\_Spring & 12.0\\\\\n",
       "\t6 & WH  & ./TerraClimate\\_aet\\_2014.nc & Jan\\_Spring & 12.3\\\\\n",
       "\\end{tabular}\n"
      ],
      "text/markdown": [
       "\n",
       "A data.frame: 6 × 4\n",
       "\n",
       "| <!--/--> | Site &lt;chr&gt; | File_info &lt;chr&gt; | variable &lt;fct&gt; | value &lt;dbl&gt; |\n",
       "|---|---|---|---|---|\n",
       "| 1 | JUG | ./TerraClimate_aet_2014.nc | Jan_Spring | 12.9 |\n",
       "| 2 | K69 | ./TerraClimate_aet_2014.nc | Jan_Spring | 13.1 |\n",
       "| 3 | PFN | ./TerraClimate_aet_2014.nc | Jan_Spring | 13.1 |\n",
       "| 4 | ERG | ./TerraClimate_aet_2014.nc | Jan_Spring | 11.8 |\n",
       "| 5 | EY  | ./TerraClimate_aet_2014.nc | Jan_Spring | 12.0 |\n",
       "| 6 | WH  | ./TerraClimate_aet_2014.nc | Jan_Spring | 12.3 |\n",
       "\n"
      ],
      "text/plain": [
       "  Site File_info                  variable   value\n",
       "1 JUG  ./TerraClimate_aet_2014.nc Jan_Spring 12.9 \n",
       "2 K69  ./TerraClimate_aet_2014.nc Jan_Spring 13.1 \n",
       "3 PFN  ./TerraClimate_aet_2014.nc Jan_Spring 13.1 \n",
       "4 ERG  ./TerraClimate_aet_2014.nc Jan_Spring 11.8 \n",
       "5 EY   ./TerraClimate_aet_2014.nc Jan_Spring 12.0 \n",
       "6 WH   ./TerraClimate_aet_2014.nc Jan_Spring 12.3 "
      ]
     },
     "metadata": {},
     "output_type": "display_data"
    },
    {
     "data": {
      "text/html": [
       "<table class=\"dataframe\">\n",
       "<caption>A data.frame: 6 × 8</caption>\n",
       "<thead>\n",
       "\t<tr><th></th><th scope=col>Site</th><th scope=col>File_info</th><th scope=col>databace</th><th scope=col>env_factor</th><th scope=col>Year</th><th scope=col>variable</th><th scope=col>value</th><th scope=col>m_s_y</th></tr>\n",
       "\t<tr><th></th><th scope=col>&lt;chr&gt;</th><th scope=col>&lt;chr&gt;</th><th scope=col>&lt;chr&gt;</th><th scope=col>&lt;chr&gt;</th><th scope=col>&lt;chr&gt;</th><th scope=col>&lt;fct&gt;</th><th scope=col>&lt;dbl&gt;</th><th scope=col>&lt;chr&gt;</th></tr>\n",
       "</thead>\n",
       "<tbody>\n",
       "\t<tr><th scope=row>1</th><td>JUG</td><td>./TerraClimate_aet_2014.nc</td><td>./TerraClimate</td><td>aet</td><td>2014</td><td>Jan_Spring</td><td>12.9</td><td>Jan_Spring_2014</td></tr>\n",
       "\t<tr><th scope=row>2</th><td>K69</td><td>./TerraClimate_aet_2014.nc</td><td>./TerraClimate</td><td>aet</td><td>2014</td><td>Jan_Spring</td><td>13.1</td><td>Jan_Spring_2014</td></tr>\n",
       "\t<tr><th scope=row>3</th><td>PFN</td><td>./TerraClimate_aet_2014.nc</td><td>./TerraClimate</td><td>aet</td><td>2014</td><td>Jan_Spring</td><td>13.1</td><td>Jan_Spring_2014</td></tr>\n",
       "\t<tr><th scope=row>4</th><td>ERG</td><td>./TerraClimate_aet_2014.nc</td><td>./TerraClimate</td><td>aet</td><td>2014</td><td>Jan_Spring</td><td>11.8</td><td>Jan_Spring_2014</td></tr>\n",
       "\t<tr><th scope=row>5</th><td>EY </td><td>./TerraClimate_aet_2014.nc</td><td>./TerraClimate</td><td>aet</td><td>2014</td><td>Jan_Spring</td><td>12.0</td><td>Jan_Spring_2014</td></tr>\n",
       "\t<tr><th scope=row>6</th><td>WH </td><td>./TerraClimate_aet_2014.nc</td><td>./TerraClimate</td><td>aet</td><td>2014</td><td>Jan_Spring</td><td>12.3</td><td>Jan_Spring_2014</td></tr>\n",
       "</tbody>\n",
       "</table>\n"
      ],
      "text/latex": [
       "A data.frame: 6 × 8\n",
       "\\begin{tabular}{r|llllllll}\n",
       "  & Site & File\\_info & databace & env\\_factor & Year & variable & value & m\\_s\\_y\\\\\n",
       "  & <chr> & <chr> & <chr> & <chr> & <chr> & <fct> & <dbl> & <chr>\\\\\n",
       "\\hline\n",
       "\t1 & JUG & ./TerraClimate\\_aet\\_2014.nc & ./TerraClimate & aet & 2014 & Jan\\_Spring & 12.9 & Jan\\_Spring\\_2014\\\\\n",
       "\t2 & K69 & ./TerraClimate\\_aet\\_2014.nc & ./TerraClimate & aet & 2014 & Jan\\_Spring & 13.1 & Jan\\_Spring\\_2014\\\\\n",
       "\t3 & PFN & ./TerraClimate\\_aet\\_2014.nc & ./TerraClimate & aet & 2014 & Jan\\_Spring & 13.1 & Jan\\_Spring\\_2014\\\\\n",
       "\t4 & ERG & ./TerraClimate\\_aet\\_2014.nc & ./TerraClimate & aet & 2014 & Jan\\_Spring & 11.8 & Jan\\_Spring\\_2014\\\\\n",
       "\t5 & EY  & ./TerraClimate\\_aet\\_2014.nc & ./TerraClimate & aet & 2014 & Jan\\_Spring & 12.0 & Jan\\_Spring\\_2014\\\\\n",
       "\t6 & WH  & ./TerraClimate\\_aet\\_2014.nc & ./TerraClimate & aet & 2014 & Jan\\_Spring & 12.3 & Jan\\_Spring\\_2014\\\\\n",
       "\\end{tabular}\n"
      ],
      "text/markdown": [
       "\n",
       "A data.frame: 6 × 8\n",
       "\n",
       "| <!--/--> | Site &lt;chr&gt; | File_info &lt;chr&gt; | databace &lt;chr&gt; | env_factor &lt;chr&gt; | Year &lt;chr&gt; | variable &lt;fct&gt; | value &lt;dbl&gt; | m_s_y &lt;chr&gt; |\n",
       "|---|---|---|---|---|---|---|---|---|\n",
       "| 1 | JUG | ./TerraClimate_aet_2014.nc | ./TerraClimate | aet | 2014 | Jan_Spring | 12.9 | Jan_Spring_2014 |\n",
       "| 2 | K69 | ./TerraClimate_aet_2014.nc | ./TerraClimate | aet | 2014 | Jan_Spring | 13.1 | Jan_Spring_2014 |\n",
       "| 3 | PFN | ./TerraClimate_aet_2014.nc | ./TerraClimate | aet | 2014 | Jan_Spring | 13.1 | Jan_Spring_2014 |\n",
       "| 4 | ERG | ./TerraClimate_aet_2014.nc | ./TerraClimate | aet | 2014 | Jan_Spring | 11.8 | Jan_Spring_2014 |\n",
       "| 5 | EY  | ./TerraClimate_aet_2014.nc | ./TerraClimate | aet | 2014 | Jan_Spring | 12.0 | Jan_Spring_2014 |\n",
       "| 6 | WH  | ./TerraClimate_aet_2014.nc | ./TerraClimate | aet | 2014 | Jan_Spring | 12.3 | Jan_Spring_2014 |\n",
       "\n"
      ],
      "text/plain": [
       "  Site File_info                  databace       env_factor Year variable  \n",
       "1 JUG  ./TerraClimate_aet_2014.nc ./TerraClimate aet        2014 Jan_Spring\n",
       "2 K69  ./TerraClimate_aet_2014.nc ./TerraClimate aet        2014 Jan_Spring\n",
       "3 PFN  ./TerraClimate_aet_2014.nc ./TerraClimate aet        2014 Jan_Spring\n",
       "4 ERG  ./TerraClimate_aet_2014.nc ./TerraClimate aet        2014 Jan_Spring\n",
       "5 EY   ./TerraClimate_aet_2014.nc ./TerraClimate aet        2014 Jan_Spring\n",
       "6 WH   ./TerraClimate_aet_2014.nc ./TerraClimate aet        2014 Jan_Spring\n",
       "  value m_s_y          \n",
       "1 12.9  Jan_Spring_2014\n",
       "2 13.1  Jan_Spring_2014\n",
       "3 13.1  Jan_Spring_2014\n",
       "4 11.8  Jan_Spring_2014\n",
       "5 12.0  Jan_Spring_2014\n",
       "6 12.3  Jan_Spring_2014"
      ]
     },
     "metadata": {},
     "output_type": "display_data"
    },
    {
     "data": {
      "text/html": [
       "<table class=\"dataframe\">\n",
       "<caption>A data.frame: 11 × 3</caption>\n",
       "<thead>\n",
       "\t<tr><th scope=col>dayofsampling</th><th scope=col>Month</th><th scope=col>year</th></tr>\n",
       "\t<tr><th scope=col>&lt;chr&gt;</th><th scope=col>&lt;chr&gt;</th><th scope=col>&lt;int&gt;</th></tr>\n",
       "</thead>\n",
       "<tbody>\n",
       "\t<tr><td>2    </td><td>apr</td><td>2014</td></tr>\n",
       "\t<tr><td>3    </td><td>Dec</td><td>2014</td></tr>\n",
       "\t<tr><td>18   </td><td>Feb</td><td>2015</td></tr>\n",
       "\t<tr><td>1    </td><td>dec</td><td>2015</td></tr>\n",
       "\t<tr><td>27   </td><td>mar</td><td>2016</td></tr>\n",
       "\t<tr><td>5    </td><td>dec</td><td>2016</td></tr>\n",
       "\t<tr><td>20_21</td><td>mar</td><td>2017</td></tr>\n",
       "\t<tr><td>26   </td><td>nov</td><td>2017</td></tr>\n",
       "\t<tr><td>4_5  </td><td>apr</td><td>2018</td></tr>\n",
       "\t<tr><td>21   </td><td>nov</td><td>2018</td></tr>\n",
       "\t<tr><td>22   </td><td>mar</td><td>2019</td></tr>\n",
       "</tbody>\n",
       "</table>\n"
      ],
      "text/latex": [
       "A data.frame: 11 × 3\n",
       "\\begin{tabular}{lll}\n",
       " dayofsampling & Month & year\\\\\n",
       " <chr> & <chr> & <int>\\\\\n",
       "\\hline\n",
       "\t 2     & apr & 2014\\\\\n",
       "\t 3     & Dec & 2014\\\\\n",
       "\t 18    & Feb & 2015\\\\\n",
       "\t 1     & dec & 2015\\\\\n",
       "\t 27    & mar & 2016\\\\\n",
       "\t 5     & dec & 2016\\\\\n",
       "\t 20\\_21 & mar & 2017\\\\\n",
       "\t 26    & nov & 2017\\\\\n",
       "\t 4\\_5   & apr & 2018\\\\\n",
       "\t 21    & nov & 2018\\\\\n",
       "\t 22    & mar & 2019\\\\\n",
       "\\end{tabular}\n"
      ],
      "text/markdown": [
       "\n",
       "A data.frame: 11 × 3\n",
       "\n",
       "| dayofsampling &lt;chr&gt; | Month &lt;chr&gt; | year &lt;int&gt; |\n",
       "|---|---|---|\n",
       "| 2     | apr | 2014 |\n",
       "| 3     | Dec | 2014 |\n",
       "| 18    | Feb | 2015 |\n",
       "| 1     | dec | 2015 |\n",
       "| 27    | mar | 2016 |\n",
       "| 5     | dec | 2016 |\n",
       "| 20_21 | mar | 2017 |\n",
       "| 26    | nov | 2017 |\n",
       "| 4_5   | apr | 2018 |\n",
       "| 21    | nov | 2018 |\n",
       "| 22    | mar | 2019 |\n",
       "\n"
      ],
      "text/plain": [
       "   dayofsampling Month year\n",
       "1  2             apr   2014\n",
       "2  3             Dec   2014\n",
       "3  18            Feb   2015\n",
       "4  1             dec   2015\n",
       "5  27            mar   2016\n",
       "6  5             dec   2016\n",
       "7  20_21         mar   2017\n",
       "8  26            nov   2017\n",
       "9  4_5           apr   2018\n",
       "10 21            nov   2018\n",
       "11 22            mar   2019"
      ]
     },
     "metadata": {},
     "output_type": "display_data"
    },
    {
     "data": {
      "text/html": [
       "<table class=\"dataframe\">\n",
       "<caption>A data.frame: 11 × 4</caption>\n",
       "<thead>\n",
       "\t<tr><th scope=col>dayofsampling</th><th scope=col>Month</th><th scope=col>year</th><th scope=col>month_to_take_fromEnvData</th></tr>\n",
       "\t<tr><th scope=col>&lt;chr&gt;</th><th scope=col>&lt;chr&gt;</th><th scope=col>&lt;int&gt;</th><th scope=col>&lt;chr&gt;</th></tr>\n",
       "</thead>\n",
       "<tbody>\n",
       "\t<tr><td>2    </td><td>apr</td><td>2014</td><td>Mar_Spring_2014</td></tr>\n",
       "\t<tr><td>3    </td><td>Dec</td><td>2014</td><td>Nov_Fall_2014  </td></tr>\n",
       "\t<tr><td>18   </td><td>Feb</td><td>2015</td><td>Feb_Spring_2015</td></tr>\n",
       "\t<tr><td>1    </td><td>dec</td><td>2015</td><td>Nov_Fall_2015  </td></tr>\n",
       "\t<tr><td>27   </td><td>mar</td><td>2016</td><td>Mar_Spring_2016</td></tr>\n",
       "\t<tr><td>5    </td><td>dec</td><td>2016</td><td>Nov_Fall_2016  </td></tr>\n",
       "\t<tr><td>20_21</td><td>mar</td><td>2017</td><td>Mar_Spring_2017</td></tr>\n",
       "\t<tr><td>26   </td><td>nov</td><td>2017</td><td>Nov_Fall_2017  </td></tr>\n",
       "\t<tr><td>4_5  </td><td>apr</td><td>2018</td><td>Mar_Spring_2018</td></tr>\n",
       "\t<tr><td>21   </td><td>nov</td><td>2018</td><td>Nov_Fall_2018  </td></tr>\n",
       "\t<tr><td>22   </td><td>mar</td><td>2019</td><td>Mar_Spring_2019</td></tr>\n",
       "</tbody>\n",
       "</table>\n"
      ],
      "text/latex": [
       "A data.frame: 11 × 4\n",
       "\\begin{tabular}{llll}\n",
       " dayofsampling & Month & year & month\\_to\\_take\\_fromEnvData\\\\\n",
       " <chr> & <chr> & <int> & <chr>\\\\\n",
       "\\hline\n",
       "\t 2     & apr & 2014 & Mar\\_Spring\\_2014\\\\\n",
       "\t 3     & Dec & 2014 & Nov\\_Fall\\_2014  \\\\\n",
       "\t 18    & Feb & 2015 & Feb\\_Spring\\_2015\\\\\n",
       "\t 1     & dec & 2015 & Nov\\_Fall\\_2015  \\\\\n",
       "\t 27    & mar & 2016 & Mar\\_Spring\\_2016\\\\\n",
       "\t 5     & dec & 2016 & Nov\\_Fall\\_2016  \\\\\n",
       "\t 20\\_21 & mar & 2017 & Mar\\_Spring\\_2017\\\\\n",
       "\t 26    & nov & 2017 & Nov\\_Fall\\_2017  \\\\\n",
       "\t 4\\_5   & apr & 2018 & Mar\\_Spring\\_2018\\\\\n",
       "\t 21    & nov & 2018 & Nov\\_Fall\\_2018  \\\\\n",
       "\t 22    & mar & 2019 & Mar\\_Spring\\_2019\\\\\n",
       "\\end{tabular}\n"
      ],
      "text/markdown": [
       "\n",
       "A data.frame: 11 × 4\n",
       "\n",
       "| dayofsampling &lt;chr&gt; | Month &lt;chr&gt; | year &lt;int&gt; | month_to_take_fromEnvData &lt;chr&gt; |\n",
       "|---|---|---|---|\n",
       "| 2     | apr | 2014 | Mar_Spring_2014 |\n",
       "| 3     | Dec | 2014 | Nov_Fall_2014   |\n",
       "| 18    | Feb | 2015 | Feb_Spring_2015 |\n",
       "| 1     | dec | 2015 | Nov_Fall_2015   |\n",
       "| 27    | mar | 2016 | Mar_Spring_2016 |\n",
       "| 5     | dec | 2016 | Nov_Fall_2016   |\n",
       "| 20_21 | mar | 2017 | Mar_Spring_2017 |\n",
       "| 26    | nov | 2017 | Nov_Fall_2017   |\n",
       "| 4_5   | apr | 2018 | Mar_Spring_2018 |\n",
       "| 21    | nov | 2018 | Nov_Fall_2018   |\n",
       "| 22    | mar | 2019 | Mar_Spring_2019 |\n",
       "\n"
      ],
      "text/plain": [
       "   dayofsampling Month year month_to_take_fromEnvData\n",
       "1  2             apr   2014 Mar_Spring_2014          \n",
       "2  3             Dec   2014 Nov_Fall_2014            \n",
       "3  18            Feb   2015 Feb_Spring_2015          \n",
       "4  1             dec   2015 Nov_Fall_2015            \n",
       "5  27            mar   2016 Mar_Spring_2016          \n",
       "6  5             dec   2016 Nov_Fall_2016            \n",
       "7  20_21         mar   2017 Mar_Spring_2017          \n",
       "8  26            nov   2017 Nov_Fall_2017            \n",
       "9  4_5           apr   2018 Mar_Spring_2018          \n",
       "10 21            nov   2018 Nov_Fall_2018            \n",
       "11 22            mar   2019 Mar_Spring_2019          "
      ]
     },
     "metadata": {},
     "output_type": "display_data"
    },
    {
     "data": {
      "text/html": [
       "<style>\n",
       ".list-inline {list-style: none; margin:0; padding: 0}\n",
       ".list-inline>li {display: inline-block}\n",
       ".list-inline>li:not(:last-child)::after {content: \"\\00b7\"; padding: 0 .5ex}\n",
       "</style>\n",
       "<ol class=list-inline><li>924</li><li>11</li></ol>\n"
      ],
      "text/latex": [
       "\\begin{enumerate*}\n",
       "\\item 924\n",
       "\\item 11\n",
       "\\end{enumerate*}\n"
      ],
      "text/markdown": [
       "1. 924\n",
       "2. 11\n",
       "\n",
       "\n"
      ],
      "text/plain": [
       "[1] 924  11"
      ]
     },
     "metadata": {},
     "output_type": "display_data"
    },
    {
     "data": {
      "text/html": [
       "<table class=\"dataframe\">\n",
       "<caption>A data.frame: 6 × 11</caption>\n",
       "<thead>\n",
       "\t<tr><th></th><th scope=col>month_to_take_fromEnvData</th><th scope=col>dayofsampling</th><th scope=col>Month</th><th scope=col>year</th><th scope=col>Site</th><th scope=col>File_info</th><th scope=col>databace</th><th scope=col>env_factor</th><th scope=col>Year</th><th scope=col>variable</th><th scope=col>value</th></tr>\n",
       "\t<tr><th></th><th scope=col>&lt;chr&gt;</th><th scope=col>&lt;chr&gt;</th><th scope=col>&lt;chr&gt;</th><th scope=col>&lt;int&gt;</th><th scope=col>&lt;chr&gt;</th><th scope=col>&lt;chr&gt;</th><th scope=col>&lt;chr&gt;</th><th scope=col>&lt;chr&gt;</th><th scope=col>&lt;chr&gt;</th><th scope=col>&lt;fct&gt;</th><th scope=col>&lt;dbl&gt;</th></tr>\n",
       "</thead>\n",
       "<tbody>\n",
       "\t<tr><th scope=row>1</th><td>Feb_Spring_2015</td><td>18</td><td>Feb</td><td>2015</td><td>PFN</td><td>./TerraClimate_ppt_2015.nc </td><td>./TerraClimate</td><td>ppt </td><td>2015</td><td>Feb_Spring</td><td>21.20</td></tr>\n",
       "\t<tr><th scope=row>2</th><td>Feb_Spring_2015</td><td>18</td><td>Feb</td><td>2015</td><td>K69</td><td>./TerraClimate_vpd_2015.nc </td><td>./TerraClimate</td><td>vpd </td><td>2015</td><td>Feb_Spring</td><td> 0.14</td></tr>\n",
       "\t<tr><th scope=row>3</th><td>Feb_Spring_2015</td><td>18</td><td>Feb</td><td>2015</td><td>ERG</td><td>./TerraClimate_ppt_2015.nc </td><td>./TerraClimate</td><td>ppt </td><td>2015</td><td>Feb_Spring</td><td>30.30</td></tr>\n",
       "\t<tr><th scope=row>4</th><td>Feb_Spring_2015</td><td>18</td><td>Feb</td><td>2015</td><td>EY </td><td>./TerraClimate_PDSI_2015.nc</td><td>./TerraClimate</td><td>PDSI</td><td>2015</td><td>Feb_Spring</td><td> 1.66</td></tr>\n",
       "\t<tr><th scope=row>5</th><td>Feb_Spring_2015</td><td>18</td><td>Feb</td><td>2015</td><td>WH </td><td>./TerraClimate_soil_2015.nc</td><td>./TerraClimate</td><td>soil</td><td>2015</td><td>Feb_Spring</td><td>61.40</td></tr>\n",
       "\t<tr><th scope=row>6</th><td>Feb_Spring_2015</td><td>18</td><td>Feb</td><td>2015</td><td>JUG</td><td>./TerraClimate_vpd_2015.nc </td><td>./TerraClimate</td><td>vpd </td><td>2015</td><td>Feb_Spring</td><td> 0.14</td></tr>\n",
       "</tbody>\n",
       "</table>\n"
      ],
      "text/latex": [
       "A data.frame: 6 × 11\n",
       "\\begin{tabular}{r|lllllllllll}\n",
       "  & month\\_to\\_take\\_fromEnvData & dayofsampling & Month & year & Site & File\\_info & databace & env\\_factor & Year & variable & value\\\\\n",
       "  & <chr> & <chr> & <chr> & <int> & <chr> & <chr> & <chr> & <chr> & <chr> & <fct> & <dbl>\\\\\n",
       "\\hline\n",
       "\t1 & Feb\\_Spring\\_2015 & 18 & Feb & 2015 & PFN & ./TerraClimate\\_ppt\\_2015.nc  & ./TerraClimate & ppt  & 2015 & Feb\\_Spring & 21.20\\\\\n",
       "\t2 & Feb\\_Spring\\_2015 & 18 & Feb & 2015 & K69 & ./TerraClimate\\_vpd\\_2015.nc  & ./TerraClimate & vpd  & 2015 & Feb\\_Spring &  0.14\\\\\n",
       "\t3 & Feb\\_Spring\\_2015 & 18 & Feb & 2015 & ERG & ./TerraClimate\\_ppt\\_2015.nc  & ./TerraClimate & ppt  & 2015 & Feb\\_Spring & 30.30\\\\\n",
       "\t4 & Feb\\_Spring\\_2015 & 18 & Feb & 2015 & EY  & ./TerraClimate\\_PDSI\\_2015.nc & ./TerraClimate & PDSI & 2015 & Feb\\_Spring &  1.66\\\\\n",
       "\t5 & Feb\\_Spring\\_2015 & 18 & Feb & 2015 & WH  & ./TerraClimate\\_soil\\_2015.nc & ./TerraClimate & soil & 2015 & Feb\\_Spring & 61.40\\\\\n",
       "\t6 & Feb\\_Spring\\_2015 & 18 & Feb & 2015 & JUG & ./TerraClimate\\_vpd\\_2015.nc  & ./TerraClimate & vpd  & 2015 & Feb\\_Spring &  0.14\\\\\n",
       "\\end{tabular}\n"
      ],
      "text/markdown": [
       "\n",
       "A data.frame: 6 × 11\n",
       "\n",
       "| <!--/--> | month_to_take_fromEnvData &lt;chr&gt; | dayofsampling &lt;chr&gt; | Month &lt;chr&gt; | year &lt;int&gt; | Site &lt;chr&gt; | File_info &lt;chr&gt; | databace &lt;chr&gt; | env_factor &lt;chr&gt; | Year &lt;chr&gt; | variable &lt;fct&gt; | value &lt;dbl&gt; |\n",
       "|---|---|---|---|---|---|---|---|---|---|---|---|\n",
       "| 1 | Feb_Spring_2015 | 18 | Feb | 2015 | PFN | ./TerraClimate_ppt_2015.nc  | ./TerraClimate | ppt  | 2015 | Feb_Spring | 21.20 |\n",
       "| 2 | Feb_Spring_2015 | 18 | Feb | 2015 | K69 | ./TerraClimate_vpd_2015.nc  | ./TerraClimate | vpd  | 2015 | Feb_Spring |  0.14 |\n",
       "| 3 | Feb_Spring_2015 | 18 | Feb | 2015 | ERG | ./TerraClimate_ppt_2015.nc  | ./TerraClimate | ppt  | 2015 | Feb_Spring | 30.30 |\n",
       "| 4 | Feb_Spring_2015 | 18 | Feb | 2015 | EY  | ./TerraClimate_PDSI_2015.nc | ./TerraClimate | PDSI | 2015 | Feb_Spring |  1.66 |\n",
       "| 5 | Feb_Spring_2015 | 18 | Feb | 2015 | WH  | ./TerraClimate_soil_2015.nc | ./TerraClimate | soil | 2015 | Feb_Spring | 61.40 |\n",
       "| 6 | Feb_Spring_2015 | 18 | Feb | 2015 | JUG | ./TerraClimate_vpd_2015.nc  | ./TerraClimate | vpd  | 2015 | Feb_Spring |  0.14 |\n",
       "\n"
      ],
      "text/plain": [
       "  month_to_take_fromEnvData dayofsampling Month year Site\n",
       "1 Feb_Spring_2015           18            Feb   2015 PFN \n",
       "2 Feb_Spring_2015           18            Feb   2015 K69 \n",
       "3 Feb_Spring_2015           18            Feb   2015 ERG \n",
       "4 Feb_Spring_2015           18            Feb   2015 EY  \n",
       "5 Feb_Spring_2015           18            Feb   2015 WH  \n",
       "6 Feb_Spring_2015           18            Feb   2015 JUG \n",
       "  File_info                   databace       env_factor Year variable   value\n",
       "1 ./TerraClimate_ppt_2015.nc  ./TerraClimate ppt        2015 Feb_Spring 21.20\n",
       "2 ./TerraClimate_vpd_2015.nc  ./TerraClimate vpd        2015 Feb_Spring  0.14\n",
       "3 ./TerraClimate_ppt_2015.nc  ./TerraClimate ppt        2015 Feb_Spring 30.30\n",
       "4 ./TerraClimate_PDSI_2015.nc ./TerraClimate PDSI       2015 Feb_Spring  1.66\n",
       "5 ./TerraClimate_soil_2015.nc ./TerraClimate soil       2015 Feb_Spring 61.40\n",
       "6 ./TerraClimate_vpd_2015.nc  ./TerraClimate vpd        2015 Feb_Spring  0.14"
      ]
     },
     "metadata": {},
     "output_type": "display_data"
    }
   ],
   "source": [
    "library(tidyr)\n",
    "melt_env_data <- melt(all_data, id = c(\"Site\",\"File_info\"))\n",
    "head(melt_env_data)\n",
    "melt_env_data <- separate(data = melt_env_data , col = File_info , into = c(\"databace\" , \"env_factor\" , \"Year\") , sep = \"_\" , remove = FALSE)\n",
    "melt_env_data$Year <- gsub(\".nc\" ,\"\" , melt_env_data$Year)\n",
    "melt_env_data$m_s_y <- paste(melt_env_data$variable , melt_env_data$Year , sep = \"_\")\n",
    "head(melt_env_data)\n",
    "\n",
    "#subset following month from melt_env_data\n",
    "\n",
    "samplingdate <- read.table(\"samplingdate.txt\" , header = TRUE)\n",
    "samplingdate\n",
    "#note for now we are taking the month of sampling for thoes month that sampling are done after 15th of the month and a month before for thoes that sampling down befor 15th of the month.\n",
    "samplingdate$month_to_take_fromEnvData <- c('Mar_Spring_2014' , 'Nov_Fall_2014' ,'Feb_Spring_2015' ,'Nov_Fall_2015', 'Mar_Spring_2016' , 'Nov_Fall_2016' , 'Mar_Spring_2017' , 'Nov_Fall_2017' , 'Mar_Spring_2018' , 'Nov_Fall_2018' , 'Mar_Spring_2019')\n",
    "samplingdate\n",
    "\n",
    "env_data <- merge(samplingdate ,melt_env_data , by.x = \"month_to_take_fromEnvData\" , by.y = \"m_s_y\")\n",
    "dim(env_data)\n",
    "head(env_data)\n",
    "#14 * 11 * 6 (#environmentalFactors * timePoints * sites)"
   ]
  },
  {
   "cell_type": "code",
   "execution_count": 68,
   "id": "df323a60-cb4a-4982-b08a-3ed9f96f2375",
   "metadata": {},
   "outputs": [
    {
     "data": {
      "text/html": [
       "14"
      ],
      "text/latex": [
       "14"
      ],
      "text/markdown": [
       "14"
      ],
      "text/plain": [
       "[1] 14"
      ]
     },
     "metadata": {},
     "output_type": "display_data"
    }
   ],
   "source": [
    "length(unique(melt_env_data$env_factor))"
   ]
  },
  {
   "cell_type": "code",
   "execution_count": 71,
   "id": "306515f5-75b9-4a9a-b78c-e3aba3be4f9f",
   "metadata": {},
   "outputs": [],
   "source": [
    "#final table\n",
    "write.table(env_data , \"terraclimatedata/subset_envData.txt\" , sep = \"\\t\" , quote = FALSE , row.names = FALSE )"
   ]
  }
 ],
 "metadata": {
  "kernelspec": {
   "display_name": "R",
   "language": "R",
   "name": "ir"
  },
  "language_info": {
   "codemirror_mode": "r",
   "file_extension": ".r",
   "mimetype": "text/x-r-source",
   "name": "R",
   "pygments_lexer": "r",
   "version": "4.1.2"
  }
 },
 "nbformat": 4,
 "nbformat_minor": 5
}
