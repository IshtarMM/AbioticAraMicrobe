{
 "cells": [
  {
   "cell_type": "code",
   "execution_count": 134,
   "id": "0d09fc83-e5f5-4a70-86ef-97b0330efc28",
   "metadata": {},
   "outputs": [],
   "source": [
    "df <- read.table('../data/DataClean/BV5Otu.txt', header = TRUE)\n"
   ]
  },
  {
   "cell_type": "code",
   "execution_count": 135,
   "id": "ba30416e-2024-4cea-b1b9-377a15e7bb38",
   "metadata": {},
   "outputs": [
    {
     "data": {
      "text/html": [
       "<table class=\"dataframe\">\n",
       "<caption>A data.frame: 6 × 5516</caption>\n",
       "<thead>\n",
       "\t<tr><th></th><th scope=col>Lib</th><th scope=col>Run</th><th scope=col>Samplenumber</th><th scope=col>Site</th><th scope=col>Season</th><th scope=col>Year</th><th scope=col>Infection</th><th scope=col>Compartment</th><th scope=col>SamplingingStage</th><th scope=col>TimePoint</th><th scope=col>⋯</th><th scope=col>Otu006038</th><th scope=col>Otu006039</th><th scope=col>Otu006040</th><th scope=col>Otu006041</th><th scope=col>Otu006042</th><th scope=col>Otu006043</th><th scope=col>Otu006044</th><th scope=col>Otu006045</th><th scope=col>Otu006046</th><th scope=col>Otu006047</th></tr>\n",
       "\t<tr><th></th><th scope=col>&lt;chr&gt;</th><th scope=col>&lt;chr&gt;</th><th scope=col>&lt;chr&gt;</th><th scope=col>&lt;chr&gt;</th><th scope=col>&lt;chr&gt;</th><th scope=col>&lt;int&gt;</th><th scope=col>&lt;chr&gt;</th><th scope=col>&lt;chr&gt;</th><th scope=col>&lt;chr&gt;</th><th scope=col>&lt;chr&gt;</th><th scope=col>⋯</th><th scope=col>&lt;int&gt;</th><th scope=col>&lt;int&gt;</th><th scope=col>&lt;int&gt;</th><th scope=col>&lt;int&gt;</th><th scope=col>&lt;int&gt;</th><th scope=col>&lt;int&gt;</th><th scope=col>&lt;int&gt;</th><th scope=col>&lt;int&gt;</th><th scope=col>&lt;int&gt;</th><th scope=col>&lt;int&gt;</th></tr>\n",
       "</thead>\n",
       "<tbody>\n",
       "\t<tr><th scope=row>1</th><td>H9 </td><td>H</td><td>S324</td><td>ERG</td><td>Fall  </td><td>2016</td><td>Infected</td><td>Endo</td><td>Old</td><td>Fall2016  </td><td>⋯</td><td>5</td><td>0</td><td>0</td><td>0</td><td>0</td><td>0</td><td>0</td><td>0</td><td>0</td><td>0</td></tr>\n",
       "\t<tr><th scope=row>2</th><td>L11</td><td>L</td><td>S634</td><td>ERG</td><td>Fall  </td><td>2017</td><td>Infected</td><td>Epi </td><td>New</td><td>Fall2017  </td><td>⋯</td><td>0</td><td>0</td><td>0</td><td>0</td><td>7</td><td>0</td><td>0</td><td>0</td><td>0</td><td>2</td></tr>\n",
       "\t<tr><th scope=row>3</th><td>A46</td><td>A</td><td>S244</td><td>PFN</td><td>Spring</td><td>2014</td><td>Healthy </td><td>Epi </td><td>Old</td><td>Spring2014</td><td>⋯</td><td>0</td><td>0</td><td>0</td><td>0</td><td>0</td><td>0</td><td>0</td><td>0</td><td>0</td><td>0</td></tr>\n",
       "\t<tr><th scope=row>4</th><td>D19</td><td>D</td><td>S309</td><td>K69</td><td>Fall  </td><td>2016</td><td>Healthy </td><td>Epi </td><td>Old</td><td>Fall2016  </td><td>⋯</td><td>0</td><td>0</td><td>0</td><td>0</td><td>0</td><td>0</td><td>0</td><td>0</td><td>0</td><td>0</td></tr>\n",
       "\t<tr><th scope=row>5</th><td>L19</td><td>L</td><td>S651</td><td>PFN</td><td>Spring</td><td>2018</td><td>Healthy </td><td>Epi </td><td>New</td><td>Spring2018</td><td>⋯</td><td>0</td><td>0</td><td>0</td><td>0</td><td>0</td><td>0</td><td>2</td><td>0</td><td>0</td><td>0</td></tr>\n",
       "\t<tr><th scope=row>6</th><td>B48</td><td>B</td><td>S127</td><td>EY </td><td>Fall  </td><td>2014</td><td>Infected</td><td>Epi </td><td>Old</td><td>Fall2014  </td><td>⋯</td><td>0</td><td>0</td><td>0</td><td>1</td><td>0</td><td>0</td><td>0</td><td>0</td><td>0</td><td>0</td></tr>\n",
       "</tbody>\n",
       "</table>\n"
      ],
      "text/latex": [
       "A data.frame: 6 × 5516\n",
       "\\begin{tabular}{r|lllllllllllllllllllll}\n",
       "  & Lib & Run & Samplenumber & Site & Season & Year & Infection & Compartment & SamplingingStage & TimePoint & ⋯ & Otu006038 & Otu006039 & Otu006040 & Otu006041 & Otu006042 & Otu006043 & Otu006044 & Otu006045 & Otu006046 & Otu006047\\\\\n",
       "  & <chr> & <chr> & <chr> & <chr> & <chr> & <int> & <chr> & <chr> & <chr> & <chr> & ⋯ & <int> & <int> & <int> & <int> & <int> & <int> & <int> & <int> & <int> & <int>\\\\\n",
       "\\hline\n",
       "\t1 & H9  & H & S324 & ERG & Fall   & 2016 & Infected & Endo & Old & Fall2016   & ⋯ & 5 & 0 & 0 & 0 & 0 & 0 & 0 & 0 & 0 & 0\\\\\n",
       "\t2 & L11 & L & S634 & ERG & Fall   & 2017 & Infected & Epi  & New & Fall2017   & ⋯ & 0 & 0 & 0 & 0 & 7 & 0 & 0 & 0 & 0 & 2\\\\\n",
       "\t3 & A46 & A & S244 & PFN & Spring & 2014 & Healthy  & Epi  & Old & Spring2014 & ⋯ & 0 & 0 & 0 & 0 & 0 & 0 & 0 & 0 & 0 & 0\\\\\n",
       "\t4 & D19 & D & S309 & K69 & Fall   & 2016 & Healthy  & Epi  & Old & Fall2016   & ⋯ & 0 & 0 & 0 & 0 & 0 & 0 & 0 & 0 & 0 & 0\\\\\n",
       "\t5 & L19 & L & S651 & PFN & Spring & 2018 & Healthy  & Epi  & New & Spring2018 & ⋯ & 0 & 0 & 0 & 0 & 0 & 0 & 2 & 0 & 0 & 0\\\\\n",
       "\t6 & B48 & B & S127 & EY  & Fall   & 2014 & Infected & Epi  & Old & Fall2014   & ⋯ & 0 & 0 & 0 & 1 & 0 & 0 & 0 & 0 & 0 & 0\\\\\n",
       "\\end{tabular}\n"
      ],
      "text/markdown": [
       "\n",
       "A data.frame: 6 × 5516\n",
       "\n",
       "| <!--/--> | Lib &lt;chr&gt; | Run &lt;chr&gt; | Samplenumber &lt;chr&gt; | Site &lt;chr&gt; | Season &lt;chr&gt; | Year &lt;int&gt; | Infection &lt;chr&gt; | Compartment &lt;chr&gt; | SamplingingStage &lt;chr&gt; | TimePoint &lt;chr&gt; | ⋯ ⋯ | Otu006038 &lt;int&gt; | Otu006039 &lt;int&gt; | Otu006040 &lt;int&gt; | Otu006041 &lt;int&gt; | Otu006042 &lt;int&gt; | Otu006043 &lt;int&gt; | Otu006044 &lt;int&gt; | Otu006045 &lt;int&gt; | Otu006046 &lt;int&gt; | Otu006047 &lt;int&gt; |\n",
       "|---|---|---|---|---|---|---|---|---|---|---|---|---|---|---|---|---|---|---|---|---|---|\n",
       "| 1 | H9  | H | S324 | ERG | Fall   | 2016 | Infected | Endo | Old | Fall2016   | ⋯ | 5 | 0 | 0 | 0 | 0 | 0 | 0 | 0 | 0 | 0 |\n",
       "| 2 | L11 | L | S634 | ERG | Fall   | 2017 | Infected | Epi  | New | Fall2017   | ⋯ | 0 | 0 | 0 | 0 | 7 | 0 | 0 | 0 | 0 | 2 |\n",
       "| 3 | A46 | A | S244 | PFN | Spring | 2014 | Healthy  | Epi  | Old | Spring2014 | ⋯ | 0 | 0 | 0 | 0 | 0 | 0 | 0 | 0 | 0 | 0 |\n",
       "| 4 | D19 | D | S309 | K69 | Fall   | 2016 | Healthy  | Epi  | Old | Fall2016   | ⋯ | 0 | 0 | 0 | 0 | 0 | 0 | 0 | 0 | 0 | 0 |\n",
       "| 5 | L19 | L | S651 | PFN | Spring | 2018 | Healthy  | Epi  | New | Spring2018 | ⋯ | 0 | 0 | 0 | 0 | 0 | 0 | 2 | 0 | 0 | 0 |\n",
       "| 6 | B48 | B | S127 | EY  | Fall   | 2014 | Infected | Epi  | Old | Fall2014   | ⋯ | 0 | 0 | 0 | 1 | 0 | 0 | 0 | 0 | 0 | 0 |\n",
       "\n"
      ],
      "text/plain": [
       "  Lib Run Samplenumber Site Season Year Infection Compartment SamplingingStage\n",
       "1 H9  H   S324         ERG  Fall   2016 Infected  Endo        Old             \n",
       "2 L11 L   S634         ERG  Fall   2017 Infected  Epi         New             \n",
       "3 A46 A   S244         PFN  Spring 2014 Healthy   Epi         Old             \n",
       "4 D19 D   S309         K69  Fall   2016 Healthy   Epi         Old             \n",
       "5 L19 L   S651         PFN  Spring 2018 Healthy   Epi         New             \n",
       "6 B48 B   S127         EY   Fall   2014 Infected  Epi         Old             \n",
       "  TimePoint  <U+22EF>        Otu006038 Otu006039 Otu006040 Otu006041 Otu006042\n",
       "1 Fall2016   <U+22EF> 5         0         0         0         0        \n",
       "2 Fall2017   <U+22EF> 0         0         0         0         7        \n",
       "3 Spring2014 <U+22EF> 0         0         0         0         0        \n",
       "4 Fall2016   <U+22EF> 0         0         0         0         0        \n",
       "5 Spring2018 <U+22EF> 0         0         0         0         0        \n",
       "6 Fall2014   <U+22EF> 0         0         0         1         0        \n",
       "  Otu006043 Otu006044 Otu006045 Otu006046 Otu006047\n",
       "1 0         0         0         0         0        \n",
       "2 0         0         0         0         2        \n",
       "3 0         0         0         0         0        \n",
       "4 0         0         0         0         0        \n",
       "5 0         2         0         0         0        \n",
       "6 0         0         0         0         0        "
      ]
     },
     "metadata": {},
     "output_type": "display_data"
    },
    {
     "data": {
      "text/html": [
       "15"
      ],
      "text/latex": [
       "15"
      ],
      "text/markdown": [
       "15"
      ],
      "text/plain": [
       "[1] 15"
      ]
     },
     "metadata": {},
     "output_type": "display_data"
    }
   ],
   "source": [
    "head(df)\n",
    "which( colnames(df)==\"Otu000002\" )"
   ]
  },
  {
   "cell_type": "code",
   "execution_count": 136,
   "id": "2e74aa2e-39fa-442b-8dea-2ea9182093c3",
   "metadata": {},
   "outputs": [
    {
     "data": {
      "text/html": [
       "<table class=\"dataframe\">\n",
       "<caption>A data.frame: 6 × 5503</caption>\n",
       "<thead>\n",
       "\t<tr><th></th><th scope=col>Compartment</th><th scope=col>Otu000002</th><th scope=col>Otu000003</th><th scope=col>Otu000004</th><th scope=col>Otu000005</th><th scope=col>Otu000006</th><th scope=col>Otu000009</th><th scope=col>Otu000010</th><th scope=col>Otu000011</th><th scope=col>Otu000012</th><th scope=col>⋯</th><th scope=col>Otu006038</th><th scope=col>Otu006039</th><th scope=col>Otu006040</th><th scope=col>Otu006041</th><th scope=col>Otu006042</th><th scope=col>Otu006043</th><th scope=col>Otu006044</th><th scope=col>Otu006045</th><th scope=col>Otu006046</th><th scope=col>Otu006047</th></tr>\n",
       "\t<tr><th></th><th scope=col>&lt;chr&gt;</th><th scope=col>&lt;int&gt;</th><th scope=col>&lt;int&gt;</th><th scope=col>&lt;int&gt;</th><th scope=col>&lt;int&gt;</th><th scope=col>&lt;int&gt;</th><th scope=col>&lt;int&gt;</th><th scope=col>&lt;int&gt;</th><th scope=col>&lt;int&gt;</th><th scope=col>&lt;int&gt;</th><th scope=col>⋯</th><th scope=col>&lt;int&gt;</th><th scope=col>&lt;int&gt;</th><th scope=col>&lt;int&gt;</th><th scope=col>&lt;int&gt;</th><th scope=col>&lt;int&gt;</th><th scope=col>&lt;int&gt;</th><th scope=col>&lt;int&gt;</th><th scope=col>&lt;int&gt;</th><th scope=col>&lt;int&gt;</th><th scope=col>&lt;int&gt;</th></tr>\n",
       "</thead>\n",
       "<tbody>\n",
       "\t<tr><th scope=row>1</th><td>Endo</td><td> 879</td><td>1632</td><td> 22</td><td>   5</td><td> 20</td><td> 678</td><td>546</td><td>   0</td><td>1</td><td>⋯</td><td>5</td><td>0</td><td>0</td><td>0</td><td>0</td><td>0</td><td>0</td><td>0</td><td>0</td><td>0</td></tr>\n",
       "\t<tr><th scope=row>2</th><td>Epi </td><td>2495</td><td> 806</td><td>493</td><td> 210</td><td>154</td><td>1457</td><td>307</td><td>1816</td><td>0</td><td>⋯</td><td>0</td><td>0</td><td>0</td><td>0</td><td>7</td><td>0</td><td>0</td><td>0</td><td>0</td><td>2</td></tr>\n",
       "\t<tr><th scope=row>3</th><td>Epi </td><td>1417</td><td> 538</td><td> 71</td><td>  32</td><td>  0</td><td>  19</td><td> 59</td><td> 727</td><td>0</td><td>⋯</td><td>0</td><td>0</td><td>0</td><td>0</td><td>0</td><td>0</td><td>0</td><td>0</td><td>0</td><td>0</td></tr>\n",
       "\t<tr><th scope=row>4</th><td>Epi </td><td> 229</td><td>1046</td><td> 51</td><td>  75</td><td> 39</td><td>  71</td><td> 90</td><td> 127</td><td>0</td><td>⋯</td><td>0</td><td>0</td><td>0</td><td>0</td><td>0</td><td>0</td><td>0</td><td>0</td><td>0</td><td>0</td></tr>\n",
       "\t<tr><th scope=row>5</th><td>Epi </td><td>3830</td><td>  39</td><td> 99</td><td>  30</td><td>  0</td><td> 225</td><td>390</td><td>2746</td><td>0</td><td>⋯</td><td>0</td><td>0</td><td>0</td><td>0</td><td>0</td><td>0</td><td>2</td><td>0</td><td>0</td><td>0</td></tr>\n",
       "\t<tr><th scope=row>6</th><td>Epi </td><td> 164</td><td>  84</td><td>977</td><td>5727</td><td> 24</td><td>8103</td><td>301</td><td> 138</td><td>0</td><td>⋯</td><td>0</td><td>0</td><td>0</td><td>1</td><td>0</td><td>0</td><td>0</td><td>0</td><td>0</td><td>0</td></tr>\n",
       "</tbody>\n",
       "</table>\n"
      ],
      "text/latex": [
       "A data.frame: 6 × 5503\n",
       "\\begin{tabular}{r|lllllllllllllllllllll}\n",
       "  & Compartment & Otu000002 & Otu000003 & Otu000004 & Otu000005 & Otu000006 & Otu000009 & Otu000010 & Otu000011 & Otu000012 & ⋯ & Otu006038 & Otu006039 & Otu006040 & Otu006041 & Otu006042 & Otu006043 & Otu006044 & Otu006045 & Otu006046 & Otu006047\\\\\n",
       "  & <chr> & <int> & <int> & <int> & <int> & <int> & <int> & <int> & <int> & <int> & ⋯ & <int> & <int> & <int> & <int> & <int> & <int> & <int> & <int> & <int> & <int>\\\\\n",
       "\\hline\n",
       "\t1 & Endo &  879 & 1632 &  22 &    5 &  20 &  678 & 546 &    0 & 1 & ⋯ & 5 & 0 & 0 & 0 & 0 & 0 & 0 & 0 & 0 & 0\\\\\n",
       "\t2 & Epi  & 2495 &  806 & 493 &  210 & 154 & 1457 & 307 & 1816 & 0 & ⋯ & 0 & 0 & 0 & 0 & 7 & 0 & 0 & 0 & 0 & 2\\\\\n",
       "\t3 & Epi  & 1417 &  538 &  71 &   32 &   0 &   19 &  59 &  727 & 0 & ⋯ & 0 & 0 & 0 & 0 & 0 & 0 & 0 & 0 & 0 & 0\\\\\n",
       "\t4 & Epi  &  229 & 1046 &  51 &   75 &  39 &   71 &  90 &  127 & 0 & ⋯ & 0 & 0 & 0 & 0 & 0 & 0 & 0 & 0 & 0 & 0\\\\\n",
       "\t5 & Epi  & 3830 &   39 &  99 &   30 &   0 &  225 & 390 & 2746 & 0 & ⋯ & 0 & 0 & 0 & 0 & 0 & 0 & 2 & 0 & 0 & 0\\\\\n",
       "\t6 & Epi  &  164 &   84 & 977 & 5727 &  24 & 8103 & 301 &  138 & 0 & ⋯ & 0 & 0 & 0 & 1 & 0 & 0 & 0 & 0 & 0 & 0\\\\\n",
       "\\end{tabular}\n"
      ],
      "text/markdown": [
       "\n",
       "A data.frame: 6 × 5503\n",
       "\n",
       "| <!--/--> | Compartment &lt;chr&gt; | Otu000002 &lt;int&gt; | Otu000003 &lt;int&gt; | Otu000004 &lt;int&gt; | Otu000005 &lt;int&gt; | Otu000006 &lt;int&gt; | Otu000009 &lt;int&gt; | Otu000010 &lt;int&gt; | Otu000011 &lt;int&gt; | Otu000012 &lt;int&gt; | ⋯ ⋯ | Otu006038 &lt;int&gt; | Otu006039 &lt;int&gt; | Otu006040 &lt;int&gt; | Otu006041 &lt;int&gt; | Otu006042 &lt;int&gt; | Otu006043 &lt;int&gt; | Otu006044 &lt;int&gt; | Otu006045 &lt;int&gt; | Otu006046 &lt;int&gt; | Otu006047 &lt;int&gt; |\n",
       "|---|---|---|---|---|---|---|---|---|---|---|---|---|---|---|---|---|---|---|---|---|---|\n",
       "| 1 | Endo |  879 | 1632 |  22 |    5 |  20 |  678 | 546 |    0 | 1 | ⋯ | 5 | 0 | 0 | 0 | 0 | 0 | 0 | 0 | 0 | 0 |\n",
       "| 2 | Epi  | 2495 |  806 | 493 |  210 | 154 | 1457 | 307 | 1816 | 0 | ⋯ | 0 | 0 | 0 | 0 | 7 | 0 | 0 | 0 | 0 | 2 |\n",
       "| 3 | Epi  | 1417 |  538 |  71 |   32 |   0 |   19 |  59 |  727 | 0 | ⋯ | 0 | 0 | 0 | 0 | 0 | 0 | 0 | 0 | 0 | 0 |\n",
       "| 4 | Epi  |  229 | 1046 |  51 |   75 |  39 |   71 |  90 |  127 | 0 | ⋯ | 0 | 0 | 0 | 0 | 0 | 0 | 0 | 0 | 0 | 0 |\n",
       "| 5 | Epi  | 3830 |   39 |  99 |   30 |   0 |  225 | 390 | 2746 | 0 | ⋯ | 0 | 0 | 0 | 0 | 0 | 0 | 2 | 0 | 0 | 0 |\n",
       "| 6 | Epi  |  164 |   84 | 977 | 5727 |  24 | 8103 | 301 |  138 | 0 | ⋯ | 0 | 0 | 0 | 1 | 0 | 0 | 0 | 0 | 0 | 0 |\n",
       "\n"
      ],
      "text/plain": [
       "  Compartment Otu000002 Otu000003 Otu000004 Otu000005 Otu000006 Otu000009\n",
       "1 Endo         879      1632       22          5       20        678     \n",
       "2 Epi         2495       806      493        210      154       1457     \n",
       "3 Epi         1417       538       71         32        0         19     \n",
       "4 Epi          229      1046       51         75       39         71     \n",
       "5 Epi         3830        39       99         30        0        225     \n",
       "6 Epi          164        84      977       5727       24       8103     \n",
       "  Otu000010 Otu000011 Otu000012 <U+22EF>        Otu006038 Otu006039 Otu006040\n",
       "1 546          0      1         <U+22EF> 5         0         0        \n",
       "2 307       1816      0         <U+22EF> 0         0         0        \n",
       "3  59        727      0         <U+22EF> 0         0         0        \n",
       "4  90        127      0         <U+22EF> 0         0         0        \n",
       "5 390       2746      0         <U+22EF> 0         0         0        \n",
       "6 301        138      0         <U+22EF> 0         0         0        \n",
       "  Otu006041 Otu006042 Otu006043 Otu006044 Otu006045 Otu006046 Otu006047\n",
       "1 0         0         0         0         0         0         0        \n",
       "2 0         7         0         0         0         0         2        \n",
       "3 0         0         0         0         0         0         0        \n",
       "4 0         0         0         0         0         0         0        \n",
       "5 0         0         0         2         0         0         0        \n",
       "6 1         0         0         0         0         0         0        "
      ]
     },
     "metadata": {},
     "output_type": "display_data"
    }
   ],
   "source": [
    "df1 = df[-c(1:7,9:14)]\n",
    "head(df1)"
   ]
  },
  {
   "cell_type": "code",
   "execution_count": 145,
   "id": "839e68eb-5966-4930-9773-368c903609ee",
   "metadata": {},
   "outputs": [
    {
     "data": {
      "text/html": [
       "<table class=\"dataframe\">\n",
       "<caption>A data.frame: 2 × 5505</caption>\n",
       "<thead>\n",
       "\t<tr><th scope=col>Group.1</th><th scope=col>Compartment</th><th scope=col>Otu000002</th><th scope=col>Otu000003</th><th scope=col>Otu000004</th><th scope=col>Otu000005</th><th scope=col>Otu000006</th><th scope=col>Otu000009</th><th scope=col>Otu000010</th><th scope=col>Otu000011</th><th scope=col>⋯</th><th scope=col>Otu006039</th><th scope=col>Otu006040</th><th scope=col>Otu006041</th><th scope=col>Otu006042</th><th scope=col>Otu006043</th><th scope=col>Otu006044</th><th scope=col>Otu006045</th><th scope=col>Otu006046</th><th scope=col>Otu006047</th><th scope=col>estimate</th></tr>\n",
       "\t<tr><th scope=col>&lt;chr&gt;</th><th scope=col>&lt;dbl&gt;</th><th scope=col>&lt;dbl&gt;</th><th scope=col>&lt;dbl&gt;</th><th scope=col>&lt;dbl&gt;</th><th scope=col>&lt;dbl&gt;</th><th scope=col>&lt;dbl&gt;</th><th scope=col>&lt;dbl&gt;</th><th scope=col>&lt;dbl&gt;</th><th scope=col>&lt;dbl&gt;</th><th scope=col>⋯</th><th scope=col>&lt;dbl&gt;</th><th scope=col>&lt;dbl&gt;</th><th scope=col>&lt;dbl&gt;</th><th scope=col>&lt;dbl&gt;</th><th scope=col>&lt;dbl&gt;</th><th scope=col>&lt;dbl&gt;</th><th scope=col>&lt;dbl&gt;</th><th scope=col>&lt;dbl&gt;</th><th scope=col>&lt;dbl&gt;</th><th scope=col>&lt;chr&gt;</th></tr>\n",
       "</thead>\n",
       "<tbody>\n",
       "\t<tr><td>Endo</td><td>1</td><td>0.9597701</td><td>0.9396552</td><td>0.8591954</td><td>0.933908</td><td>0.7011494</td><td>0.8017241</td><td>0.908046</td><td>0.6896552</td><td>⋯</td><td>0.02011494</td><td>0.00000000</td><td>0.005747126</td><td>0.00000000</td><td>0.00000000</td><td>0.002873563</td><td>0.00000000</td><td>0.002873563</td><td>0.00000000</td><td>percentageOccurance</td></tr>\n",
       "\t<tr><td>Epi </td><td>1</td><td>0.9857550</td><td>0.9886040</td><td>0.9316239</td><td>0.982906</td><td>0.6068376</td><td>0.9715100</td><td>0.991453</td><td>0.9715100</td><td>⋯</td><td>0.06837607</td><td>0.03703704</td><td>0.056980057</td><td>0.03703704</td><td>0.08547009</td><td>0.059829060</td><td>0.04558405</td><td>0.042735043</td><td>0.01139601</td><td>percentageOccurance</td></tr>\n",
       "</tbody>\n",
       "</table>\n"
      ],
      "text/latex": [
       "A data.frame: 2 × 5505\n",
       "\\begin{tabular}{lllllllllllllllllllll}\n",
       " Group.1 & Compartment & Otu000002 & Otu000003 & Otu000004 & Otu000005 & Otu000006 & Otu000009 & Otu000010 & Otu000011 & ⋯ & Otu006039 & Otu006040 & Otu006041 & Otu006042 & Otu006043 & Otu006044 & Otu006045 & Otu006046 & Otu006047 & estimate\\\\\n",
       " <chr> & <dbl> & <dbl> & <dbl> & <dbl> & <dbl> & <dbl> & <dbl> & <dbl> & <dbl> & ⋯ & <dbl> & <dbl> & <dbl> & <dbl> & <dbl> & <dbl> & <dbl> & <dbl> & <dbl> & <chr>\\\\\n",
       "\\hline\n",
       "\t Endo & 1 & 0.9597701 & 0.9396552 & 0.8591954 & 0.933908 & 0.7011494 & 0.8017241 & 0.908046 & 0.6896552 & ⋯ & 0.02011494 & 0.00000000 & 0.005747126 & 0.00000000 & 0.00000000 & 0.002873563 & 0.00000000 & 0.002873563 & 0.00000000 & percentageOccurance\\\\\n",
       "\t Epi  & 1 & 0.9857550 & 0.9886040 & 0.9316239 & 0.982906 & 0.6068376 & 0.9715100 & 0.991453 & 0.9715100 & ⋯ & 0.06837607 & 0.03703704 & 0.056980057 & 0.03703704 & 0.08547009 & 0.059829060 & 0.04558405 & 0.042735043 & 0.01139601 & percentageOccurance\\\\\n",
       "\\end{tabular}\n"
      ],
      "text/markdown": [
       "\n",
       "A data.frame: 2 × 5505\n",
       "\n",
       "| Group.1 &lt;chr&gt; | Compartment &lt;dbl&gt; | Otu000002 &lt;dbl&gt; | Otu000003 &lt;dbl&gt; | Otu000004 &lt;dbl&gt; | Otu000005 &lt;dbl&gt; | Otu000006 &lt;dbl&gt; | Otu000009 &lt;dbl&gt; | Otu000010 &lt;dbl&gt; | Otu000011 &lt;dbl&gt; | ⋯ ⋯ | Otu006039 &lt;dbl&gt; | Otu006040 &lt;dbl&gt; | Otu006041 &lt;dbl&gt; | Otu006042 &lt;dbl&gt; | Otu006043 &lt;dbl&gt; | Otu006044 &lt;dbl&gt; | Otu006045 &lt;dbl&gt; | Otu006046 &lt;dbl&gt; | Otu006047 &lt;dbl&gt; | estimate &lt;chr&gt; |\n",
       "|---|---|---|---|---|---|---|---|---|---|---|---|---|---|---|---|---|---|---|---|---|\n",
       "| Endo | 1 | 0.9597701 | 0.9396552 | 0.8591954 | 0.933908 | 0.7011494 | 0.8017241 | 0.908046 | 0.6896552 | ⋯ | 0.02011494 | 0.00000000 | 0.005747126 | 0.00000000 | 0.00000000 | 0.002873563 | 0.00000000 | 0.002873563 | 0.00000000 | percentageOccurance |\n",
       "| Epi  | 1 | 0.9857550 | 0.9886040 | 0.9316239 | 0.982906 | 0.6068376 | 0.9715100 | 0.991453 | 0.9715100 | ⋯ | 0.06837607 | 0.03703704 | 0.056980057 | 0.03703704 | 0.08547009 | 0.059829060 | 0.04558405 | 0.042735043 | 0.01139601 | percentageOccurance |\n",
       "\n"
      ],
      "text/plain": [
       "  Group.1 Compartment Otu000002 Otu000003 Otu000004 Otu000005 Otu000006\n",
       "1 Endo    1           0.9597701 0.9396552 0.8591954 0.933908  0.7011494\n",
       "2 Epi     1           0.9857550 0.9886040 0.9316239 0.982906  0.6068376\n",
       "  Otu000009 Otu000010 Otu000011 <U+22EF>        Otu006039  Otu006040  Otu006041  \n",
       "1 0.8017241 0.908046  0.6896552 <U+22EF> 0.02011494 0.00000000 0.005747126\n",
       "2 0.9715100 0.991453  0.9715100 <U+22EF> 0.06837607 0.03703704 0.056980057\n",
       "  Otu006042  Otu006043  Otu006044   Otu006045  Otu006046   Otu006047 \n",
       "1 0.00000000 0.00000000 0.002873563 0.00000000 0.002873563 0.00000000\n",
       "2 0.03703704 0.08547009 0.059829060 0.04558405 0.042735043 0.01139601\n",
       "  estimate           \n",
       "1 percentageOccurance\n",
       "2 percentageOccurance"
      ]
     },
     "metadata": {},
     "output_type": "display_data"
    }
   ],
   "source": [
    "non_zero_proportions <- aggregate(df1 != 0, by = list(df1$Compartment), FUN = function(x) sum(x) / length(x))\n",
    " \n",
    "non_zero_proportions$estimate = 'percentageOccurance'   \n",
    "                                  \n",
    "non_zero_proportions "
   ]
  },
  {
   "cell_type": "code",
   "execution_count": 146,
   "id": "358001fb-5cf6-4c95-b1a9-21b54419f67c",
   "metadata": {},
   "outputs": [],
   "source": [
    "normalized_df <- data.frame(t(apply(df1[,-1], 1, function(x) x / sum(x))))\n",
    "# Add the group column back to the normalized dataframe\n",
    "normalized_df <- cbind(df1[,1], normalized_df)\n",
    "colnames(normalized_df)[1] <- \"group\"\n",
    "# Calculate the average of each column per group\n",
    "average_per_group <- aggregate(normalized_df[,-1], by = list(normalized_df$group), FUN = mean)\n",
    "# Print the rpesultsaverage_per_group                                    \n",
    "average_per_group$estimate = 'avarageRelativeAbundance'                                        "
   ]
  },
  {
   "cell_type": "code",
   "execution_count": 147,
   "id": "cac57089-20ee-4844-a003-413cd50eff47",
   "metadata": {},
   "outputs": [
    {
     "data": {
      "text/html": [
       "<table class=\"dataframe\">\n",
       "<caption>A data.frame: 2 × 5504</caption>\n",
       "<thead>\n",
       "\t<tr><th></th><th scope=col>Group.1</th><th scope=col>Otu000002</th><th scope=col>Otu000003</th><th scope=col>Otu000004</th><th scope=col>Otu000005</th><th scope=col>Otu000006</th><th scope=col>Otu000009</th><th scope=col>Otu000010</th><th scope=col>Otu000011</th><th scope=col>Otu000012</th><th scope=col>⋯</th><th scope=col>Otu006039</th><th scope=col>Otu006040</th><th scope=col>Otu006041</th><th scope=col>Otu006042</th><th scope=col>Otu006043</th><th scope=col>Otu006044</th><th scope=col>Otu006045</th><th scope=col>Otu006046</th><th scope=col>Otu006047</th><th scope=col>estimate</th></tr>\n",
       "\t<tr><th></th><th scope=col>&lt;chr&gt;</th><th scope=col>&lt;dbl&gt;</th><th scope=col>&lt;dbl&gt;</th><th scope=col>&lt;dbl&gt;</th><th scope=col>&lt;dbl&gt;</th><th scope=col>&lt;dbl&gt;</th><th scope=col>&lt;dbl&gt;</th><th scope=col>&lt;dbl&gt;</th><th scope=col>&lt;dbl&gt;</th><th scope=col>&lt;dbl&gt;</th><th scope=col>⋯</th><th scope=col>&lt;dbl&gt;</th><th scope=col>&lt;dbl&gt;</th><th scope=col>&lt;dbl&gt;</th><th scope=col>&lt;dbl&gt;</th><th scope=col>&lt;dbl&gt;</th><th scope=col>&lt;dbl&gt;</th><th scope=col>&lt;dbl&gt;</th><th scope=col>&lt;dbl&gt;</th><th scope=col>&lt;dbl&gt;</th><th scope=col>&lt;chr&gt;</th></tr>\n",
       "</thead>\n",
       "<tbody>\n",
       "\t<tr><th scope=row>1</th><td>Endo</td><td>0.15226194</td><td>0.03568516</td><td>0.07102835</td><td>0.04677450</td><td>0.068445903</td><td>0.02609317</td><td>0.01539358</td><td>0.008803235</td><td>0.012012059</td><td>⋯</td><td>6.830815e-06</td><td>0.000000e+00</td><td>7.936140e-07</td><td>0.000000e+00</td><td>0.000000e+00</td><td>7.724632e-07</td><td>0.000000e+00</td><td>3.902177e-07</td><td>0.000000e+00</td><td>avarageRelativeAbundance</td></tr>\n",
       "\t<tr><th scope=row>2</th><td>Epi </td><td>0.07711663</td><td>0.03682311</td><td>0.01156558</td><td>0.01556394</td><td>0.007986789</td><td>0.02310679</td><td>0.02207776</td><td>0.019251288</td><td>0.006536406</td><td>⋯</td><td>8.418586e-06</td><td>6.556183e-06</td><td>9.073402e-06</td><td>8.017491e-06</td><td>9.677418e-06</td><td>8.320666e-06</td><td>8.890896e-06</td><td>5.978679e-06</td><td>6.574278e-06</td><td>avarageRelativeAbundance</td></tr>\n",
       "</tbody>\n",
       "</table>\n"
      ],
      "text/latex": [
       "A data.frame: 2 × 5504\n",
       "\\begin{tabular}{r|lllllllllllllllllllll}\n",
       "  & Group.1 & Otu000002 & Otu000003 & Otu000004 & Otu000005 & Otu000006 & Otu000009 & Otu000010 & Otu000011 & Otu000012 & ⋯ & Otu006039 & Otu006040 & Otu006041 & Otu006042 & Otu006043 & Otu006044 & Otu006045 & Otu006046 & Otu006047 & estimate\\\\\n",
       "  & <chr> & <dbl> & <dbl> & <dbl> & <dbl> & <dbl> & <dbl> & <dbl> & <dbl> & <dbl> & ⋯ & <dbl> & <dbl> & <dbl> & <dbl> & <dbl> & <dbl> & <dbl> & <dbl> & <dbl> & <chr>\\\\\n",
       "\\hline\n",
       "\t1 & Endo & 0.15226194 & 0.03568516 & 0.07102835 & 0.04677450 & 0.068445903 & 0.02609317 & 0.01539358 & 0.008803235 & 0.012012059 & ⋯ & 6.830815e-06 & 0.000000e+00 & 7.936140e-07 & 0.000000e+00 & 0.000000e+00 & 7.724632e-07 & 0.000000e+00 & 3.902177e-07 & 0.000000e+00 & avarageRelativeAbundance\\\\\n",
       "\t2 & Epi  & 0.07711663 & 0.03682311 & 0.01156558 & 0.01556394 & 0.007986789 & 0.02310679 & 0.02207776 & 0.019251288 & 0.006536406 & ⋯ & 8.418586e-06 & 6.556183e-06 & 9.073402e-06 & 8.017491e-06 & 9.677418e-06 & 8.320666e-06 & 8.890896e-06 & 5.978679e-06 & 6.574278e-06 & avarageRelativeAbundance\\\\\n",
       "\\end{tabular}\n"
      ],
      "text/markdown": [
       "\n",
       "A data.frame: 2 × 5504\n",
       "\n",
       "| <!--/--> | Group.1 &lt;chr&gt; | Otu000002 &lt;dbl&gt; | Otu000003 &lt;dbl&gt; | Otu000004 &lt;dbl&gt; | Otu000005 &lt;dbl&gt; | Otu000006 &lt;dbl&gt; | Otu000009 &lt;dbl&gt; | Otu000010 &lt;dbl&gt; | Otu000011 &lt;dbl&gt; | Otu000012 &lt;dbl&gt; | ⋯ ⋯ | Otu006039 &lt;dbl&gt; | Otu006040 &lt;dbl&gt; | Otu006041 &lt;dbl&gt; | Otu006042 &lt;dbl&gt; | Otu006043 &lt;dbl&gt; | Otu006044 &lt;dbl&gt; | Otu006045 &lt;dbl&gt; | Otu006046 &lt;dbl&gt; | Otu006047 &lt;dbl&gt; | estimate &lt;chr&gt; |\n",
       "|---|---|---|---|---|---|---|---|---|---|---|---|---|---|---|---|---|---|---|---|---|---|\n",
       "| 1 | Endo | 0.15226194 | 0.03568516 | 0.07102835 | 0.04677450 | 0.068445903 | 0.02609317 | 0.01539358 | 0.008803235 | 0.012012059 | ⋯ | 6.830815e-06 | 0.000000e+00 | 7.936140e-07 | 0.000000e+00 | 0.000000e+00 | 7.724632e-07 | 0.000000e+00 | 3.902177e-07 | 0.000000e+00 | avarageRelativeAbundance |\n",
       "| 2 | Epi  | 0.07711663 | 0.03682311 | 0.01156558 | 0.01556394 | 0.007986789 | 0.02310679 | 0.02207776 | 0.019251288 | 0.006536406 | ⋯ | 8.418586e-06 | 6.556183e-06 | 9.073402e-06 | 8.017491e-06 | 9.677418e-06 | 8.320666e-06 | 8.890896e-06 | 5.978679e-06 | 6.574278e-06 | avarageRelativeAbundance |\n",
       "\n"
      ],
      "text/plain": [
       "  Group.1 Otu000002  Otu000003  Otu000004  Otu000005  Otu000006   Otu000009 \n",
       "1 Endo    0.15226194 0.03568516 0.07102835 0.04677450 0.068445903 0.02609317\n",
       "2 Epi     0.07711663 0.03682311 0.01156558 0.01556394 0.007986789 0.02310679\n",
       "  Otu000010  Otu000011   Otu000012   <U+22EF>        Otu006039    Otu006040   \n",
       "1 0.01539358 0.008803235 0.012012059 <U+22EF> 6.830815e-06 0.000000e+00\n",
       "2 0.02207776 0.019251288 0.006536406 <U+22EF> 8.418586e-06 6.556183e-06\n",
       "  Otu006041    Otu006042    Otu006043    Otu006044    Otu006045    Otu006046   \n",
       "1 7.936140e-07 0.000000e+00 0.000000e+00 7.724632e-07 0.000000e+00 3.902177e-07\n",
       "2 9.073402e-06 8.017491e-06 9.677418e-06 8.320666e-06 8.890896e-06 5.978679e-06\n",
       "  Otu006047    estimate                \n",
       "1 0.000000e+00 avarageRelativeAbundance\n",
       "2 6.574278e-06 avarageRelativeAbundance"
      ]
     },
     "metadata": {},
     "output_type": "display_data"
    }
   ],
   "source": [
    "head(average_per_group)"
   ]
  },
  {
   "cell_type": "code",
   "execution_count": 166,
   "id": "9c708caf-5986-44d3-8a2a-d57bf5f27860",
   "metadata": {},
   "outputs": [
    {
     "data": {
      "text/html": [
       "<style>\n",
       ".list-inline {list-style: none; margin:0; padding: 0}\n",
       ".list-inline>li {display: inline-block}\n",
       ".list-inline>li:not(:last-child)::after {content: \"\\00b7\"; padding: 0 .5ex}\n",
       "</style>\n",
       "<ol class=list-inline><li>4</li><li>5505</li></ol>\n"
      ],
      "text/latex": [
       "\\begin{enumerate*}\n",
       "\\item 4\n",
       "\\item 5505\n",
       "\\end{enumerate*}\n"
      ],
      "text/markdown": [
       "1. 4\n",
       "2. 5505\n",
       "\n",
       "\n"
      ],
      "text/plain": [
       "[1]    4 5505"
      ]
     },
     "metadata": {},
     "output_type": "display_data"
    },
    {
     "data": {
      "text/html": [
       "<table class=\"dataframe\">\n",
       "<caption>A data.frame: 4 × 5503</caption>\n",
       "<thead>\n",
       "\t<tr><th></th><th scope=col>group</th><th scope=col>Otu000002</th><th scope=col>Otu000003</th><th scope=col>Otu000004</th><th scope=col>Otu000005</th><th scope=col>Otu000006</th><th scope=col>Otu000009</th><th scope=col>Otu000010</th><th scope=col>Otu000011</th><th scope=col>Otu000012</th><th scope=col>⋯</th><th scope=col>Otu006038</th><th scope=col>Otu006039</th><th scope=col>Otu006040</th><th scope=col>Otu006041</th><th scope=col>Otu006042</th><th scope=col>Otu006043</th><th scope=col>Otu006044</th><th scope=col>Otu006045</th><th scope=col>Otu006046</th><th scope=col>Otu006047</th></tr>\n",
       "\t<tr><th></th><th scope=col>&lt;chr&gt;</th><th scope=col>&lt;dbl&gt;</th><th scope=col>&lt;dbl&gt;</th><th scope=col>&lt;dbl&gt;</th><th scope=col>&lt;dbl&gt;</th><th scope=col>&lt;dbl&gt;</th><th scope=col>&lt;dbl&gt;</th><th scope=col>&lt;dbl&gt;</th><th scope=col>&lt;dbl&gt;</th><th scope=col>&lt;dbl&gt;</th><th scope=col>⋯</th><th scope=col>&lt;dbl&gt;</th><th scope=col>&lt;dbl&gt;</th><th scope=col>&lt;dbl&gt;</th><th scope=col>&lt;dbl&gt;</th><th scope=col>&lt;dbl&gt;</th><th scope=col>&lt;dbl&gt;</th><th scope=col>&lt;dbl&gt;</th><th scope=col>&lt;dbl&gt;</th><th scope=col>&lt;dbl&gt;</th><th scope=col>&lt;dbl&gt;</th></tr>\n",
       "</thead>\n",
       "<tbody>\n",
       "\t<tr><th scope=row>1</th><td>Endo_percentageOccurance     </td><td>0.95977011</td><td>0.93965517</td><td>0.85919540</td><td>0.93390805</td><td>0.701149425</td><td>0.80172414</td><td>0.90804598</td><td>0.689655172</td><td>0.068965517</td><td>⋯</td><td>5.747126e-03</td><td>2.011494e-02</td><td>0.000000e+00</td><td>5.747126e-03</td><td>0.000000e+00</td><td>0.000000e+00</td><td>2.873563e-03</td><td>0.000000e+00</td><td>2.873563e-03</td><td>0.000000e+00</td></tr>\n",
       "\t<tr><th scope=row>2</th><td>Epi_percentageOccurance      </td><td>0.98575499</td><td>0.98860399</td><td>0.93162393</td><td>0.98290598</td><td>0.606837607</td><td>0.97150997</td><td>0.99145299</td><td>0.971509972</td><td>0.133903134</td><td>⋯</td><td>6.552707e-02</td><td>6.837607e-02</td><td>3.703704e-02</td><td>5.698006e-02</td><td>3.703704e-02</td><td>8.547009e-02</td><td>5.982906e-02</td><td>4.558405e-02</td><td>4.273504e-02</td><td>1.139601e-02</td></tr>\n",
       "\t<tr><th scope=row>3</th><td>Endo_avarageRelativeAbundance</td><td>0.15226194</td><td>0.03568516</td><td>0.07102835</td><td>0.04677450</td><td>0.068445903</td><td>0.02609317</td><td>0.01539358</td><td>0.008803235</td><td>0.012012059</td><td>⋯</td><td>5.884648e-06</td><td>6.830815e-06</td><td>0.000000e+00</td><td>7.936140e-07</td><td>0.000000e+00</td><td>0.000000e+00</td><td>7.724632e-07</td><td>0.000000e+00</td><td>3.902177e-07</td><td>0.000000e+00</td></tr>\n",
       "\t<tr><th scope=row>4</th><td>Epi_avarageRelativeAbundance </td><td>0.07711663</td><td>0.03682311</td><td>0.01156558</td><td>0.01556394</td><td>0.007986789</td><td>0.02310679</td><td>0.02207776</td><td>0.019251288</td><td>0.006536406</td><td>⋯</td><td>6.822644e-06</td><td>8.418586e-06</td><td>6.556183e-06</td><td>9.073402e-06</td><td>8.017491e-06</td><td>9.677418e-06</td><td>8.320666e-06</td><td>8.890896e-06</td><td>5.978679e-06</td><td>6.574278e-06</td></tr>\n",
       "</tbody>\n",
       "</table>\n"
      ],
      "text/latex": [
       "A data.frame: 4 × 5503\n",
       "\\begin{tabular}{r|lllllllllllllllllllll}\n",
       "  & group & Otu000002 & Otu000003 & Otu000004 & Otu000005 & Otu000006 & Otu000009 & Otu000010 & Otu000011 & Otu000012 & ⋯ & Otu006038 & Otu006039 & Otu006040 & Otu006041 & Otu006042 & Otu006043 & Otu006044 & Otu006045 & Otu006046 & Otu006047\\\\\n",
       "  & <chr> & <dbl> & <dbl> & <dbl> & <dbl> & <dbl> & <dbl> & <dbl> & <dbl> & <dbl> & ⋯ & <dbl> & <dbl> & <dbl> & <dbl> & <dbl> & <dbl> & <dbl> & <dbl> & <dbl> & <dbl>\\\\\n",
       "\\hline\n",
       "\t1 & Endo\\_percentageOccurance      & 0.95977011 & 0.93965517 & 0.85919540 & 0.93390805 & 0.701149425 & 0.80172414 & 0.90804598 & 0.689655172 & 0.068965517 & ⋯ & 5.747126e-03 & 2.011494e-02 & 0.000000e+00 & 5.747126e-03 & 0.000000e+00 & 0.000000e+00 & 2.873563e-03 & 0.000000e+00 & 2.873563e-03 & 0.000000e+00\\\\\n",
       "\t2 & Epi\\_percentageOccurance       & 0.98575499 & 0.98860399 & 0.93162393 & 0.98290598 & 0.606837607 & 0.97150997 & 0.99145299 & 0.971509972 & 0.133903134 & ⋯ & 6.552707e-02 & 6.837607e-02 & 3.703704e-02 & 5.698006e-02 & 3.703704e-02 & 8.547009e-02 & 5.982906e-02 & 4.558405e-02 & 4.273504e-02 & 1.139601e-02\\\\\n",
       "\t3 & Endo\\_avarageRelativeAbundance & 0.15226194 & 0.03568516 & 0.07102835 & 0.04677450 & 0.068445903 & 0.02609317 & 0.01539358 & 0.008803235 & 0.012012059 & ⋯ & 5.884648e-06 & 6.830815e-06 & 0.000000e+00 & 7.936140e-07 & 0.000000e+00 & 0.000000e+00 & 7.724632e-07 & 0.000000e+00 & 3.902177e-07 & 0.000000e+00\\\\\n",
       "\t4 & Epi\\_avarageRelativeAbundance  & 0.07711663 & 0.03682311 & 0.01156558 & 0.01556394 & 0.007986789 & 0.02310679 & 0.02207776 & 0.019251288 & 0.006536406 & ⋯ & 6.822644e-06 & 8.418586e-06 & 6.556183e-06 & 9.073402e-06 & 8.017491e-06 & 9.677418e-06 & 8.320666e-06 & 8.890896e-06 & 5.978679e-06 & 6.574278e-06\\\\\n",
       "\\end{tabular}\n"
      ],
      "text/markdown": [
       "\n",
       "A data.frame: 4 × 5503\n",
       "\n",
       "| <!--/--> | group &lt;chr&gt; | Otu000002 &lt;dbl&gt; | Otu000003 &lt;dbl&gt; | Otu000004 &lt;dbl&gt; | Otu000005 &lt;dbl&gt; | Otu000006 &lt;dbl&gt; | Otu000009 &lt;dbl&gt; | Otu000010 &lt;dbl&gt; | Otu000011 &lt;dbl&gt; | Otu000012 &lt;dbl&gt; | ⋯ ⋯ | Otu006038 &lt;dbl&gt; | Otu006039 &lt;dbl&gt; | Otu006040 &lt;dbl&gt; | Otu006041 &lt;dbl&gt; | Otu006042 &lt;dbl&gt; | Otu006043 &lt;dbl&gt; | Otu006044 &lt;dbl&gt; | Otu006045 &lt;dbl&gt; | Otu006046 &lt;dbl&gt; | Otu006047 &lt;dbl&gt; |\n",
       "|---|---|---|---|---|---|---|---|---|---|---|---|---|---|---|---|---|---|---|---|---|---|\n",
       "| 1 | Endo_percentageOccurance      | 0.95977011 | 0.93965517 | 0.85919540 | 0.93390805 | 0.701149425 | 0.80172414 | 0.90804598 | 0.689655172 | 0.068965517 | ⋯ | 5.747126e-03 | 2.011494e-02 | 0.000000e+00 | 5.747126e-03 | 0.000000e+00 | 0.000000e+00 | 2.873563e-03 | 0.000000e+00 | 2.873563e-03 | 0.000000e+00 |\n",
       "| 2 | Epi_percentageOccurance       | 0.98575499 | 0.98860399 | 0.93162393 | 0.98290598 | 0.606837607 | 0.97150997 | 0.99145299 | 0.971509972 | 0.133903134 | ⋯ | 6.552707e-02 | 6.837607e-02 | 3.703704e-02 | 5.698006e-02 | 3.703704e-02 | 8.547009e-02 | 5.982906e-02 | 4.558405e-02 | 4.273504e-02 | 1.139601e-02 |\n",
       "| 3 | Endo_avarageRelativeAbundance | 0.15226194 | 0.03568516 | 0.07102835 | 0.04677450 | 0.068445903 | 0.02609317 | 0.01539358 | 0.008803235 | 0.012012059 | ⋯ | 5.884648e-06 | 6.830815e-06 | 0.000000e+00 | 7.936140e-07 | 0.000000e+00 | 0.000000e+00 | 7.724632e-07 | 0.000000e+00 | 3.902177e-07 | 0.000000e+00 |\n",
       "| 4 | Epi_avarageRelativeAbundance  | 0.07711663 | 0.03682311 | 0.01156558 | 0.01556394 | 0.007986789 | 0.02310679 | 0.02207776 | 0.019251288 | 0.006536406 | ⋯ | 6.822644e-06 | 8.418586e-06 | 6.556183e-06 | 9.073402e-06 | 8.017491e-06 | 9.677418e-06 | 8.320666e-06 | 8.890896e-06 | 5.978679e-06 | 6.574278e-06 |\n",
       "\n"
      ],
      "text/plain": [
       "  group                         Otu000002  Otu000003  Otu000004  Otu000005 \n",
       "1 Endo_percentageOccurance      0.95977011 0.93965517 0.85919540 0.93390805\n",
       "2 Epi_percentageOccurance       0.98575499 0.98860399 0.93162393 0.98290598\n",
       "3 Endo_avarageRelativeAbundance 0.15226194 0.03568516 0.07102835 0.04677450\n",
       "4 Epi_avarageRelativeAbundance  0.07711663 0.03682311 0.01156558 0.01556394\n",
       "  Otu000006   Otu000009  Otu000010  Otu000011   Otu000012   <U+22EF>       \n",
       "1 0.701149425 0.80172414 0.90804598 0.689655172 0.068965517 <U+22EF>\n",
       "2 0.606837607 0.97150997 0.99145299 0.971509972 0.133903134 <U+22EF>\n",
       "3 0.068445903 0.02609317 0.01539358 0.008803235 0.012012059 <U+22EF>\n",
       "4 0.007986789 0.02310679 0.02207776 0.019251288 0.006536406 <U+22EF>\n",
       "  Otu006038    Otu006039    Otu006040    Otu006041    Otu006042    Otu006043   \n",
       "1 5.747126e-03 2.011494e-02 0.000000e+00 5.747126e-03 0.000000e+00 0.000000e+00\n",
       "2 6.552707e-02 6.837607e-02 3.703704e-02 5.698006e-02 3.703704e-02 8.547009e-02\n",
       "3 5.884648e-06 6.830815e-06 0.000000e+00 7.936140e-07 0.000000e+00 0.000000e+00\n",
       "4 6.822644e-06 8.418586e-06 6.556183e-06 9.073402e-06 8.017491e-06 9.677418e-06\n",
       "  Otu006044    Otu006045    Otu006046    Otu006047   \n",
       "1 2.873563e-03 0.000000e+00 2.873563e-03 0.000000e+00\n",
       "2 5.982906e-02 4.558405e-02 4.273504e-02 1.139601e-02\n",
       "3 7.724632e-07 0.000000e+00 3.902177e-07 0.000000e+00\n",
       "4 8.320666e-06 8.890896e-06 5.978679e-06 6.574278e-06"
      ]
     },
     "metadata": {},
     "output_type": "display_data"
    },
    {
     "data": {
      "text/html": [
       "<table class=\"dataframe\">\n",
       "<caption>A data.frame: 6 × 4</caption>\n",
       "<thead>\n",
       "\t<tr><th></th><th scope=col>Endo_percentageOccurance</th><th scope=col>Epi_percentageOccurance</th><th scope=col>Endo_avarageRelativeAbundance</th><th scope=col>Epi_avarageRelativeAbundance</th></tr>\n",
       "\t<tr><th></th><th scope=col>&lt;dbl&gt;</th><th scope=col>&lt;dbl&gt;</th><th scope=col>&lt;dbl&gt;</th><th scope=col>&lt;dbl&gt;</th></tr>\n",
       "</thead>\n",
       "<tbody>\n",
       "\t<tr><th scope=row>Otu000002</th><td>0.9597701</td><td>0.9857550</td><td>0.15226194</td><td>0.077116635</td></tr>\n",
       "\t<tr><th scope=row>Otu000003</th><td>0.9396552</td><td>0.9886040</td><td>0.03568516</td><td>0.036823114</td></tr>\n",
       "\t<tr><th scope=row>Otu000004</th><td>0.8591954</td><td>0.9316239</td><td>0.07102835</td><td>0.011565581</td></tr>\n",
       "\t<tr><th scope=row>Otu000005</th><td>0.9339080</td><td>0.9829060</td><td>0.04677450</td><td>0.015563937</td></tr>\n",
       "\t<tr><th scope=row>Otu000006</th><td>0.7011494</td><td>0.6068376</td><td>0.06844590</td><td>0.007986789</td></tr>\n",
       "\t<tr><th scope=row>Otu000009</th><td>0.8017241</td><td>0.9715100</td><td>0.02609317</td><td>0.023106789</td></tr>\n",
       "</tbody>\n",
       "</table>\n"
      ],
      "text/latex": [
       "A data.frame: 6 × 4\n",
       "\\begin{tabular}{r|llll}\n",
       "  & Endo\\_percentageOccurance & Epi\\_percentageOccurance & Endo\\_avarageRelativeAbundance & Epi\\_avarageRelativeAbundance\\\\\n",
       "  & <dbl> & <dbl> & <dbl> & <dbl>\\\\\n",
       "\\hline\n",
       "\tOtu000002 & 0.9597701 & 0.9857550 & 0.15226194 & 0.077116635\\\\\n",
       "\tOtu000003 & 0.9396552 & 0.9886040 & 0.03568516 & 0.036823114\\\\\n",
       "\tOtu000004 & 0.8591954 & 0.9316239 & 0.07102835 & 0.011565581\\\\\n",
       "\tOtu000005 & 0.9339080 & 0.9829060 & 0.04677450 & 0.015563937\\\\\n",
       "\tOtu000006 & 0.7011494 & 0.6068376 & 0.06844590 & 0.007986789\\\\\n",
       "\tOtu000009 & 0.8017241 & 0.9715100 & 0.02609317 & 0.023106789\\\\\n",
       "\\end{tabular}\n"
      ],
      "text/markdown": [
       "\n",
       "A data.frame: 6 × 4\n",
       "\n",
       "| <!--/--> | Endo_percentageOccurance &lt;dbl&gt; | Epi_percentageOccurance &lt;dbl&gt; | Endo_avarageRelativeAbundance &lt;dbl&gt; | Epi_avarageRelativeAbundance &lt;dbl&gt; |\n",
       "|---|---|---|---|---|\n",
       "| Otu000002 | 0.9597701 | 0.9857550 | 0.15226194 | 0.077116635 |\n",
       "| Otu000003 | 0.9396552 | 0.9886040 | 0.03568516 | 0.036823114 |\n",
       "| Otu000004 | 0.8591954 | 0.9316239 | 0.07102835 | 0.011565581 |\n",
       "| Otu000005 | 0.9339080 | 0.9829060 | 0.04677450 | 0.015563937 |\n",
       "| Otu000006 | 0.7011494 | 0.6068376 | 0.06844590 | 0.007986789 |\n",
       "| Otu000009 | 0.8017241 | 0.9715100 | 0.02609317 | 0.023106789 |\n",
       "\n"
      ],
      "text/plain": [
       "          Endo_percentageOccurance Epi_percentageOccurance\n",
       "Otu000002 0.9597701                0.9857550              \n",
       "Otu000003 0.9396552                0.9886040              \n",
       "Otu000004 0.8591954                0.9316239              \n",
       "Otu000005 0.9339080                0.9829060              \n",
       "Otu000006 0.7011494                0.6068376              \n",
       "Otu000009 0.8017241                0.9715100              \n",
       "          Endo_avarageRelativeAbundance Epi_avarageRelativeAbundance\n",
       "Otu000002 0.15226194                    0.077116635                 \n",
       "Otu000003 0.03568516                    0.036823114                 \n",
       "Otu000004 0.07102835                    0.011565581                 \n",
       "Otu000005 0.04677450                    0.015563937                 \n",
       "Otu000006 0.06844590                    0.007986789                 \n",
       "Otu000009 0.02609317                    0.023106789                 "
      ]
     },
     "metadata": {},
     "output_type": "display_data"
    }
   ],
   "source": [
    "df2 = rbind(non_zero_proportions[-c(2)] , average_per_group  )\n",
    "df2$group = paste(df2$`Group.1` , df2$estimate , sep = '_')\n",
    "dim(df2)\n",
    "df3 = df2[-c(1,5504)]\n",
    "df3 = df3[c(5503,1:5502)]\n",
    "head(df3)\n",
    "\n",
    "df4 <- as.data.frame(t(df3[, -1]))\n",
    "colnames(df4) <- df3$group\n",
    "head(df4)\n",
    "df4$OTU = rownames(df4)"
   ]
  },
  {
   "cell_type": "code",
   "execution_count": 167,
   "id": "78ddbe78-5ee5-4295-88c8-ce1d135870bb",
   "metadata": {},
   "outputs": [],
   "source": [
    "df4 = df4[order(df4$Endo_avarageRelativeAbundance,decreasing = TRUE),]\n",
    "df4$Rank_Endo_avarageRelativeAbundance = 1:nrow(df4)\n",
    "\n",
    "df4 = df4[order(df4$Epi_avarageRelativeAbundance,decreasing = TRUE),]\n",
    "df4$Rank_Epi_avarageRelativeAbundance = 1:nrow(df4)\n",
    "\n",
    "df4 = df4[order(df4$Endo_percentageOccurance,decreasing = TRUE),]\n",
    "df4$Rank_Endo_percentageOccurance = 1:nrow(df4)\n",
    "\n",
    "df4 = df4[order(df4$Epi_percentageOccurance,decreasing = TRUE),]\n",
    "df4$Rank_Epi_percentageOccurance = 1:nrow(df4)\n",
    "\n"
   ]
  },
  {
   "cell_type": "code",
   "execution_count": 168,
   "id": "e44450ee-ad59-4f67-b0cb-c5cec6da5bc5",
   "metadata": {},
   "outputs": [],
   "source": [
    "taxa = read.table('../data/DataClean/BV5Taxa.txt' , header = TRUE)\n",
    "df4 = merge(df4,taxa, by = 'OTU')"
   ]
  },
  {
   "cell_type": "code",
   "execution_count": 169,
   "id": "a4ab19e8-af49-4714-885a-50c38281dcdd",
   "metadata": {},
   "outputs": [],
   "source": [
    "library(dplyr)\n",
    "df5 = df4[grepl('Sphingomo', df4$Genus), ]\n",
    "df51 = df5[order(df5$Rank_Epi_percentageOccurance , decreasing = FALSE),]\n",
    "df52 = df5[order(df5$Rank_Endo_percentageOccurance , decreasing = FALSE),]\n",
    "df53 = df5[order(df5$Rank_Epi_avarageRelativeAbundance , decreasing = FALSE),]\n",
    "df54 = df5[order(df5$Rank_Endo_avarageRelativeAbundance , decreasing = FALSE),]"
   ]
  },
  {
   "cell_type": "code",
   "execution_count": 171,
   "id": "bcb55070-82a6-40d7-88e0-e7485518db77",
   "metadata": {},
   "outputs": [
    {
     "data": {
      "text/html": [
       "<table class=\"dataframe\">\n",
       "<caption>A data.frame: 6 × 18</caption>\n",
       "<thead>\n",
       "\t<tr><th></th><th scope=col>OTU</th><th scope=col>Endo_percentageOccurance</th><th scope=col>Epi_percentageOccurance</th><th scope=col>Endo_avarageRelativeAbundance</th><th scope=col>Epi_avarageRelativeAbundance</th><th scope=col>Rank_Endo_avarageRelativeAbundance</th><th scope=col>Rank_Epi_avarageRelativeAbundance</th><th scope=col>Rank_Endo_percentageOccurance</th><th scope=col>Rank_Epi_percentageOccurance</th><th scope=col>Size</th><th scope=col>Taxonomy</th><th scope=col>Kingdom</th><th scope=col>Phylum</th><th scope=col>Class</th><th scope=col>Order</th><th scope=col>Family</th><th scope=col>Genus</th><th scope=col>Species</th></tr>\n",
       "\t<tr><th></th><th scope=col>&lt;chr&gt;</th><th scope=col>&lt;dbl&gt;</th><th scope=col>&lt;dbl&gt;</th><th scope=col>&lt;dbl&gt;</th><th scope=col>&lt;dbl&gt;</th><th scope=col>&lt;int&gt;</th><th scope=col>&lt;int&gt;</th><th scope=col>&lt;int&gt;</th><th scope=col>&lt;int&gt;</th><th scope=col>&lt;int&gt;</th><th scope=col>&lt;chr&gt;</th><th scope=col>&lt;chr&gt;</th><th scope=col>&lt;chr&gt;</th><th scope=col>&lt;chr&gt;</th><th scope=col>&lt;chr&gt;</th><th scope=col>&lt;chr&gt;</th><th scope=col>&lt;chr&gt;</th><th scope=col>&lt;chr&gt;</th></tr>\n",
       "</thead>\n",
       "<tbody>\n",
       "\t<tr><th scope=row>1</th><td>Otu000002</td><td>0.9597701</td><td>0.9857550</td><td>0.1522619404</td><td>0.077116635</td><td>  1</td><td> 1</td><td>  1</td><td> 3</td><td>859665</td><td>Bacteria;Proteobacteria;Alphaproteobacteria;Sphingomonadales;Sphingomonadaceae;Sphingomonas;                  </td><td>Bacteria</td><td>Proteobacteria</td><td>Alphaproteobacteria</td><td>Sphingomonadales</td><td>Sphingomonadaceae</td><td>Sphingomonas                  </td><td>unknown</td></tr>\n",
       "\t<tr><th scope=row>12</th><td>Otu000015</td><td>0.8879310</td><td>0.9857550</td><td>0.0128622661</td><td>0.009924386</td><td> 13</td><td> 9</td><td>  5</td><td> 4</td><td> 76207</td><td>Bacteria;Proteobacteria;Alphaproteobacteria;Sphingomonadales;Sphingomonadaceae;Sphingomonas;                  </td><td>Bacteria</td><td>Proteobacteria</td><td>Alphaproteobacteria</td><td>Sphingomonadales</td><td>Sphingomonadaceae</td><td>Sphingomonas                  </td><td>unknown</td></tr>\n",
       "\t<tr><th scope=row>44</th><td>Otu000061</td><td>0.1752874</td><td>0.9344729</td><td>0.0003454368</td><td>0.004062442</td><td>216</td><td>32</td><td>179</td><td>28</td><td> 23409</td><td>Bacteria;Proteobacteria;Alphaproteobacteria;Sphingomonadales;Sphingomonadaceae;Sphingomonas;                  </td><td>Bacteria</td><td>Proteobacteria</td><td>Alphaproteobacteria</td><td>Sphingomonadales</td><td>Sphingomonadaceae</td><td>Sphingomonas                  </td><td>unknown</td></tr>\n",
       "\t<tr><th scope=row>46</th><td>Otu000063</td><td>0.5488506</td><td>0.9230769</td><td>0.0013516762</td><td>0.003553969</td><td> 78</td><td>38</td><td> 30</td><td>33</td><td> 22682</td><td>Bacteria;Proteobacteria;Alphaproteobacteria;Sphingomonadales;Sphingomonadaceae;Sphingomonadaceae_unclassified;</td><td>Bacteria</td><td>Proteobacteria</td><td>Alphaproteobacteria</td><td>Sphingomonadales</td><td>Sphingomonadaceae</td><td>Sphingomonadaceae_unclassified</td><td>unknown</td></tr>\n",
       "\t<tr><th scope=row>75</th><td>Otu000093</td><td>0.1350575</td><td>0.9059829</td><td>0.0001374590</td><td>0.002729158</td><td>451</td><td>56</td><td>249</td><td>42</td><td> 15217</td><td>Bacteria;Proteobacteria;Alphaproteobacteria;Sphingomonadales;Sphingomonadaceae;Sphingomonas;                  </td><td>Bacteria</td><td>Proteobacteria</td><td>Alphaproteobacteria</td><td>Sphingomonadales</td><td>Sphingomonadaceae</td><td>Sphingomonas                  </td><td>unknown</td></tr>\n",
       "\t<tr><th scope=row>99</th><td>Otu000118</td><td>0.2356322</td><td>0.8717949</td><td>0.0015903700</td><td>0.001765751</td><td> 73</td><td>82</td><td>112</td><td>58</td><td> 10759</td><td>Bacteria;Proteobacteria;Alphaproteobacteria;Sphingomonadales;Sphingomonadaceae;Sphingomonadaceae_unclassified;</td><td>Bacteria</td><td>Proteobacteria</td><td>Alphaproteobacteria</td><td>Sphingomonadales</td><td>Sphingomonadaceae</td><td>Sphingomonadaceae_unclassified</td><td>unknown</td></tr>\n",
       "</tbody>\n",
       "</table>\n"
      ],
      "text/latex": [
       "A data.frame: 6 × 18\n",
       "\\begin{tabular}{r|llllllllllllllllll}\n",
       "  & OTU & Endo\\_percentageOccurance & Epi\\_percentageOccurance & Endo\\_avarageRelativeAbundance & Epi\\_avarageRelativeAbundance & Rank\\_Endo\\_avarageRelativeAbundance & Rank\\_Epi\\_avarageRelativeAbundance & Rank\\_Endo\\_percentageOccurance & Rank\\_Epi\\_percentageOccurance & Size & Taxonomy & Kingdom & Phylum & Class & Order & Family & Genus & Species\\\\\n",
       "  & <chr> & <dbl> & <dbl> & <dbl> & <dbl> & <int> & <int> & <int> & <int> & <int> & <chr> & <chr> & <chr> & <chr> & <chr> & <chr> & <chr> & <chr>\\\\\n",
       "\\hline\n",
       "\t1 & Otu000002 & 0.9597701 & 0.9857550 & 0.1522619404 & 0.077116635 &   1 &  1 &   1 &  3 & 859665 & Bacteria;Proteobacteria;Alphaproteobacteria;Sphingomonadales;Sphingomonadaceae;Sphingomonas;                   & Bacteria & Proteobacteria & Alphaproteobacteria & Sphingomonadales & Sphingomonadaceae & Sphingomonas                   & unknown\\\\\n",
       "\t12 & Otu000015 & 0.8879310 & 0.9857550 & 0.0128622661 & 0.009924386 &  13 &  9 &   5 &  4 &  76207 & Bacteria;Proteobacteria;Alphaproteobacteria;Sphingomonadales;Sphingomonadaceae;Sphingomonas;                   & Bacteria & Proteobacteria & Alphaproteobacteria & Sphingomonadales & Sphingomonadaceae & Sphingomonas                   & unknown\\\\\n",
       "\t44 & Otu000061 & 0.1752874 & 0.9344729 & 0.0003454368 & 0.004062442 & 216 & 32 & 179 & 28 &  23409 & Bacteria;Proteobacteria;Alphaproteobacteria;Sphingomonadales;Sphingomonadaceae;Sphingomonas;                   & Bacteria & Proteobacteria & Alphaproteobacteria & Sphingomonadales & Sphingomonadaceae & Sphingomonas                   & unknown\\\\\n",
       "\t46 & Otu000063 & 0.5488506 & 0.9230769 & 0.0013516762 & 0.003553969 &  78 & 38 &  30 & 33 &  22682 & Bacteria;Proteobacteria;Alphaproteobacteria;Sphingomonadales;Sphingomonadaceae;Sphingomonadaceae\\_unclassified; & Bacteria & Proteobacteria & Alphaproteobacteria & Sphingomonadales & Sphingomonadaceae & Sphingomonadaceae\\_unclassified & unknown\\\\\n",
       "\t75 & Otu000093 & 0.1350575 & 0.9059829 & 0.0001374590 & 0.002729158 & 451 & 56 & 249 & 42 &  15217 & Bacteria;Proteobacteria;Alphaproteobacteria;Sphingomonadales;Sphingomonadaceae;Sphingomonas;                   & Bacteria & Proteobacteria & Alphaproteobacteria & Sphingomonadales & Sphingomonadaceae & Sphingomonas                   & unknown\\\\\n",
       "\t99 & Otu000118 & 0.2356322 & 0.8717949 & 0.0015903700 & 0.001765751 &  73 & 82 & 112 & 58 &  10759 & Bacteria;Proteobacteria;Alphaproteobacteria;Sphingomonadales;Sphingomonadaceae;Sphingomonadaceae\\_unclassified; & Bacteria & Proteobacteria & Alphaproteobacteria & Sphingomonadales & Sphingomonadaceae & Sphingomonadaceae\\_unclassified & unknown\\\\\n",
       "\\end{tabular}\n"
      ],
      "text/markdown": [
       "\n",
       "A data.frame: 6 × 18\n",
       "\n",
       "| <!--/--> | OTU &lt;chr&gt; | Endo_percentageOccurance &lt;dbl&gt; | Epi_percentageOccurance &lt;dbl&gt; | Endo_avarageRelativeAbundance &lt;dbl&gt; | Epi_avarageRelativeAbundance &lt;dbl&gt; | Rank_Endo_avarageRelativeAbundance &lt;int&gt; | Rank_Epi_avarageRelativeAbundance &lt;int&gt; | Rank_Endo_percentageOccurance &lt;int&gt; | Rank_Epi_percentageOccurance &lt;int&gt; | Size &lt;int&gt; | Taxonomy &lt;chr&gt; | Kingdom &lt;chr&gt; | Phylum &lt;chr&gt; | Class &lt;chr&gt; | Order &lt;chr&gt; | Family &lt;chr&gt; | Genus &lt;chr&gt; | Species &lt;chr&gt; |\n",
       "|---|---|---|---|---|---|---|---|---|---|---|---|---|---|---|---|---|---|---|\n",
       "| 1 | Otu000002 | 0.9597701 | 0.9857550 | 0.1522619404 | 0.077116635 |   1 |  1 |   1 |  3 | 859665 | Bacteria;Proteobacteria;Alphaproteobacteria;Sphingomonadales;Sphingomonadaceae;Sphingomonas;                   | Bacteria | Proteobacteria | Alphaproteobacteria | Sphingomonadales | Sphingomonadaceae | Sphingomonas                   | unknown |\n",
       "| 12 | Otu000015 | 0.8879310 | 0.9857550 | 0.0128622661 | 0.009924386 |  13 |  9 |   5 |  4 |  76207 | Bacteria;Proteobacteria;Alphaproteobacteria;Sphingomonadales;Sphingomonadaceae;Sphingomonas;                   | Bacteria | Proteobacteria | Alphaproteobacteria | Sphingomonadales | Sphingomonadaceae | Sphingomonas                   | unknown |\n",
       "| 44 | Otu000061 | 0.1752874 | 0.9344729 | 0.0003454368 | 0.004062442 | 216 | 32 | 179 | 28 |  23409 | Bacteria;Proteobacteria;Alphaproteobacteria;Sphingomonadales;Sphingomonadaceae;Sphingomonas;                   | Bacteria | Proteobacteria | Alphaproteobacteria | Sphingomonadales | Sphingomonadaceae | Sphingomonas                   | unknown |\n",
       "| 46 | Otu000063 | 0.5488506 | 0.9230769 | 0.0013516762 | 0.003553969 |  78 | 38 |  30 | 33 |  22682 | Bacteria;Proteobacteria;Alphaproteobacteria;Sphingomonadales;Sphingomonadaceae;Sphingomonadaceae_unclassified; | Bacteria | Proteobacteria | Alphaproteobacteria | Sphingomonadales | Sphingomonadaceae | Sphingomonadaceae_unclassified | unknown |\n",
       "| 75 | Otu000093 | 0.1350575 | 0.9059829 | 0.0001374590 | 0.002729158 | 451 | 56 | 249 | 42 |  15217 | Bacteria;Proteobacteria;Alphaproteobacteria;Sphingomonadales;Sphingomonadaceae;Sphingomonas;                   | Bacteria | Proteobacteria | Alphaproteobacteria | Sphingomonadales | Sphingomonadaceae | Sphingomonas                   | unknown |\n",
       "| 99 | Otu000118 | 0.2356322 | 0.8717949 | 0.0015903700 | 0.001765751 |  73 | 82 | 112 | 58 |  10759 | Bacteria;Proteobacteria;Alphaproteobacteria;Sphingomonadales;Sphingomonadaceae;Sphingomonadaceae_unclassified; | Bacteria | Proteobacteria | Alphaproteobacteria | Sphingomonadales | Sphingomonadaceae | Sphingomonadaceae_unclassified | unknown |\n",
       "\n"
      ],
      "text/plain": [
       "   OTU       Endo_percentageOccurance Epi_percentageOccurance\n",
       "1  Otu000002 0.9597701                0.9857550              \n",
       "12 Otu000015 0.8879310                0.9857550              \n",
       "44 Otu000061 0.1752874                0.9344729              \n",
       "46 Otu000063 0.5488506                0.9230769              \n",
       "75 Otu000093 0.1350575                0.9059829              \n",
       "99 Otu000118 0.2356322                0.8717949              \n",
       "   Endo_avarageRelativeAbundance Epi_avarageRelativeAbundance\n",
       "1  0.1522619404                  0.077116635                 \n",
       "12 0.0128622661                  0.009924386                 \n",
       "44 0.0003454368                  0.004062442                 \n",
       "46 0.0013516762                  0.003553969                 \n",
       "75 0.0001374590                  0.002729158                 \n",
       "99 0.0015903700                  0.001765751                 \n",
       "   Rank_Endo_avarageRelativeAbundance Rank_Epi_avarageRelativeAbundance\n",
       "1    1                                 1                               \n",
       "12  13                                 9                               \n",
       "44 216                                32                               \n",
       "46  78                                38                               \n",
       "75 451                                56                               \n",
       "99  73                                82                               \n",
       "   Rank_Endo_percentageOccurance Rank_Epi_percentageOccurance Size  \n",
       "1    1                            3                           859665\n",
       "12   5                            4                            76207\n",
       "44 179                           28                            23409\n",
       "46  30                           33                            22682\n",
       "75 249                           42                            15217\n",
       "99 112                           58                            10759\n",
       "   Taxonomy                                                                                                      \n",
       "1  Bacteria;Proteobacteria;Alphaproteobacteria;Sphingomonadales;Sphingomonadaceae;Sphingomonas;                  \n",
       "12 Bacteria;Proteobacteria;Alphaproteobacteria;Sphingomonadales;Sphingomonadaceae;Sphingomonas;                  \n",
       "44 Bacteria;Proteobacteria;Alphaproteobacteria;Sphingomonadales;Sphingomonadaceae;Sphingomonas;                  \n",
       "46 Bacteria;Proteobacteria;Alphaproteobacteria;Sphingomonadales;Sphingomonadaceae;Sphingomonadaceae_unclassified;\n",
       "75 Bacteria;Proteobacteria;Alphaproteobacteria;Sphingomonadales;Sphingomonadaceae;Sphingomonas;                  \n",
       "99 Bacteria;Proteobacteria;Alphaproteobacteria;Sphingomonadales;Sphingomonadaceae;Sphingomonadaceae_unclassified;\n",
       "   Kingdom  Phylum         Class               Order           \n",
       "1  Bacteria Proteobacteria Alphaproteobacteria Sphingomonadales\n",
       "12 Bacteria Proteobacteria Alphaproteobacteria Sphingomonadales\n",
       "44 Bacteria Proteobacteria Alphaproteobacteria Sphingomonadales\n",
       "46 Bacteria Proteobacteria Alphaproteobacteria Sphingomonadales\n",
       "75 Bacteria Proteobacteria Alphaproteobacteria Sphingomonadales\n",
       "99 Bacteria Proteobacteria Alphaproteobacteria Sphingomonadales\n",
       "   Family            Genus                          Species\n",
       "1  Sphingomonadaceae Sphingomonas                   unknown\n",
       "12 Sphingomonadaceae Sphingomonas                   unknown\n",
       "44 Sphingomonadaceae Sphingomonas                   unknown\n",
       "46 Sphingomonadaceae Sphingomonadaceae_unclassified unknown\n",
       "75 Sphingomonadaceae Sphingomonas                   unknown\n",
       "99 Sphingomonadaceae Sphingomonadaceae_unclassified unknown"
      ]
     },
     "metadata": {},
     "output_type": "display_data"
    },
    {
     "data": {
      "text/html": [
       "<table class=\"dataframe\">\n",
       "<caption>A data.frame: 6 × 18</caption>\n",
       "<thead>\n",
       "\t<tr><th></th><th scope=col>OTU</th><th scope=col>Endo_percentageOccurance</th><th scope=col>Epi_percentageOccurance</th><th scope=col>Endo_avarageRelativeAbundance</th><th scope=col>Epi_avarageRelativeAbundance</th><th scope=col>Rank_Endo_avarageRelativeAbundance</th><th scope=col>Rank_Epi_avarageRelativeAbundance</th><th scope=col>Rank_Endo_percentageOccurance</th><th scope=col>Rank_Epi_percentageOccurance</th><th scope=col>Size</th><th scope=col>Taxonomy</th><th scope=col>Kingdom</th><th scope=col>Phylum</th><th scope=col>Class</th><th scope=col>Order</th><th scope=col>Family</th><th scope=col>Genus</th><th scope=col>Species</th></tr>\n",
       "\t<tr><th></th><th scope=col>&lt;chr&gt;</th><th scope=col>&lt;dbl&gt;</th><th scope=col>&lt;dbl&gt;</th><th scope=col>&lt;dbl&gt;</th><th scope=col>&lt;dbl&gt;</th><th scope=col>&lt;int&gt;</th><th scope=col>&lt;int&gt;</th><th scope=col>&lt;int&gt;</th><th scope=col>&lt;int&gt;</th><th scope=col>&lt;int&gt;</th><th scope=col>&lt;chr&gt;</th><th scope=col>&lt;chr&gt;</th><th scope=col>&lt;chr&gt;</th><th scope=col>&lt;chr&gt;</th><th scope=col>&lt;chr&gt;</th><th scope=col>&lt;chr&gt;</th><th scope=col>&lt;chr&gt;</th><th scope=col>&lt;chr&gt;</th></tr>\n",
       "</thead>\n",
       "<tbody>\n",
       "\t<tr><th scope=row>1</th><td>Otu000002</td><td>0.9597701</td><td>0.9857550</td><td>0.152261940</td><td>0.077116635</td><td> 1</td><td>  1</td><td> 1</td><td>  3</td><td>859665</td><td>Bacteria;Proteobacteria;Alphaproteobacteria;Sphingomonadales;Sphingomonadaceae;Sphingomonas;                  </td><td>Bacteria</td><td>Proteobacteria</td><td>Alphaproteobacteria</td><td>Sphingomonadales</td><td>Sphingomonadaceae</td><td>Sphingomonas                  </td><td>unknown</td></tr>\n",
       "\t<tr><th scope=row>12</th><td>Otu000015</td><td>0.8879310</td><td>0.9857550</td><td>0.012862266</td><td>0.009924386</td><td>13</td><td>  9</td><td> 5</td><td>  4</td><td> 76207</td><td>Bacteria;Proteobacteria;Alphaproteobacteria;Sphingomonadales;Sphingomonadaceae;Sphingomonas;                  </td><td>Bacteria</td><td>Proteobacteria</td><td>Alphaproteobacteria</td><td>Sphingomonadales</td><td>Sphingomonadaceae</td><td>Sphingomonas                  </td><td>unknown</td></tr>\n",
       "\t<tr><th scope=row>46</th><td>Otu000063</td><td>0.5488506</td><td>0.9230769</td><td>0.001351676</td><td>0.003553969</td><td>78</td><td> 38</td><td>30</td><td> 33</td><td> 22682</td><td>Bacteria;Proteobacteria;Alphaproteobacteria;Sphingomonadales;Sphingomonadaceae;Sphingomonadaceae_unclassified;</td><td>Bacteria</td><td>Proteobacteria</td><td>Alphaproteobacteria</td><td>Sphingomonadales</td><td>Sphingomonadaceae</td><td>Sphingomonadaceae_unclassified</td><td>unknown</td></tr>\n",
       "\t<tr><th scope=row>54</th><td>Otu000072</td><td>0.5431034</td><td>0.8262108</td><td>0.004204736</td><td>0.002633940</td><td>37</td><td> 59</td><td>31</td><td> 87</td><td> 19295</td><td>Bacteria;Proteobacteria;Alphaproteobacteria;Sphingomonadales;Sphingomonadaceae;Sphingomonas;                  </td><td>Bacteria</td><td>Proteobacteria</td><td>Alphaproteobacteria</td><td>Sphingomonadales</td><td>Sphingomonadaceae</td><td>Sphingomonas                  </td><td>unknown</td></tr>\n",
       "\t<tr><th scope=row>101</th><td>Otu000120</td><td>0.4080460</td><td>0.8091168</td><td>0.001208816</td><td>0.001682420</td><td>84</td><td> 95</td><td>48</td><td> 97</td><td> 10395</td><td>Bacteria;Proteobacteria;Alphaproteobacteria;Sphingomonadales;Sphingomonadaceae;Sphingomonadaceae_unclassified;</td><td>Bacteria</td><td>Proteobacteria</td><td>Alphaproteobacteria</td><td>Sphingomonadales</td><td>Sphingomonadaceae</td><td>Sphingomonadaceae_unclassified</td><td>unknown</td></tr>\n",
       "\t<tr><th scope=row>132</th><td>Otu000151</td><td>0.3563218</td><td>0.7549858</td><td>0.001252499</td><td>0.001254223</td><td>82</td><td>125</td><td>63</td><td>140</td><td>  8536</td><td>Bacteria;Proteobacteria;Alphaproteobacteria;Sphingomonadales;Sphingomonadaceae;Sphingomonas;                  </td><td>Bacteria</td><td>Proteobacteria</td><td>Alphaproteobacteria</td><td>Sphingomonadales</td><td>Sphingomonadaceae</td><td>Sphingomonas                  </td><td>unknown</td></tr>\n",
       "</tbody>\n",
       "</table>\n"
      ],
      "text/latex": [
       "A data.frame: 6 × 18\n",
       "\\begin{tabular}{r|llllllllllllllllll}\n",
       "  & OTU & Endo\\_percentageOccurance & Epi\\_percentageOccurance & Endo\\_avarageRelativeAbundance & Epi\\_avarageRelativeAbundance & Rank\\_Endo\\_avarageRelativeAbundance & Rank\\_Epi\\_avarageRelativeAbundance & Rank\\_Endo\\_percentageOccurance & Rank\\_Epi\\_percentageOccurance & Size & Taxonomy & Kingdom & Phylum & Class & Order & Family & Genus & Species\\\\\n",
       "  & <chr> & <dbl> & <dbl> & <dbl> & <dbl> & <int> & <int> & <int> & <int> & <int> & <chr> & <chr> & <chr> & <chr> & <chr> & <chr> & <chr> & <chr>\\\\\n",
       "\\hline\n",
       "\t1 & Otu000002 & 0.9597701 & 0.9857550 & 0.152261940 & 0.077116635 &  1 &   1 &  1 &   3 & 859665 & Bacteria;Proteobacteria;Alphaproteobacteria;Sphingomonadales;Sphingomonadaceae;Sphingomonas;                   & Bacteria & Proteobacteria & Alphaproteobacteria & Sphingomonadales & Sphingomonadaceae & Sphingomonas                   & unknown\\\\\n",
       "\t12 & Otu000015 & 0.8879310 & 0.9857550 & 0.012862266 & 0.009924386 & 13 &   9 &  5 &   4 &  76207 & Bacteria;Proteobacteria;Alphaproteobacteria;Sphingomonadales;Sphingomonadaceae;Sphingomonas;                   & Bacteria & Proteobacteria & Alphaproteobacteria & Sphingomonadales & Sphingomonadaceae & Sphingomonas                   & unknown\\\\\n",
       "\t46 & Otu000063 & 0.5488506 & 0.9230769 & 0.001351676 & 0.003553969 & 78 &  38 & 30 &  33 &  22682 & Bacteria;Proteobacteria;Alphaproteobacteria;Sphingomonadales;Sphingomonadaceae;Sphingomonadaceae\\_unclassified; & Bacteria & Proteobacteria & Alphaproteobacteria & Sphingomonadales & Sphingomonadaceae & Sphingomonadaceae\\_unclassified & unknown\\\\\n",
       "\t54 & Otu000072 & 0.5431034 & 0.8262108 & 0.004204736 & 0.002633940 & 37 &  59 & 31 &  87 &  19295 & Bacteria;Proteobacteria;Alphaproteobacteria;Sphingomonadales;Sphingomonadaceae;Sphingomonas;                   & Bacteria & Proteobacteria & Alphaproteobacteria & Sphingomonadales & Sphingomonadaceae & Sphingomonas                   & unknown\\\\\n",
       "\t101 & Otu000120 & 0.4080460 & 0.8091168 & 0.001208816 & 0.001682420 & 84 &  95 & 48 &  97 &  10395 & Bacteria;Proteobacteria;Alphaproteobacteria;Sphingomonadales;Sphingomonadaceae;Sphingomonadaceae\\_unclassified; & Bacteria & Proteobacteria & Alphaproteobacteria & Sphingomonadales & Sphingomonadaceae & Sphingomonadaceae\\_unclassified & unknown\\\\\n",
       "\t132 & Otu000151 & 0.3563218 & 0.7549858 & 0.001252499 & 0.001254223 & 82 & 125 & 63 & 140 &   8536 & Bacteria;Proteobacteria;Alphaproteobacteria;Sphingomonadales;Sphingomonadaceae;Sphingomonas;                   & Bacteria & Proteobacteria & Alphaproteobacteria & Sphingomonadales & Sphingomonadaceae & Sphingomonas                   & unknown\\\\\n",
       "\\end{tabular}\n"
      ],
      "text/markdown": [
       "\n",
       "A data.frame: 6 × 18\n",
       "\n",
       "| <!--/--> | OTU &lt;chr&gt; | Endo_percentageOccurance &lt;dbl&gt; | Epi_percentageOccurance &lt;dbl&gt; | Endo_avarageRelativeAbundance &lt;dbl&gt; | Epi_avarageRelativeAbundance &lt;dbl&gt; | Rank_Endo_avarageRelativeAbundance &lt;int&gt; | Rank_Epi_avarageRelativeAbundance &lt;int&gt; | Rank_Endo_percentageOccurance &lt;int&gt; | Rank_Epi_percentageOccurance &lt;int&gt; | Size &lt;int&gt; | Taxonomy &lt;chr&gt; | Kingdom &lt;chr&gt; | Phylum &lt;chr&gt; | Class &lt;chr&gt; | Order &lt;chr&gt; | Family &lt;chr&gt; | Genus &lt;chr&gt; | Species &lt;chr&gt; |\n",
       "|---|---|---|---|---|---|---|---|---|---|---|---|---|---|---|---|---|---|---|\n",
       "| 1 | Otu000002 | 0.9597701 | 0.9857550 | 0.152261940 | 0.077116635 |  1 |   1 |  1 |   3 | 859665 | Bacteria;Proteobacteria;Alphaproteobacteria;Sphingomonadales;Sphingomonadaceae;Sphingomonas;                   | Bacteria | Proteobacteria | Alphaproteobacteria | Sphingomonadales | Sphingomonadaceae | Sphingomonas                   | unknown |\n",
       "| 12 | Otu000015 | 0.8879310 | 0.9857550 | 0.012862266 | 0.009924386 | 13 |   9 |  5 |   4 |  76207 | Bacteria;Proteobacteria;Alphaproteobacteria;Sphingomonadales;Sphingomonadaceae;Sphingomonas;                   | Bacteria | Proteobacteria | Alphaproteobacteria | Sphingomonadales | Sphingomonadaceae | Sphingomonas                   | unknown |\n",
       "| 46 | Otu000063 | 0.5488506 | 0.9230769 | 0.001351676 | 0.003553969 | 78 |  38 | 30 |  33 |  22682 | Bacteria;Proteobacteria;Alphaproteobacteria;Sphingomonadales;Sphingomonadaceae;Sphingomonadaceae_unclassified; | Bacteria | Proteobacteria | Alphaproteobacteria | Sphingomonadales | Sphingomonadaceae | Sphingomonadaceae_unclassified | unknown |\n",
       "| 54 | Otu000072 | 0.5431034 | 0.8262108 | 0.004204736 | 0.002633940 | 37 |  59 | 31 |  87 |  19295 | Bacteria;Proteobacteria;Alphaproteobacteria;Sphingomonadales;Sphingomonadaceae;Sphingomonas;                   | Bacteria | Proteobacteria | Alphaproteobacteria | Sphingomonadales | Sphingomonadaceae | Sphingomonas                   | unknown |\n",
       "| 101 | Otu000120 | 0.4080460 | 0.8091168 | 0.001208816 | 0.001682420 | 84 |  95 | 48 |  97 |  10395 | Bacteria;Proteobacteria;Alphaproteobacteria;Sphingomonadales;Sphingomonadaceae;Sphingomonadaceae_unclassified; | Bacteria | Proteobacteria | Alphaproteobacteria | Sphingomonadales | Sphingomonadaceae | Sphingomonadaceae_unclassified | unknown |\n",
       "| 132 | Otu000151 | 0.3563218 | 0.7549858 | 0.001252499 | 0.001254223 | 82 | 125 | 63 | 140 |   8536 | Bacteria;Proteobacteria;Alphaproteobacteria;Sphingomonadales;Sphingomonadaceae;Sphingomonas;                   | Bacteria | Proteobacteria | Alphaproteobacteria | Sphingomonadales | Sphingomonadaceae | Sphingomonas                   | unknown |\n",
       "\n"
      ],
      "text/plain": [
       "    OTU       Endo_percentageOccurance Epi_percentageOccurance\n",
       "1   Otu000002 0.9597701                0.9857550              \n",
       "12  Otu000015 0.8879310                0.9857550              \n",
       "46  Otu000063 0.5488506                0.9230769              \n",
       "54  Otu000072 0.5431034                0.8262108              \n",
       "101 Otu000120 0.4080460                0.8091168              \n",
       "132 Otu000151 0.3563218                0.7549858              \n",
       "    Endo_avarageRelativeAbundance Epi_avarageRelativeAbundance\n",
       "1   0.152261940                   0.077116635                 \n",
       "12  0.012862266                   0.009924386                 \n",
       "46  0.001351676                   0.003553969                 \n",
       "54  0.004204736                   0.002633940                 \n",
       "101 0.001208816                   0.001682420                 \n",
       "132 0.001252499                   0.001254223                 \n",
       "    Rank_Endo_avarageRelativeAbundance Rank_Epi_avarageRelativeAbundance\n",
       "1    1                                   1                              \n",
       "12  13                                   9                              \n",
       "46  78                                  38                              \n",
       "54  37                                  59                              \n",
       "101 84                                  95                              \n",
       "132 82                                 125                              \n",
       "    Rank_Endo_percentageOccurance Rank_Epi_percentageOccurance Size  \n",
       "1    1                              3                          859665\n",
       "12   5                              4                           76207\n",
       "46  30                             33                           22682\n",
       "54  31                             87                           19295\n",
       "101 48                             97                           10395\n",
       "132 63                            140                            8536\n",
       "    Taxonomy                                                                                                      \n",
       "1   Bacteria;Proteobacteria;Alphaproteobacteria;Sphingomonadales;Sphingomonadaceae;Sphingomonas;                  \n",
       "12  Bacteria;Proteobacteria;Alphaproteobacteria;Sphingomonadales;Sphingomonadaceae;Sphingomonas;                  \n",
       "46  Bacteria;Proteobacteria;Alphaproteobacteria;Sphingomonadales;Sphingomonadaceae;Sphingomonadaceae_unclassified;\n",
       "54  Bacteria;Proteobacteria;Alphaproteobacteria;Sphingomonadales;Sphingomonadaceae;Sphingomonas;                  \n",
       "101 Bacteria;Proteobacteria;Alphaproteobacteria;Sphingomonadales;Sphingomonadaceae;Sphingomonadaceae_unclassified;\n",
       "132 Bacteria;Proteobacteria;Alphaproteobacteria;Sphingomonadales;Sphingomonadaceae;Sphingomonas;                  \n",
       "    Kingdom  Phylum         Class               Order           \n",
       "1   Bacteria Proteobacteria Alphaproteobacteria Sphingomonadales\n",
       "12  Bacteria Proteobacteria Alphaproteobacteria Sphingomonadales\n",
       "46  Bacteria Proteobacteria Alphaproteobacteria Sphingomonadales\n",
       "54  Bacteria Proteobacteria Alphaproteobacteria Sphingomonadales\n",
       "101 Bacteria Proteobacteria Alphaproteobacteria Sphingomonadales\n",
       "132 Bacteria Proteobacteria Alphaproteobacteria Sphingomonadales\n",
       "    Family            Genus                          Species\n",
       "1   Sphingomonadaceae Sphingomonas                   unknown\n",
       "12  Sphingomonadaceae Sphingomonas                   unknown\n",
       "46  Sphingomonadaceae Sphingomonadaceae_unclassified unknown\n",
       "54  Sphingomonadaceae Sphingomonas                   unknown\n",
       "101 Sphingomonadaceae Sphingomonadaceae_unclassified unknown\n",
       "132 Sphingomonadaceae Sphingomonas                   unknown"
      ]
     },
     "metadata": {},
     "output_type": "display_data"
    },
    {
     "data": {
      "text/html": [
       "<table class=\"dataframe\">\n",
       "<caption>A data.frame: 6 × 18</caption>\n",
       "<thead>\n",
       "\t<tr><th></th><th scope=col>OTU</th><th scope=col>Endo_percentageOccurance</th><th scope=col>Epi_percentageOccurance</th><th scope=col>Endo_avarageRelativeAbundance</th><th scope=col>Epi_avarageRelativeAbundance</th><th scope=col>Rank_Endo_avarageRelativeAbundance</th><th scope=col>Rank_Epi_avarageRelativeAbundance</th><th scope=col>Rank_Endo_percentageOccurance</th><th scope=col>Rank_Epi_percentageOccurance</th><th scope=col>Size</th><th scope=col>Taxonomy</th><th scope=col>Kingdom</th><th scope=col>Phylum</th><th scope=col>Class</th><th scope=col>Order</th><th scope=col>Family</th><th scope=col>Genus</th><th scope=col>Species</th></tr>\n",
       "\t<tr><th></th><th scope=col>&lt;chr&gt;</th><th scope=col>&lt;dbl&gt;</th><th scope=col>&lt;dbl&gt;</th><th scope=col>&lt;dbl&gt;</th><th scope=col>&lt;dbl&gt;</th><th scope=col>&lt;int&gt;</th><th scope=col>&lt;int&gt;</th><th scope=col>&lt;int&gt;</th><th scope=col>&lt;int&gt;</th><th scope=col>&lt;int&gt;</th><th scope=col>&lt;chr&gt;</th><th scope=col>&lt;chr&gt;</th><th scope=col>&lt;chr&gt;</th><th scope=col>&lt;chr&gt;</th><th scope=col>&lt;chr&gt;</th><th scope=col>&lt;chr&gt;</th><th scope=col>&lt;chr&gt;</th><th scope=col>&lt;chr&gt;</th></tr>\n",
       "</thead>\n",
       "<tbody>\n",
       "\t<tr><th scope=row>1</th><td>Otu000002</td><td>0.9597701</td><td>0.9857550</td><td>0.1522619404</td><td>0.077116635</td><td>  1</td><td> 1</td><td>  1</td><td>  3</td><td>859665</td><td>Bacteria;Proteobacteria;Alphaproteobacteria;Sphingomonadales;Sphingomonadaceae;Sphingomonas;                  </td><td>Bacteria</td><td>Proteobacteria</td><td>Alphaproteobacteria</td><td>Sphingomonadales</td><td>Sphingomonadaceae</td><td>Sphingomonas                  </td><td>unknown</td></tr>\n",
       "\t<tr><th scope=row>12</th><td>Otu000015</td><td>0.8879310</td><td>0.9857550</td><td>0.0128622661</td><td>0.009924386</td><td> 13</td><td> 9</td><td>  5</td><td>  4</td><td> 76207</td><td>Bacteria;Proteobacteria;Alphaproteobacteria;Sphingomonadales;Sphingomonadaceae;Sphingomonas;                  </td><td>Bacteria</td><td>Proteobacteria</td><td>Alphaproteobacteria</td><td>Sphingomonadales</td><td>Sphingomonadaceae</td><td>Sphingomonas                  </td><td>unknown</td></tr>\n",
       "\t<tr><th scope=row>36</th><td>Otu000053</td><td>0.2298851</td><td>0.7264957</td><td>0.0014301596</td><td>0.005202248</td><td> 77</td><td>24</td><td>114</td><td>161</td><td> 26409</td><td>Bacteria;Proteobacteria;Alphaproteobacteria;Sphingomonadales;Sphingomonadaceae;Sphingomonas;                  </td><td>Bacteria</td><td>Proteobacteria</td><td>Alphaproteobacteria</td><td>Sphingomonadales</td><td>Sphingomonadaceae</td><td>Sphingomonas                  </td><td>unknown</td></tr>\n",
       "\t<tr><th scope=row>44</th><td>Otu000061</td><td>0.1752874</td><td>0.9344729</td><td>0.0003454368</td><td>0.004062442</td><td>216</td><td>32</td><td>179</td><td> 28</td><td> 23409</td><td>Bacteria;Proteobacteria;Alphaproteobacteria;Sphingomonadales;Sphingomonadaceae;Sphingomonas;                  </td><td>Bacteria</td><td>Proteobacteria</td><td>Alphaproteobacteria</td><td>Sphingomonadales</td><td>Sphingomonadaceae</td><td>Sphingomonas                  </td><td>unknown</td></tr>\n",
       "\t<tr><th scope=row>46</th><td>Otu000063</td><td>0.5488506</td><td>0.9230769</td><td>0.0013516762</td><td>0.003553969</td><td> 78</td><td>38</td><td> 30</td><td> 33</td><td> 22682</td><td>Bacteria;Proteobacteria;Alphaproteobacteria;Sphingomonadales;Sphingomonadaceae;Sphingomonadaceae_unclassified;</td><td>Bacteria</td><td>Proteobacteria</td><td>Alphaproteobacteria</td><td>Sphingomonadales</td><td>Sphingomonadaceae</td><td>Sphingomonadaceae_unclassified</td><td>unknown</td></tr>\n",
       "\t<tr><th scope=row>75</th><td>Otu000093</td><td>0.1350575</td><td>0.9059829</td><td>0.0001374590</td><td>0.002729158</td><td>451</td><td>56</td><td>249</td><td> 42</td><td> 15217</td><td>Bacteria;Proteobacteria;Alphaproteobacteria;Sphingomonadales;Sphingomonadaceae;Sphingomonas;                  </td><td>Bacteria</td><td>Proteobacteria</td><td>Alphaproteobacteria</td><td>Sphingomonadales</td><td>Sphingomonadaceae</td><td>Sphingomonas                  </td><td>unknown</td></tr>\n",
       "</tbody>\n",
       "</table>\n"
      ],
      "text/latex": [
       "A data.frame: 6 × 18\n",
       "\\begin{tabular}{r|llllllllllllllllll}\n",
       "  & OTU & Endo\\_percentageOccurance & Epi\\_percentageOccurance & Endo\\_avarageRelativeAbundance & Epi\\_avarageRelativeAbundance & Rank\\_Endo\\_avarageRelativeAbundance & Rank\\_Epi\\_avarageRelativeAbundance & Rank\\_Endo\\_percentageOccurance & Rank\\_Epi\\_percentageOccurance & Size & Taxonomy & Kingdom & Phylum & Class & Order & Family & Genus & Species\\\\\n",
       "  & <chr> & <dbl> & <dbl> & <dbl> & <dbl> & <int> & <int> & <int> & <int> & <int> & <chr> & <chr> & <chr> & <chr> & <chr> & <chr> & <chr> & <chr>\\\\\n",
       "\\hline\n",
       "\t1 & Otu000002 & 0.9597701 & 0.9857550 & 0.1522619404 & 0.077116635 &   1 &  1 &   1 &   3 & 859665 & Bacteria;Proteobacteria;Alphaproteobacteria;Sphingomonadales;Sphingomonadaceae;Sphingomonas;                   & Bacteria & Proteobacteria & Alphaproteobacteria & Sphingomonadales & Sphingomonadaceae & Sphingomonas                   & unknown\\\\\n",
       "\t12 & Otu000015 & 0.8879310 & 0.9857550 & 0.0128622661 & 0.009924386 &  13 &  9 &   5 &   4 &  76207 & Bacteria;Proteobacteria;Alphaproteobacteria;Sphingomonadales;Sphingomonadaceae;Sphingomonas;                   & Bacteria & Proteobacteria & Alphaproteobacteria & Sphingomonadales & Sphingomonadaceae & Sphingomonas                   & unknown\\\\\n",
       "\t36 & Otu000053 & 0.2298851 & 0.7264957 & 0.0014301596 & 0.005202248 &  77 & 24 & 114 & 161 &  26409 & Bacteria;Proteobacteria;Alphaproteobacteria;Sphingomonadales;Sphingomonadaceae;Sphingomonas;                   & Bacteria & Proteobacteria & Alphaproteobacteria & Sphingomonadales & Sphingomonadaceae & Sphingomonas                   & unknown\\\\\n",
       "\t44 & Otu000061 & 0.1752874 & 0.9344729 & 0.0003454368 & 0.004062442 & 216 & 32 & 179 &  28 &  23409 & Bacteria;Proteobacteria;Alphaproteobacteria;Sphingomonadales;Sphingomonadaceae;Sphingomonas;                   & Bacteria & Proteobacteria & Alphaproteobacteria & Sphingomonadales & Sphingomonadaceae & Sphingomonas                   & unknown\\\\\n",
       "\t46 & Otu000063 & 0.5488506 & 0.9230769 & 0.0013516762 & 0.003553969 &  78 & 38 &  30 &  33 &  22682 & Bacteria;Proteobacteria;Alphaproteobacteria;Sphingomonadales;Sphingomonadaceae;Sphingomonadaceae\\_unclassified; & Bacteria & Proteobacteria & Alphaproteobacteria & Sphingomonadales & Sphingomonadaceae & Sphingomonadaceae\\_unclassified & unknown\\\\\n",
       "\t75 & Otu000093 & 0.1350575 & 0.9059829 & 0.0001374590 & 0.002729158 & 451 & 56 & 249 &  42 &  15217 & Bacteria;Proteobacteria;Alphaproteobacteria;Sphingomonadales;Sphingomonadaceae;Sphingomonas;                   & Bacteria & Proteobacteria & Alphaproteobacteria & Sphingomonadales & Sphingomonadaceae & Sphingomonas                   & unknown\\\\\n",
       "\\end{tabular}\n"
      ],
      "text/markdown": [
       "\n",
       "A data.frame: 6 × 18\n",
       "\n",
       "| <!--/--> | OTU &lt;chr&gt; | Endo_percentageOccurance &lt;dbl&gt; | Epi_percentageOccurance &lt;dbl&gt; | Endo_avarageRelativeAbundance &lt;dbl&gt; | Epi_avarageRelativeAbundance &lt;dbl&gt; | Rank_Endo_avarageRelativeAbundance &lt;int&gt; | Rank_Epi_avarageRelativeAbundance &lt;int&gt; | Rank_Endo_percentageOccurance &lt;int&gt; | Rank_Epi_percentageOccurance &lt;int&gt; | Size &lt;int&gt; | Taxonomy &lt;chr&gt; | Kingdom &lt;chr&gt; | Phylum &lt;chr&gt; | Class &lt;chr&gt; | Order &lt;chr&gt; | Family &lt;chr&gt; | Genus &lt;chr&gt; | Species &lt;chr&gt; |\n",
       "|---|---|---|---|---|---|---|---|---|---|---|---|---|---|---|---|---|---|---|\n",
       "| 1 | Otu000002 | 0.9597701 | 0.9857550 | 0.1522619404 | 0.077116635 |   1 |  1 |   1 |   3 | 859665 | Bacteria;Proteobacteria;Alphaproteobacteria;Sphingomonadales;Sphingomonadaceae;Sphingomonas;                   | Bacteria | Proteobacteria | Alphaproteobacteria | Sphingomonadales | Sphingomonadaceae | Sphingomonas                   | unknown |\n",
       "| 12 | Otu000015 | 0.8879310 | 0.9857550 | 0.0128622661 | 0.009924386 |  13 |  9 |   5 |   4 |  76207 | Bacteria;Proteobacteria;Alphaproteobacteria;Sphingomonadales;Sphingomonadaceae;Sphingomonas;                   | Bacteria | Proteobacteria | Alphaproteobacteria | Sphingomonadales | Sphingomonadaceae | Sphingomonas                   | unknown |\n",
       "| 36 | Otu000053 | 0.2298851 | 0.7264957 | 0.0014301596 | 0.005202248 |  77 | 24 | 114 | 161 |  26409 | Bacteria;Proteobacteria;Alphaproteobacteria;Sphingomonadales;Sphingomonadaceae;Sphingomonas;                   | Bacteria | Proteobacteria | Alphaproteobacteria | Sphingomonadales | Sphingomonadaceae | Sphingomonas                   | unknown |\n",
       "| 44 | Otu000061 | 0.1752874 | 0.9344729 | 0.0003454368 | 0.004062442 | 216 | 32 | 179 |  28 |  23409 | Bacteria;Proteobacteria;Alphaproteobacteria;Sphingomonadales;Sphingomonadaceae;Sphingomonas;                   | Bacteria | Proteobacteria | Alphaproteobacteria | Sphingomonadales | Sphingomonadaceae | Sphingomonas                   | unknown |\n",
       "| 46 | Otu000063 | 0.5488506 | 0.9230769 | 0.0013516762 | 0.003553969 |  78 | 38 |  30 |  33 |  22682 | Bacteria;Proteobacteria;Alphaproteobacteria;Sphingomonadales;Sphingomonadaceae;Sphingomonadaceae_unclassified; | Bacteria | Proteobacteria | Alphaproteobacteria | Sphingomonadales | Sphingomonadaceae | Sphingomonadaceae_unclassified | unknown |\n",
       "| 75 | Otu000093 | 0.1350575 | 0.9059829 | 0.0001374590 | 0.002729158 | 451 | 56 | 249 |  42 |  15217 | Bacteria;Proteobacteria;Alphaproteobacteria;Sphingomonadales;Sphingomonadaceae;Sphingomonas;                   | Bacteria | Proteobacteria | Alphaproteobacteria | Sphingomonadales | Sphingomonadaceae | Sphingomonas                   | unknown |\n",
       "\n"
      ],
      "text/plain": [
       "   OTU       Endo_percentageOccurance Epi_percentageOccurance\n",
       "1  Otu000002 0.9597701                0.9857550              \n",
       "12 Otu000015 0.8879310                0.9857550              \n",
       "36 Otu000053 0.2298851                0.7264957              \n",
       "44 Otu000061 0.1752874                0.9344729              \n",
       "46 Otu000063 0.5488506                0.9230769              \n",
       "75 Otu000093 0.1350575                0.9059829              \n",
       "   Endo_avarageRelativeAbundance Epi_avarageRelativeAbundance\n",
       "1  0.1522619404                  0.077116635                 \n",
       "12 0.0128622661                  0.009924386                 \n",
       "36 0.0014301596                  0.005202248                 \n",
       "44 0.0003454368                  0.004062442                 \n",
       "46 0.0013516762                  0.003553969                 \n",
       "75 0.0001374590                  0.002729158                 \n",
       "   Rank_Endo_avarageRelativeAbundance Rank_Epi_avarageRelativeAbundance\n",
       "1    1                                 1                               \n",
       "12  13                                 9                               \n",
       "36  77                                24                               \n",
       "44 216                                32                               \n",
       "46  78                                38                               \n",
       "75 451                                56                               \n",
       "   Rank_Endo_percentageOccurance Rank_Epi_percentageOccurance Size  \n",
       "1    1                             3                          859665\n",
       "12   5                             4                           76207\n",
       "36 114                           161                           26409\n",
       "44 179                            28                           23409\n",
       "46  30                            33                           22682\n",
       "75 249                            42                           15217\n",
       "   Taxonomy                                                                                                      \n",
       "1  Bacteria;Proteobacteria;Alphaproteobacteria;Sphingomonadales;Sphingomonadaceae;Sphingomonas;                  \n",
       "12 Bacteria;Proteobacteria;Alphaproteobacteria;Sphingomonadales;Sphingomonadaceae;Sphingomonas;                  \n",
       "36 Bacteria;Proteobacteria;Alphaproteobacteria;Sphingomonadales;Sphingomonadaceae;Sphingomonas;                  \n",
       "44 Bacteria;Proteobacteria;Alphaproteobacteria;Sphingomonadales;Sphingomonadaceae;Sphingomonas;                  \n",
       "46 Bacteria;Proteobacteria;Alphaproteobacteria;Sphingomonadales;Sphingomonadaceae;Sphingomonadaceae_unclassified;\n",
       "75 Bacteria;Proteobacteria;Alphaproteobacteria;Sphingomonadales;Sphingomonadaceae;Sphingomonas;                  \n",
       "   Kingdom  Phylum         Class               Order           \n",
       "1  Bacteria Proteobacteria Alphaproteobacteria Sphingomonadales\n",
       "12 Bacteria Proteobacteria Alphaproteobacteria Sphingomonadales\n",
       "36 Bacteria Proteobacteria Alphaproteobacteria Sphingomonadales\n",
       "44 Bacteria Proteobacteria Alphaproteobacteria Sphingomonadales\n",
       "46 Bacteria Proteobacteria Alphaproteobacteria Sphingomonadales\n",
       "75 Bacteria Proteobacteria Alphaproteobacteria Sphingomonadales\n",
       "   Family            Genus                          Species\n",
       "1  Sphingomonadaceae Sphingomonas                   unknown\n",
       "12 Sphingomonadaceae Sphingomonas                   unknown\n",
       "36 Sphingomonadaceae Sphingomonas                   unknown\n",
       "44 Sphingomonadaceae Sphingomonas                   unknown\n",
       "46 Sphingomonadaceae Sphingomonadaceae_unclassified unknown\n",
       "75 Sphingomonadaceae Sphingomonas                   unknown"
      ]
     },
     "metadata": {},
     "output_type": "display_data"
    },
    {
     "data": {
      "text/html": [
       "<table class=\"dataframe\">\n",
       "<caption>A data.frame: 6 × 18</caption>\n",
       "<thead>\n",
       "\t<tr><th></th><th scope=col>OTU</th><th scope=col>Endo_percentageOccurance</th><th scope=col>Epi_percentageOccurance</th><th scope=col>Endo_avarageRelativeAbundance</th><th scope=col>Epi_avarageRelativeAbundance</th><th scope=col>Rank_Endo_avarageRelativeAbundance</th><th scope=col>Rank_Epi_avarageRelativeAbundance</th><th scope=col>Rank_Endo_percentageOccurance</th><th scope=col>Rank_Epi_percentageOccurance</th><th scope=col>Size</th><th scope=col>Taxonomy</th><th scope=col>Kingdom</th><th scope=col>Phylum</th><th scope=col>Class</th><th scope=col>Order</th><th scope=col>Family</th><th scope=col>Genus</th><th scope=col>Species</th></tr>\n",
       "\t<tr><th></th><th scope=col>&lt;chr&gt;</th><th scope=col>&lt;dbl&gt;</th><th scope=col>&lt;dbl&gt;</th><th scope=col>&lt;dbl&gt;</th><th scope=col>&lt;dbl&gt;</th><th scope=col>&lt;int&gt;</th><th scope=col>&lt;int&gt;</th><th scope=col>&lt;int&gt;</th><th scope=col>&lt;int&gt;</th><th scope=col>&lt;int&gt;</th><th scope=col>&lt;chr&gt;</th><th scope=col>&lt;chr&gt;</th><th scope=col>&lt;chr&gt;</th><th scope=col>&lt;chr&gt;</th><th scope=col>&lt;chr&gt;</th><th scope=col>&lt;chr&gt;</th><th scope=col>&lt;chr&gt;</th><th scope=col>&lt;chr&gt;</th></tr>\n",
       "</thead>\n",
       "<tbody>\n",
       "\t<tr><th scope=row>1</th><td>Otu000002</td><td>0.9597701</td><td>0.9857550</td><td>0.152261940</td><td>0.077116635</td><td> 1</td><td>  1</td><td>  1</td><td>  3</td><td>859665</td><td>Bacteria;Proteobacteria;Alphaproteobacteria;Sphingomonadales;Sphingomonadaceae;Sphingomonas;                  </td><td>Bacteria</td><td>Proteobacteria</td><td>Alphaproteobacteria</td><td>Sphingomonadales</td><td>Sphingomonadaceae</td><td>Sphingomonas                  </td><td>unknown</td></tr>\n",
       "\t<tr><th scope=row>12</th><td>Otu000015</td><td>0.8879310</td><td>0.9857550</td><td>0.012862266</td><td>0.009924386</td><td>13</td><td>  9</td><td>  5</td><td>  4</td><td> 76207</td><td>Bacteria;Proteobacteria;Alphaproteobacteria;Sphingomonadales;Sphingomonadaceae;Sphingomonas;                  </td><td>Bacteria</td><td>Proteobacteria</td><td>Alphaproteobacteria</td><td>Sphingomonadales</td><td>Sphingomonadaceae</td><td>Sphingomonas                  </td><td>unknown</td></tr>\n",
       "\t<tr><th scope=row>54</th><td>Otu000072</td><td>0.5431034</td><td>0.8262108</td><td>0.004204736</td><td>0.002633940</td><td>37</td><td> 59</td><td> 31</td><td> 87</td><td> 19295</td><td>Bacteria;Proteobacteria;Alphaproteobacteria;Sphingomonadales;Sphingomonadaceae;Sphingomonas;                  </td><td>Bacteria</td><td>Proteobacteria</td><td>Alphaproteobacteria</td><td>Sphingomonadales</td><td>Sphingomonadaceae</td><td>Sphingomonas                  </td><td>unknown</td></tr>\n",
       "\t<tr><th scope=row>216</th><td>Otu000240</td><td>0.2183908</td><td>0.5925926</td><td>0.001810402</td><td>0.000548294</td><td>66</td><td>289</td><td>123</td><td>290</td><td>  5243</td><td>Bacteria;Proteobacteria;Alphaproteobacteria;Sphingomonadales;Sphingomonadaceae;Sphingomonas;                  </td><td>Bacteria</td><td>Proteobacteria</td><td>Alphaproteobacteria</td><td>Sphingomonadales</td><td>Sphingomonadaceae</td><td>Sphingomonas                  </td><td>unknown</td></tr>\n",
       "\t<tr><th scope=row>99</th><td>Otu000118</td><td>0.2356322</td><td>0.8717949</td><td>0.001590370</td><td>0.001765751</td><td>73</td><td> 82</td><td>112</td><td> 58</td><td> 10759</td><td>Bacteria;Proteobacteria;Alphaproteobacteria;Sphingomonadales;Sphingomonadaceae;Sphingomonadaceae_unclassified;</td><td>Bacteria</td><td>Proteobacteria</td><td>Alphaproteobacteria</td><td>Sphingomonadales</td><td>Sphingomonadaceae</td><td>Sphingomonadaceae_unclassified</td><td>unknown</td></tr>\n",
       "\t<tr><th scope=row>36</th><td>Otu000053</td><td>0.2298851</td><td>0.7264957</td><td>0.001430160</td><td>0.005202248</td><td>77</td><td> 24</td><td>114</td><td>161</td><td> 26409</td><td>Bacteria;Proteobacteria;Alphaproteobacteria;Sphingomonadales;Sphingomonadaceae;Sphingomonas;                  </td><td>Bacteria</td><td>Proteobacteria</td><td>Alphaproteobacteria</td><td>Sphingomonadales</td><td>Sphingomonadaceae</td><td>Sphingomonas                  </td><td>unknown</td></tr>\n",
       "</tbody>\n",
       "</table>\n"
      ],
      "text/latex": [
       "A data.frame: 6 × 18\n",
       "\\begin{tabular}{r|llllllllllllllllll}\n",
       "  & OTU & Endo\\_percentageOccurance & Epi\\_percentageOccurance & Endo\\_avarageRelativeAbundance & Epi\\_avarageRelativeAbundance & Rank\\_Endo\\_avarageRelativeAbundance & Rank\\_Epi\\_avarageRelativeAbundance & Rank\\_Endo\\_percentageOccurance & Rank\\_Epi\\_percentageOccurance & Size & Taxonomy & Kingdom & Phylum & Class & Order & Family & Genus & Species\\\\\n",
       "  & <chr> & <dbl> & <dbl> & <dbl> & <dbl> & <int> & <int> & <int> & <int> & <int> & <chr> & <chr> & <chr> & <chr> & <chr> & <chr> & <chr> & <chr>\\\\\n",
       "\\hline\n",
       "\t1 & Otu000002 & 0.9597701 & 0.9857550 & 0.152261940 & 0.077116635 &  1 &   1 &   1 &   3 & 859665 & Bacteria;Proteobacteria;Alphaproteobacteria;Sphingomonadales;Sphingomonadaceae;Sphingomonas;                   & Bacteria & Proteobacteria & Alphaproteobacteria & Sphingomonadales & Sphingomonadaceae & Sphingomonas                   & unknown\\\\\n",
       "\t12 & Otu000015 & 0.8879310 & 0.9857550 & 0.012862266 & 0.009924386 & 13 &   9 &   5 &   4 &  76207 & Bacteria;Proteobacteria;Alphaproteobacteria;Sphingomonadales;Sphingomonadaceae;Sphingomonas;                   & Bacteria & Proteobacteria & Alphaproteobacteria & Sphingomonadales & Sphingomonadaceae & Sphingomonas                   & unknown\\\\\n",
       "\t54 & Otu000072 & 0.5431034 & 0.8262108 & 0.004204736 & 0.002633940 & 37 &  59 &  31 &  87 &  19295 & Bacteria;Proteobacteria;Alphaproteobacteria;Sphingomonadales;Sphingomonadaceae;Sphingomonas;                   & Bacteria & Proteobacteria & Alphaproteobacteria & Sphingomonadales & Sphingomonadaceae & Sphingomonas                   & unknown\\\\\n",
       "\t216 & Otu000240 & 0.2183908 & 0.5925926 & 0.001810402 & 0.000548294 & 66 & 289 & 123 & 290 &   5243 & Bacteria;Proteobacteria;Alphaproteobacteria;Sphingomonadales;Sphingomonadaceae;Sphingomonas;                   & Bacteria & Proteobacteria & Alphaproteobacteria & Sphingomonadales & Sphingomonadaceae & Sphingomonas                   & unknown\\\\\n",
       "\t99 & Otu000118 & 0.2356322 & 0.8717949 & 0.001590370 & 0.001765751 & 73 &  82 & 112 &  58 &  10759 & Bacteria;Proteobacteria;Alphaproteobacteria;Sphingomonadales;Sphingomonadaceae;Sphingomonadaceae\\_unclassified; & Bacteria & Proteobacteria & Alphaproteobacteria & Sphingomonadales & Sphingomonadaceae & Sphingomonadaceae\\_unclassified & unknown\\\\\n",
       "\t36 & Otu000053 & 0.2298851 & 0.7264957 & 0.001430160 & 0.005202248 & 77 &  24 & 114 & 161 &  26409 & Bacteria;Proteobacteria;Alphaproteobacteria;Sphingomonadales;Sphingomonadaceae;Sphingomonas;                   & Bacteria & Proteobacteria & Alphaproteobacteria & Sphingomonadales & Sphingomonadaceae & Sphingomonas                   & unknown\\\\\n",
       "\\end{tabular}\n"
      ],
      "text/markdown": [
       "\n",
       "A data.frame: 6 × 18\n",
       "\n",
       "| <!--/--> | OTU &lt;chr&gt; | Endo_percentageOccurance &lt;dbl&gt; | Epi_percentageOccurance &lt;dbl&gt; | Endo_avarageRelativeAbundance &lt;dbl&gt; | Epi_avarageRelativeAbundance &lt;dbl&gt; | Rank_Endo_avarageRelativeAbundance &lt;int&gt; | Rank_Epi_avarageRelativeAbundance &lt;int&gt; | Rank_Endo_percentageOccurance &lt;int&gt; | Rank_Epi_percentageOccurance &lt;int&gt; | Size &lt;int&gt; | Taxonomy &lt;chr&gt; | Kingdom &lt;chr&gt; | Phylum &lt;chr&gt; | Class &lt;chr&gt; | Order &lt;chr&gt; | Family &lt;chr&gt; | Genus &lt;chr&gt; | Species &lt;chr&gt; |\n",
       "|---|---|---|---|---|---|---|---|---|---|---|---|---|---|---|---|---|---|---|\n",
       "| 1 | Otu000002 | 0.9597701 | 0.9857550 | 0.152261940 | 0.077116635 |  1 |   1 |   1 |   3 | 859665 | Bacteria;Proteobacteria;Alphaproteobacteria;Sphingomonadales;Sphingomonadaceae;Sphingomonas;                   | Bacteria | Proteobacteria | Alphaproteobacteria | Sphingomonadales | Sphingomonadaceae | Sphingomonas                   | unknown |\n",
       "| 12 | Otu000015 | 0.8879310 | 0.9857550 | 0.012862266 | 0.009924386 | 13 |   9 |   5 |   4 |  76207 | Bacteria;Proteobacteria;Alphaproteobacteria;Sphingomonadales;Sphingomonadaceae;Sphingomonas;                   | Bacteria | Proteobacteria | Alphaproteobacteria | Sphingomonadales | Sphingomonadaceae | Sphingomonas                   | unknown |\n",
       "| 54 | Otu000072 | 0.5431034 | 0.8262108 | 0.004204736 | 0.002633940 | 37 |  59 |  31 |  87 |  19295 | Bacteria;Proteobacteria;Alphaproteobacteria;Sphingomonadales;Sphingomonadaceae;Sphingomonas;                   | Bacteria | Proteobacteria | Alphaproteobacteria | Sphingomonadales | Sphingomonadaceae | Sphingomonas                   | unknown |\n",
       "| 216 | Otu000240 | 0.2183908 | 0.5925926 | 0.001810402 | 0.000548294 | 66 | 289 | 123 | 290 |   5243 | Bacteria;Proteobacteria;Alphaproteobacteria;Sphingomonadales;Sphingomonadaceae;Sphingomonas;                   | Bacteria | Proteobacteria | Alphaproteobacteria | Sphingomonadales | Sphingomonadaceae | Sphingomonas                   | unknown |\n",
       "| 99 | Otu000118 | 0.2356322 | 0.8717949 | 0.001590370 | 0.001765751 | 73 |  82 | 112 |  58 |  10759 | Bacteria;Proteobacteria;Alphaproteobacteria;Sphingomonadales;Sphingomonadaceae;Sphingomonadaceae_unclassified; | Bacteria | Proteobacteria | Alphaproteobacteria | Sphingomonadales | Sphingomonadaceae | Sphingomonadaceae_unclassified | unknown |\n",
       "| 36 | Otu000053 | 0.2298851 | 0.7264957 | 0.001430160 | 0.005202248 | 77 |  24 | 114 | 161 |  26409 | Bacteria;Proteobacteria;Alphaproteobacteria;Sphingomonadales;Sphingomonadaceae;Sphingomonas;                   | Bacteria | Proteobacteria | Alphaproteobacteria | Sphingomonadales | Sphingomonadaceae | Sphingomonas                   | unknown |\n",
       "\n"
      ],
      "text/plain": [
       "    OTU       Endo_percentageOccurance Epi_percentageOccurance\n",
       "1   Otu000002 0.9597701                0.9857550              \n",
       "12  Otu000015 0.8879310                0.9857550              \n",
       "54  Otu000072 0.5431034                0.8262108              \n",
       "216 Otu000240 0.2183908                0.5925926              \n",
       "99  Otu000118 0.2356322                0.8717949              \n",
       "36  Otu000053 0.2298851                0.7264957              \n",
       "    Endo_avarageRelativeAbundance Epi_avarageRelativeAbundance\n",
       "1   0.152261940                   0.077116635                 \n",
       "12  0.012862266                   0.009924386                 \n",
       "54  0.004204736                   0.002633940                 \n",
       "216 0.001810402                   0.000548294                 \n",
       "99  0.001590370                   0.001765751                 \n",
       "36  0.001430160                   0.005202248                 \n",
       "    Rank_Endo_avarageRelativeAbundance Rank_Epi_avarageRelativeAbundance\n",
       "1    1                                   1                              \n",
       "12  13                                   9                              \n",
       "54  37                                  59                              \n",
       "216 66                                 289                              \n",
       "99  73                                  82                              \n",
       "36  77                                  24                              \n",
       "    Rank_Endo_percentageOccurance Rank_Epi_percentageOccurance Size  \n",
       "1     1                             3                          859665\n",
       "12    5                             4                           76207\n",
       "54   31                            87                           19295\n",
       "216 123                           290                            5243\n",
       "99  112                            58                           10759\n",
       "36  114                           161                           26409\n",
       "    Taxonomy                                                                                                      \n",
       "1   Bacteria;Proteobacteria;Alphaproteobacteria;Sphingomonadales;Sphingomonadaceae;Sphingomonas;                  \n",
       "12  Bacteria;Proteobacteria;Alphaproteobacteria;Sphingomonadales;Sphingomonadaceae;Sphingomonas;                  \n",
       "54  Bacteria;Proteobacteria;Alphaproteobacteria;Sphingomonadales;Sphingomonadaceae;Sphingomonas;                  \n",
       "216 Bacteria;Proteobacteria;Alphaproteobacteria;Sphingomonadales;Sphingomonadaceae;Sphingomonas;                  \n",
       "99  Bacteria;Proteobacteria;Alphaproteobacteria;Sphingomonadales;Sphingomonadaceae;Sphingomonadaceae_unclassified;\n",
       "36  Bacteria;Proteobacteria;Alphaproteobacteria;Sphingomonadales;Sphingomonadaceae;Sphingomonas;                  \n",
       "    Kingdom  Phylum         Class               Order           \n",
       "1   Bacteria Proteobacteria Alphaproteobacteria Sphingomonadales\n",
       "12  Bacteria Proteobacteria Alphaproteobacteria Sphingomonadales\n",
       "54  Bacteria Proteobacteria Alphaproteobacteria Sphingomonadales\n",
       "216 Bacteria Proteobacteria Alphaproteobacteria Sphingomonadales\n",
       "99  Bacteria Proteobacteria Alphaproteobacteria Sphingomonadales\n",
       "36  Bacteria Proteobacteria Alphaproteobacteria Sphingomonadales\n",
       "    Family            Genus                          Species\n",
       "1   Sphingomonadaceae Sphingomonas                   unknown\n",
       "12  Sphingomonadaceae Sphingomonas                   unknown\n",
       "54  Sphingomonadaceae Sphingomonas                   unknown\n",
       "216 Sphingomonadaceae Sphingomonas                   unknown\n",
       "99  Sphingomonadaceae Sphingomonadaceae_unclassified unknown\n",
       "36  Sphingomonadaceae Sphingomonas                   unknown"
      ]
     },
     "metadata": {},
     "output_type": "display_data"
    }
   ],
   "source": [
    "head(df51)\n",
    "head(df52)\n",
    "head(df53)\n",
    "head(df54)\n",
    "write.table(df51,'Vasvi/Epi_percentageOccurance.csv' , row.names=FALSE , quote = FALSE , sep='\\t')\n",
    "\n",
    "write.table(df52,'Vasvi/Endo_percentageOccurance.csv' , row.names=FALSE , quote = FALSE , sep='\\t')\n",
    "\n",
    "\n",
    "write.table(df53,'Vasvi/Epi_avarageRelativeAbundance.csv' , row.names=FALSE , quote = FALSE , sep='\\t')\n",
    "write.table(df54,'Vasvi/Endo_avarageRelativeAbundance.csv' , row.names=FALSE , quote = FALSE , sep='\\t')"
   ]
  },
  {
   "cell_type": "code",
   "execution_count": 129,
   "id": "f96ddb83-e837-4d19-81bf-2ba063a4d80b",
   "metadata": {},
   "outputs": [
    {
     "name": "stdout",
     "output_type": "stream",
     "text": [
      "[1] 0.3589744\n",
      "[1] 0.1005747\n"
     ]
    }
   ],
   "source": [
    "print(3.589744E-01)\n",
    "print(1.005747e-01)"
   ]
  },
  {
   "cell_type": "code",
   "execution_count": 131,
   "id": "9848f299-1dc5-4339-8738-dcfeaa18457f",
   "metadata": {},
   "outputs": [
    {
     "name": "stdout",
     "output_type": "stream",
     "text": [
      "'data.frame':\t257 obs. of  18 variables:\n",
      " $ OTU                               : chr  \"Otu000002\" \"Otu000015\" \"Otu000053\" \"Otu000061\" ...\n",
      " $ Endo_percentageOccurance          : chr  \"0.95977011\" \"0.887931034\" \"0.229885057\" \"0.1752873563\" ...\n",
      " $ Epi_percentageOccurance           : chr  \"0.98575499\" \"0.985754986\" \"0.726495726\" \"0.9344729345\" ...\n",
      " $ Endo_avarageRelativeAbundance     : chr  \"0.15226194\" \"0.012862266\" \"0.001430160\" \"0.0003454368\" ...\n",
      " $ Epi_avarageRelativeAbundance      : chr  \"0.07711663\" \"0.009924386\" \"0.005202248\" \"0.0040624419\" ...\n",
      " $ Rank_Endo_avarageRelativeAbundance: int  3742 3754 3817 3942 3818 3778 4099 4118 3813 3824 ...\n",
      " $ Rank_Epi_avarageRelativeAbundance : int  4874 4882 4897 4905 4911 4932 4929 4945 4954 4967 ...\n",
      " $ Rank_Endo_percentageOccurance     : int  3742 3746 3855 3912 3771 3772 3973 3974 3852 3789 ...\n",
      " $ Rank_Epi_percentageOccurance      : int  4876 4877 5017 4899 4908 4961 4915 4958 4931 4971 ...\n",
      " $ Size                              : int  859665 76207 26409 23409 22682 19295 15217 11361 10759 10395 ...\n",
      " $ Taxonomy                          : chr  \"Bacteria;Proteobacteria;Alphaproteobacteria;Sphingomonadales;Sphingomonadaceae;Sphingomonas;\" \"Bacteria;Proteobacteria;Alphaproteobacteria;Sphingomonadales;Sphingomonadaceae;Sphingomonas;\" \"Bacteria;Proteobacteria;Alphaproteobacteria;Sphingomonadales;Sphingomonadaceae;Sphingomonas;\" \"Bacteria;Proteobacteria;Alphaproteobacteria;Sphingomonadales;Sphingomonadaceae;Sphingomonas;\" ...\n",
      " $ Kingdom                           : chr  \"Bacteria\" \"Bacteria\" \"Bacteria\" \"Bacteria\" ...\n",
      " $ Phylum                            : chr  \"Proteobacteria\" \"Proteobacteria\" \"Proteobacteria\" \"Proteobacteria\" ...\n",
      " $ Class                             : chr  \"Alphaproteobacteria\" \"Alphaproteobacteria\" \"Alphaproteobacteria\" \"Alphaproteobacteria\" ...\n",
      " $ Order                             : chr  \"Sphingomonadales\" \"Sphingomonadales\" \"Sphingomonadales\" \"Sphingomonadales\" ...\n",
      " $ Family                            : chr  \"Sphingomonadaceae\" \"Sphingomonadaceae\" \"Sphingomonadaceae\" \"Sphingomonadaceae\" ...\n",
      " $ Genus                             : chr  \"Sphingomonas\" \"Sphingomonas\" \"Sphingomonas\" \"Sphingomonas\" ...\n",
      " $ Species                           : chr  \"unknown\" \"unknown\" \"unknown\" \"unknown\" ...\n"
     ]
    }
   ],
   "source": [
    "str(df5)"
   ]
  }
 ],
 "metadata": {
  "kernelspec": {
   "display_name": "R",
   "language": "R",
   "name": "ir"
  },
  "language_info": {
   "codemirror_mode": "r",
   "file_extension": ".r",
   "mimetype": "text/x-r-source",
   "name": "R",
   "pygments_lexer": "r",
   "version": "4.1.2"
  }
 },
 "nbformat": 4,
 "nbformat_minor": 5
}
